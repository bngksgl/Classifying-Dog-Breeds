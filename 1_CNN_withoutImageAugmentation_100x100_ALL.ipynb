{
 "cells": [
  {
   "cell_type": "markdown",
   "metadata": {},
   "source": [
    "# 1. CNN from scratch without Image Augmentation"
   ]
  },
  {
   "cell_type": "markdown",
   "metadata": {},
   "source": [
    "https://towardsdatascience.com/a-comprehensive-hands-on-guide-to-transfer-learning-with-real-world-applications-in-deep-learning-212bf3b2f27a"
   ]
  },
  {
   "cell_type": "code",
   "execution_count": 1,
   "metadata": {},
   "outputs": [
    {
     "name": "stderr",
     "output_type": "stream",
     "text": [
      "Using TensorFlow backend.\n"
     ]
    }
   ],
   "source": [
    "import os,shutil,math,scipy,cv2\n",
    "import numpy as np\n",
    "from keras.preprocessing.image import ImageDataGenerator, load_img, img_to_array, array_to_img\n",
    "from sklearn.preprocessing import LabelEncoder\n",
    "from sklearn.model_selection import train_test_split\n",
    "from keras.layers import Conv2D, MaxPooling2D, Flatten, Dense, Dropout\n",
    "from keras.models import Sequential\n",
    "from keras import optimizers\n",
    "import matplotlib.pyplot as plt\n",
    "from sklearn.metrics import accuracy_score\n",
    "from keras.utils.np_utils import to_categorical\n",
    "from IPython.display import display \n",
    "from PIL import Image"
   ]
  },
  {
   "cell_type": "code",
   "execution_count": 2,
   "metadata": {},
   "outputs": [],
   "source": [
    "def redo_kreas_category(arr):\n",
    "    redo=[]\n",
    "    for i in arr:\n",
    "        redo.append(list(i).index(1))\n",
    "    return redo"
   ]
  },
  {
   "cell_type": "markdown",
   "metadata": {},
   "source": [
    "- Get Data"
   ]
  },
  {
   "cell_type": "code",
   "execution_count": 3,
   "metadata": {},
   "outputs": [],
   "source": [
    "lists=os.listdir(os.getcwd()+'/Images')\n",
    "lists.remove( '.DS_Store')"
   ]
  },
  {
   "cell_type": "code",
   "execution_count": 4,
   "metadata": {},
   "outputs": [
    {
     "name": "stdout",
     "output_type": "stream",
     "text": [
      "/home/bengikoseoglu\n",
      "/home/bengikoseoglu/Project/Images/\n"
     ]
    }
   ],
   "source": [
    "cur_dir = os.path.dirname(os.path.realpath(os.getcwd()))\n",
    "paths=cur_dir+'/Project/Images/'\n",
    "\n",
    "print(cur_dir)\n",
    "print(paths)"
   ]
  },
  {
   "cell_type": "code",
   "execution_count": 5,
   "metadata": {},
   "outputs": [],
   "source": [
    "true_labels = []\n",
    "#imgsize=224\n",
    "imgsize=100\n",
    "#result_array = np.zeros((20580, imgsize, imgsize, 3))\n",
    "result_array = np.zeros((20580, imgsize, imgsize, 3))\n",
    "cur_dir = os.path.dirname(os.path.realpath(os.getcwd()))\n",
    "paths=cur_dir+'/Project/Images/'\n",
    "# we have 20580 images\n",
    "\n",
    "\n",
    "j=0\n",
    "for i in lists:\n",
    "    images=os.listdir(paths+i)\n",
    "    label=i[10:]\n",
    "    for k in images:\n",
    "        img = cv2.imread(paths+i+'/'+k,cv2.IMREAD_COLOR)\n",
    "        img = cv2.resize(img,(imgsize,imgsize))\n",
    "        true_labels.append(label)\n",
    "        result_array[j,:,:,:]=np.array(img)\n",
    "        j=j+1"
   ]
  },
  {
   "cell_type": "code",
   "execution_count": 6,
   "metadata": {},
   "outputs": [
    {
     "data": {
      "text/plain": [
       "(20580, 100, 100, 3)"
      ]
     },
     "execution_count": 6,
     "metadata": {},
     "output_type": "execute_result"
    }
   ],
   "source": [
    "result_array.shape"
   ]
  },
  {
   "cell_type": "code",
   "execution_count": 17,
   "metadata": {},
   "outputs": [
    {
     "data": {
      "text/plain": [
       "20580"
      ]
     },
     "execution_count": 17,
     "metadata": {},
     "output_type": "execute_result"
    }
   ],
   "source": [
    "len(true_labels)"
   ]
  },
  {
   "cell_type": "code",
   "execution_count": 18,
   "metadata": {},
   "outputs": [
    {
     "data": {
      "text/plain": [
       "120"
      ]
     },
     "execution_count": 18,
     "metadata": {},
     "output_type": "execute_result"
    }
   ],
   "source": [
    "len(np.unique(np.array(true_labels)))"
   ]
  },
  {
   "cell_type": "markdown",
   "metadata": {},
   "source": [
    "- Scaling"
   ]
  },
  {
   "cell_type": "markdown",
   "metadata": {},
   "source": [
    "Each image is of size 224 x 224 and has three channels for red, green, and blue (RGB), hence giving each image the (224, 224, 3) dimensions. We will now scale each image with pixel values between (0, 255) to values between (0, 1) because deep learning models work really well with small input values.\n"
   ]
  },
  {
   "cell_type": "code",
   "execution_count": 8,
   "metadata": {},
   "outputs": [],
   "source": [
    "resultarray_scaled = result_array.astype('float32')\n",
    "resultarray_scaled = resultarray_scaled/255"
   ]
  },
  {
   "cell_type": "code",
   "execution_count": 9,
   "metadata": {
    "scrolled": true
   },
   "outputs": [
    {
     "data": {
      "text/plain": [
       "array([[[ 53., 120., 153.],\n",
       "        [ 33.,  97., 132.],\n",
       "        [ 27.,  86., 125.],\n",
       "        ...,\n",
       "        [ 65.,  84.,  57.],\n",
       "        [ 66.,  85.,  58.],\n",
       "        [ 72.,  94.,  58.]],\n",
       "\n",
       "       [[  0.,  93., 155.],\n",
       "        [  0.,  89., 154.],\n",
       "        [  0.,  91., 157.],\n",
       "        ...,\n",
       "        [ 63.,  86.,  54.],\n",
       "        [ 87., 109.,  80.],\n",
       "        [ 90., 112.,  83.]],\n",
       "\n",
       "       [[  1., 110., 164.],\n",
       "        [  2., 114., 169.],\n",
       "        [  3., 118., 174.],\n",
       "        ...,\n",
       "        [102., 131.,  92.],\n",
       "        [107., 133., 101.],\n",
       "        [ 60.,  82.,  62.]],\n",
       "\n",
       "       ...,\n",
       "\n",
       "       [[119., 172., 192.],\n",
       "        [109., 162., 183.],\n",
       "        [115., 167., 190.],\n",
       "        ...,\n",
       "        [210., 236., 248.],\n",
       "        [170., 214., 238.],\n",
       "        [126., 175., 196.]],\n",
       "\n",
       "       [[102., 159., 181.],\n",
       "        [105., 161., 185.],\n",
       "        [ 94., 149., 176.],\n",
       "        ...,\n",
       "        [198., 225., 237.],\n",
       "        [143., 185., 209.],\n",
       "        [183., 232., 250.]],\n",
       "\n",
       "       [[ 86., 140., 164.],\n",
       "        [111., 162., 194.],\n",
       "        [ 90., 142., 172.],\n",
       "        ...,\n",
       "        [ 99., 152., 185.],\n",
       "        [117., 167., 195.],\n",
       "        [ 85., 132., 156.]]])"
      ]
     },
     "execution_count": 9,
     "metadata": {},
     "output_type": "execute_result"
    }
   ],
   "source": [
    "result_array[0]"
   ]
  },
  {
   "cell_type": "code",
   "execution_count": 10,
   "metadata": {
    "scrolled": true
   },
   "outputs": [
    {
     "data": {
      "text/plain": [
       "array([[[0.20784314, 0.47058824, 0.6       ],\n",
       "        [0.12941177, 0.38039216, 0.5176471 ],\n",
       "        [0.10588235, 0.3372549 , 0.49019608],\n",
       "        ...,\n",
       "        [0.25490198, 0.32941177, 0.22352941],\n",
       "        [0.25882354, 0.33333334, 0.22745098],\n",
       "        [0.28235295, 0.36862746, 0.22745098]],\n",
       "\n",
       "       [[0.        , 0.3647059 , 0.60784316],\n",
       "        [0.        , 0.34901962, 0.6039216 ],\n",
       "        [0.        , 0.35686275, 0.6156863 ],\n",
       "        ...,\n",
       "        [0.24705882, 0.3372549 , 0.21176471],\n",
       "        [0.34117648, 0.42745098, 0.3137255 ],\n",
       "        [0.3529412 , 0.4392157 , 0.3254902 ]],\n",
       "\n",
       "       [[0.00392157, 0.43137255, 0.6431373 ],\n",
       "        [0.00784314, 0.44705883, 0.6627451 ],\n",
       "        [0.01176471, 0.4627451 , 0.68235296],\n",
       "        ...,\n",
       "        [0.4       , 0.5137255 , 0.36078432],\n",
       "        [0.41960785, 0.52156866, 0.39607844],\n",
       "        [0.23529412, 0.32156864, 0.24313726]],\n",
       "\n",
       "       ...,\n",
       "\n",
       "       [[0.46666667, 0.6745098 , 0.7529412 ],\n",
       "        [0.42745098, 0.63529414, 0.7176471 ],\n",
       "        [0.4509804 , 0.654902  , 0.74509805],\n",
       "        ...,\n",
       "        [0.8235294 , 0.9254902 , 0.972549  ],\n",
       "        [0.6666667 , 0.8392157 , 0.93333334],\n",
       "        [0.49411765, 0.6862745 , 0.76862746]],\n",
       "\n",
       "       [[0.4       , 0.62352943, 0.70980394],\n",
       "        [0.4117647 , 0.6313726 , 0.7254902 ],\n",
       "        [0.36862746, 0.58431375, 0.6901961 ],\n",
       "        ...,\n",
       "        [0.7764706 , 0.88235295, 0.92941177],\n",
       "        [0.56078434, 0.7254902 , 0.81960785],\n",
       "        [0.7176471 , 0.9098039 , 0.98039216]],\n",
       "\n",
       "       [[0.3372549 , 0.54901963, 0.6431373 ],\n",
       "        [0.43529412, 0.63529414, 0.7607843 ],\n",
       "        [0.3529412 , 0.5568628 , 0.6745098 ],\n",
       "        ...,\n",
       "        [0.3882353 , 0.59607846, 0.7254902 ],\n",
       "        [0.45882353, 0.654902  , 0.7647059 ],\n",
       "        [0.33333334, 0.5176471 , 0.6117647 ]]], dtype=float32)"
      ]
     },
     "execution_count": 10,
     "metadata": {},
     "output_type": "execute_result"
    }
   ],
   "source": [
    "resultarray_scaled[0]"
   ]
  },
  {
   "cell_type": "code",
   "execution_count": 13,
   "metadata": {},
   "outputs": [
    {
     "data": {
      "image/png": "[encoded data removed]",
      "text/plain": [
       "<PIL.Image.Image image mode=RGB size=100x100 at 0x7F529456A160>"
      ]
     },
     "execution_count": 13,
     "metadata": {},
     "output_type": "execute_result"
    }
   ],
   "source": [
    "array_to_img(result_array[0])"
   ]
  },
  {
   "cell_type": "code",
   "execution_count": 11,
   "metadata": {},
   "outputs": [
    {
     "data": {
      "image/png": "[encoded data removed]",
      "text/plain": [
       "<PIL.Image.Image image mode=RGB size=100x100 at 0x7F53BAC8EBE0>"
      ]
     },
     "execution_count": 11,
     "metadata": {},
     "output_type": "execute_result"
    }
   ],
   "source": [
    "array_to_img(resultarray_scaled[0])"
   ]
  },
  {
   "cell_type": "markdown",
   "metadata": {},
   "source": [
    "- Train test split & encode y labels"
   ]
  },
  {
   "cell_type": "code",
   "execution_count": 14,
   "metadata": {},
   "outputs": [
    {
     "name": "stdout",
     "output_type": "stream",
     "text": [
      "['miniature_schnauzer', 'miniature_schnauzer', 'miniature_schnauzer', 'miniature_schnauzer', 'miniature_schnauzer', 'miniature_schnauzer', 'miniature_schnauzer', 'miniature_schnauzer', 'miniature_schnauzer', 'miniature_schnauzer'] [[0. 0. 0. ... 0. 0. 0.]\n",
      " [0. 0. 0. ... 0. 0. 0.]\n",
      " [0. 0. 0. ... 0. 0. 0.]\n",
      " ...\n",
      " [0. 0. 0. ... 0. 0. 0.]\n",
      " [0. 0. 0. ... 0. 0. 0.]\n",
      " [0. 0. 0. ... 0. 0. 0.]]\n"
     ]
    }
   ],
   "source": [
    "le = LabelEncoder()\n",
    "le.fit(true_labels)\n",
    "all_labels_enc = le.transform(true_labels)\n",
    "all_labels_enc = to_categorical(all_labels_enc,len(np.array(np.unique(true_labels))))\n",
    "\n",
    "print(true_labels[0:10], all_labels_enc[0:10])"
   ]
  },
  {
   "cell_type": "code",
   "execution_count": 19,
   "metadata": {},
   "outputs": [],
   "source": [
    "X = resultarray_scaled\n",
    "\n",
    "X_train, X_test, y_train, y_test = train_test_split(X,all_labels_enc,test_size=0.2,random_state=69)\n",
    "X_train, X_val, y_train, y_val  = train_test_split(X_train,y_train,test_size=0.2,random_state=69)"
   ]
  },
  {
   "cell_type": "markdown",
   "metadata": {},
   "source": [
    "- Modeling"
   ]
  },
  {
   "cell_type": "code",
   "execution_count": 27,
   "metadata": {},
   "outputs": [],
   "source": [
    "batch_size = 100 #number of images passed to the operation in every iteration\n",
    "num_classes = len(np.array(np.unique(true_labels))) # target class\n",
    "epochs = 10   #number of times the entire dataset has gone through the neural network\n",
    "input_shape = (imgsize, imgsize, 3)"
   ]
  },
  {
   "cell_type": "code",
   "execution_count": 28,
   "metadata": {},
   "outputs": [
    {
     "name": "stdout",
     "output_type": "stream",
     "text": [
      "_________________________________________________________________\n",
      "Layer (type)                 Output Shape              Param #   \n",
      "=================================================================\n",
      "conv2d_10 (Conv2D)           (None, 98, 98, 16)        448       \n",
      "_________________________________________________________________\n",
      "max_pooling2d_10 (MaxPooling (None, 49, 49, 16)        0         \n",
      "_________________________________________________________________\n",
      "conv2d_11 (Conv2D)           (None, 47, 47, 64)        9280      \n",
      "_________________________________________________________________\n",
      "max_pooling2d_11 (MaxPooling (None, 23, 23, 64)        0         \n",
      "_________________________________________________________________\n",
      "conv2d_12 (Conv2D)           (None, 21, 21, 128)       73856     \n",
      "_________________________________________________________________\n",
      "max_pooling2d_12 (MaxPooling (None, 10, 10, 128)       0         \n",
      "_________________________________________________________________\n",
      "flatten_4 (Flatten)          (None, 12800)             0         \n",
      "_________________________________________________________________\n",
      "dense_7 (Dense)              (None, 512)               6554112   \n",
      "_________________________________________________________________\n",
      "dense_8 (Dense)              (None, 120)               61560     \n",
      "=================================================================\n",
      "Total params: 6,699,256\n",
      "Trainable params: 6,699,256\n",
      "Non-trainable params: 0\n",
      "_________________________________________________________________\n"
     ]
    }
   ],
   "source": [
    "model = Sequential()\n",
    "\n",
    "# Conv2D= filters: Integer, the dimensionality of the output space (i.e. the number of output filters in the \n",
    "# convolution). Kernel size is your filter size. \n",
    "\n",
    "# maxpooling = pool_size: Integer, size of the max pooling windows.\n",
    "\n",
    "# flatten = Flattens the input. Does not affect the batch size. If the batch size is (batch, ) then this \n",
    "# will become (batch,1). Flatten flattens the output, \n",
    "\n",
    "# Dense = fully connected layer. takes input and output arrays of shape (*, 32)\n",
    "\n",
    "\n",
    "\n",
    "model.add(Conv2D(16, kernel_size=(3, 3), activation='relu', \n",
    "                 input_shape=input_shape))\n",
    "model.add(MaxPooling2D(pool_size=(2, 2)))\n",
    "\n",
    "model.add(Conv2D(64, kernel_size=(3, 3), activation='relu'))\n",
    "model.add(MaxPooling2D(pool_size=(2, 2)))\n",
    "\n",
    "model.add(Conv2D(128, kernel_size=(3, 3), activation='relu'))\n",
    "model.add(MaxPooling2D(pool_size=(2, 2)))\n",
    "\n",
    "model.add(Flatten())\n",
    "model.add(Dense(512, activation='relu'))\n",
    "# dense layer, output should be the same as \n",
    "model.add(Dense(len(np.array(np.unique(true_labels))), activation='softmax'))\n",
    "\n",
    "\n",
    "model.compile(loss='categorical_crossentropy',\n",
    "              optimizer=optimizers.RMSprop(),\n",
    "              metrics=['accuracy'])\n",
    "\n",
    "model.summary()"
   ]
  },
  {
   "cell_type": "code",
   "execution_count": 29,
   "metadata": {},
   "outputs": [
    {
     "name": "stdout",
     "output_type": "stream",
     "text": [
      "Train on 13171 samples, validate on 3293 samples\n",
      "Epoch 1/10\n",
      "13171/13171 [==============================] - 181s 14ms/step - loss: 4.7340 - acc: 0.0204 - val_loss: 4.4895 - val_acc: 0.0495\n",
      "Epoch 2/10\n",
      "13171/13171 [==============================] - 181s 14ms/step - loss: 4.3452 - acc: 0.0580 - val_loss: 4.2949 - val_acc: 0.0659\n",
      "Epoch 3/10\n",
      "13171/13171 [==============================] - 181s 14ms/step - loss: 3.9003 - acc: 0.1210 - val_loss: 4.3822 - val_acc: 0.0729\n",
      "Epoch 4/10\n",
      "13171/13171 [==============================] - 181s 14ms/step - loss: 3.1386 - acc: 0.2656 - val_loss: 4.5482 - val_acc: 0.0914\n",
      "Epoch 5/10\n",
      "13171/13171 [==============================] - 181s 14ms/step - loss: 2.0535 - acc: 0.4948 - val_loss: 5.5928 - val_acc: 0.0747\n",
      "Epoch 6/10\n",
      "13171/13171 [==============================] - 181s 14ms/step - loss: 1.0276 - acc: 0.7381 - val_loss: 6.8096 - val_acc: 0.0708\n",
      "Epoch 7/10\n",
      "13171/13171 [==============================] - 181s 14ms/step - loss: 0.4455 - acc: 0.8868 - val_loss: 8.1783 - val_acc: 0.0738\n",
      "Epoch 8/10\n",
      "13171/13171 [==============================] - 181s 14ms/step - loss: 0.2276 - acc: 0.9482 - val_loss: 9.8387 - val_acc: 0.0738\n",
      "Epoch 9/10\n",
      "13171/13171 [==============================] - 180s 14ms/step - loss: 0.1813 - acc: 0.9588 - val_loss: 9.8293 - val_acc: 0.0717\n",
      "Epoch 10/10\n",
      "13171/13171 [==============================] - 180s 14ms/step - loss: 0.1439 - acc: 0.9667 - val_loss: 10.5398 - val_acc: 0.0677\n"
     ]
    }
   ],
   "source": [
    "history = model.fit(x=X_train, y=y_train,\n",
    "                    validation_data=(X_val, y_val),\n",
    "                    batch_size=batch_size,\n",
    "                    epochs=epochs,\n",
    "                    verbose=1)"
   ]
  },
  {
   "cell_type": "code",
   "execution_count": 30,
   "metadata": {},
   "outputs": [
    {
     "data": {
      "text/plain": [
       "dict_keys(['val_loss', 'val_acc', 'loss', 'acc'])"
      ]
     },
     "execution_count": 30,
     "metadata": {},
     "output_type": "execute_result"
    }
   ],
   "source": [
    "history.history.keys()"
   ]
  },
  {
   "cell_type": "code",
   "execution_count": 31,
   "metadata": {
    "scrolled": true
   },
   "outputs": [
    {
     "data": {
      "text/plain": [
       "[array([[[[0.03921569, 0.32941177, 0.2784314 ],\n",
       "          [0.20392157, 0.45882353, 0.42352942],\n",
       "          [0.19215687, 0.38431373, 0.39215687],\n",
       "          ...,\n",
       "          [0.1882353 , 0.5019608 , 0.39607844],\n",
       "          [0.14117648, 0.40784314, 0.3019608 ],\n",
       "          [0.18039216, 0.38039216, 0.28627452]],\n",
       " \n",
       "         [[0.12156863, 0.39607844, 0.3529412 ],\n",
       "          [0.09019608, 0.33333334, 0.3137255 ],\n",
       "          [0.13333334, 0.3254902 , 0.3372549 ],\n",
       "          ...,\n",
       "          [0.22352941, 0.48235294, 0.38431373],\n",
       "          [0.10980392, 0.34901962, 0.24705882],\n",
       "          [0.16470589, 0.3529412 , 0.25882354]],\n",
       " \n",
       "         [[0.07058824, 0.32156864, 0.29803923],\n",
       "          [0.07058824, 0.29803923, 0.29411766],\n",
       "          [0.15686275, 0.3529412 , 0.38039216],\n",
       "          ...,\n",
       "          [0.14901961, 0.34901962, 0.25882354],\n",
       "          [0.13725491, 0.3254902 , 0.23137255],\n",
       "          [0.18431373, 0.3647059 , 0.27450982]],\n",
       " \n",
       "         ...,\n",
       " \n",
       "         [[0.12941177, 0.40392157, 0.3019608 ],\n",
       "          [0.16078432, 0.4392157 , 0.3372549 ],\n",
       "          [0.10196079, 0.38039216, 0.2784314 ],\n",
       "          ...,\n",
       "          [0.2509804 , 0.57254905, 0.5764706 ],\n",
       "          [0.23529412, 0.56078434, 0.5647059 ],\n",
       "          [0.32156864, 0.6509804 , 0.654902  ]],\n",
       " \n",
       "         [[0.09803922, 0.3647059 , 0.25490198],\n",
       "          [0.1882353 , 0.45490196, 0.34117648],\n",
       "          [0.10196079, 0.3647059 , 0.25490198],\n",
       "          ...,\n",
       "          [0.3019608 , 0.62352943, 0.63529414],\n",
       "          [0.26666668, 0.5882353 , 0.6039216 ],\n",
       "          [0.27450982, 0.6       , 0.6117647 ]],\n",
       " \n",
       "         [[0.10980392, 0.36078432, 0.25882354],\n",
       "          [0.14509805, 0.4       , 0.29803923],\n",
       "          [0.14901961, 0.4       , 0.29803923],\n",
       "          ...,\n",
       "          [0.19607843, 0.52156866, 0.52156866],\n",
       "          [0.21960784, 0.54509807, 0.5529412 ],\n",
       "          [0.21176471, 0.5372549 , 0.54509807]]],\n",
       " \n",
       " \n",
       "        [[[0.6666667 , 0.627451  , 0.6       ],\n",
       "          [0.6862745 , 0.64705884, 0.61960787],\n",
       "          [0.6901961 , 0.6509804 , 0.62352943],\n",
       "          ...,\n",
       "          [0.63529414, 0.59607846, 0.5686275 ],\n",
       "          [0.59607846, 0.5568628 , 0.5294118 ],\n",
       "          [0.60784316, 0.5686275 , 0.5411765 ]],\n",
       " \n",
       "         [[0.68235296, 0.6431373 , 0.6156863 ],\n",
       "          [0.7137255 , 0.6745098 , 0.64705884],\n",
       "          [0.7019608 , 0.6627451 , 0.63529414],\n",
       "          ...,\n",
       "          [0.62352943, 0.58431375, 0.5568628 ],\n",
       "          [0.61960787, 0.5803922 , 0.5529412 ],\n",
       "          [0.6156863 , 0.5764706 , 0.54901963]],\n",
       " \n",
       "         [[0.6862745 , 0.64705884, 0.61960787],\n",
       "          [0.7372549 , 0.69803923, 0.67058825],\n",
       "          [0.7058824 , 0.6666667 , 0.6431373 ],\n",
       "          ...,\n",
       "          [0.6313726 , 0.5921569 , 0.5647059 ],\n",
       "          [0.627451  , 0.5882353 , 0.56078434],\n",
       "          [0.61960787, 0.5803922 , 0.5529412 ]],\n",
       " \n",
       "         ...,\n",
       " \n",
       "         [[0.8       , 0.84705883, 0.7294118 ],\n",
       "          [0.81960785, 0.8666667 , 0.7647059 ],\n",
       "          [0.35686275, 0.36078432, 0.28235295],\n",
       "          ...,\n",
       "          [0.25882354, 0.29411766, 0.28627452],\n",
       "          [0.23921569, 0.2784314 , 0.26666668],\n",
       "          [0.2627451 , 0.31764707, 0.3019608 ]],\n",
       " \n",
       "         [[0.77254903, 0.81960785, 0.7019608 ],\n",
       "          [0.75686276, 0.80784315, 0.7058824 ],\n",
       "          [0.41960785, 0.41960785, 0.34117648],\n",
       "          ...,\n",
       "          [0.25882354, 0.29411766, 0.28235295],\n",
       "          [0.24313726, 0.28235295, 0.27058825],\n",
       "          [0.17254902, 0.22745098, 0.21176471]],\n",
       " \n",
       "         [[0.76862746, 0.81960785, 0.69803923],\n",
       "          [0.74509805, 0.79607844, 0.69411767],\n",
       "          [0.5019608 , 0.5058824 , 0.42745098],\n",
       "          ...,\n",
       "          [0.24705882, 0.28235295, 0.27058825],\n",
       "          [0.22352941, 0.25882354, 0.24705882],\n",
       "          [0.2       , 0.25490198, 0.23921569]]],\n",
       " \n",
       " \n",
       "        [[[0.2627451 , 0.34901962, 0.34117648],\n",
       "          [0.2627451 , 0.34901962, 0.34117648],\n",
       "          [0.29411766, 0.3764706 , 0.38039216],\n",
       "          ...,\n",
       "          [0.39215687, 0.41960785, 0.40784314],\n",
       "          [0.4862745 , 0.50980395, 0.49803922],\n",
       "          [0.42352942, 0.44313726, 0.43529412]],\n",
       " \n",
       "         [[0.2784314 , 0.3529412 , 0.38039216],\n",
       "          [0.27058825, 0.34509805, 0.37254903],\n",
       "          [0.24705882, 0.32156864, 0.3529412 ],\n",
       "          ...,\n",
       "          [0.49803922, 0.50980395, 0.5019608 ],\n",
       "          [0.43137255, 0.45882353, 0.44705883],\n",
       "          [0.38039216, 0.42352942, 0.4117647 ]],\n",
       " \n",
       "         [[0.28235295, 0.36078432, 0.38039216],\n",
       "          [0.2627451 , 0.34117648, 0.36078432],\n",
       "          [0.28235295, 0.35686275, 0.38431373],\n",
       "          ...,\n",
       "          [0.35686275, 0.43137255, 0.4509804 ],\n",
       "          [0.32941177, 0.40392157, 0.42352942],\n",
       "          [0.46666667, 0.5294118 , 0.5529412 ]],\n",
       " \n",
       "         ...,\n",
       " \n",
       "         [[0.16078432, 0.19215687, 0.21960784],\n",
       "          [0.1254902 , 0.15686275, 0.1882353 ],\n",
       "          [0.        , 0.01568628, 0.03137255],\n",
       "          ...,\n",
       "          [0.02352941, 0.04313726, 0.03529412],\n",
       "          [0.07450981, 0.09411765, 0.08627451],\n",
       "          [0.07058824, 0.07450981, 0.06666667]],\n",
       " \n",
       "         [[0.00392157, 0.05490196, 0.04705882],\n",
       "          [0.02352941, 0.        , 0.01960784],\n",
       "          [0.02745098, 0.09411765, 0.11372549],\n",
       "          ...,\n",
       "          [0.14117648, 0.31764707, 0.21176471],\n",
       "          [0.01176471, 0.14901961, 0.05882353],\n",
       "          [0.01176471, 0.11764706, 0.03921569]],\n",
       " \n",
       "         [[0.09019608, 0.1254902 , 0.16862746],\n",
       "          [0.47058824, 0.69803923, 0.7490196 ],\n",
       "          [0.16862746, 0.50980395, 0.5568628 ],\n",
       "          ...,\n",
       "          [0.1254902 , 0.22352941, 0.16862746],\n",
       "          [0.10196079, 0.22745098, 0.17254902],\n",
       "          [0.07058824, 0.21960784, 0.14901961]]],\n",
       " \n",
       " \n",
       "        ...,\n",
       " \n",
       " \n",
       "        [[[0.13725491, 0.25882354, 0.5686275 ],\n",
       "          [0.13725491, 0.25882354, 0.5686275 ],\n",
       "          [0.13333334, 0.25490198, 0.5647059 ],\n",
       "          ...,\n",
       "          [0.18431373, 0.34509805, 0.654902  ],\n",
       "          [0.18431373, 0.34509805, 0.654902  ],\n",
       "          [0.18039216, 0.34117648, 0.6509804 ]],\n",
       " \n",
       "         [[0.13725491, 0.25882354, 0.5686275 ],\n",
       "          [0.13725491, 0.25882354, 0.5686275 ],\n",
       "          [0.13333334, 0.25490198, 0.5647059 ],\n",
       "          ...,\n",
       "          [0.18431373, 0.34509805, 0.654902  ],\n",
       "          [0.18431373, 0.34509805, 0.654902  ],\n",
       "          [0.18039216, 0.34117648, 0.6509804 ]],\n",
       " \n",
       "         [[0.13725491, 0.25882354, 0.5686275 ],\n",
       "          [0.13725491, 0.25882354, 0.5686275 ],\n",
       "          [0.14117648, 0.2627451 , 0.57254905],\n",
       "          ...,\n",
       "          [0.19215687, 0.3529412 , 0.6627451 ],\n",
       "          [0.18431373, 0.34509805, 0.654902  ],\n",
       "          [0.18039216, 0.34117648, 0.6509804 ]],\n",
       " \n",
       "         ...,\n",
       " \n",
       "         [[0.09803922, 0.1254902 , 0.3764706 ],\n",
       "          [0.13725491, 0.12941177, 0.4       ],\n",
       "          [0.12156863, 0.14509805, 0.38431373],\n",
       "          ...,\n",
       "          [0.10196079, 0.11764706, 0.34901962],\n",
       "          [0.09411765, 0.10980392, 0.34117648],\n",
       "          [0.09803922, 0.10196079, 0.32941177]],\n",
       " \n",
       "         [[0.10980392, 0.12156863, 0.3882353 ],\n",
       "          [0.11764706, 0.12156863, 0.4117647 ],\n",
       "          [0.10196079, 0.11372549, 0.39607844],\n",
       "          ...,\n",
       "          [0.10588235, 0.10980392, 0.3529412 ],\n",
       "          [0.10196079, 0.10980392, 0.3372549 ],\n",
       "          [0.09803922, 0.10588235, 0.33333334]],\n",
       " \n",
       "         [[0.10980392, 0.11764706, 0.39215687],\n",
       "          [0.11764706, 0.1254902 , 0.40392157],\n",
       "          [0.11764706, 0.12156863, 0.4117647 ],\n",
       "          ...,\n",
       "          [0.10588235, 0.10980392, 0.34901962],\n",
       "          [0.09803922, 0.10588235, 0.33333334],\n",
       "          [0.09803922, 0.10588235, 0.33333334]]],\n",
       " \n",
       " \n",
       "        [[[0.45882353, 0.47843137, 0.5137255 ],\n",
       "          [0.45882353, 0.47843137, 0.5137255 ],\n",
       "          [0.4627451 , 0.48235294, 0.5176471 ],\n",
       "          ...,\n",
       "          [0.4745098 , 0.49411765, 0.5294118 ],\n",
       "          [0.4745098 , 0.49411765, 0.5294118 ],\n",
       "          [0.47058824, 0.49019608, 0.5254902 ]],\n",
       " \n",
       "         [[0.45882353, 0.47843137, 0.5137255 ],\n",
       "          [0.45882353, 0.47843137, 0.5137255 ],\n",
       "          [0.4627451 , 0.48235294, 0.5176471 ],\n",
       "          ...,\n",
       "          [0.49411765, 0.5137255 , 0.54901963],\n",
       "          [0.4862745 , 0.5058824 , 0.5411765 ],\n",
       "          [0.48235294, 0.5019608 , 0.5372549 ]],\n",
       " \n",
       "         [[0.45490196, 0.4745098 , 0.50980395],\n",
       "          [0.45882353, 0.47843137, 0.5137255 ],\n",
       "          [0.4627451 , 0.48235294, 0.5176471 ],\n",
       "          ...,\n",
       "          [0.5058824 , 0.5254902 , 0.56078434],\n",
       "          [0.5019608 , 0.52156866, 0.5568628 ],\n",
       "          [0.5019608 , 0.52156866, 0.5568628 ]],\n",
       " \n",
       "         ...,\n",
       " \n",
       "         [[0.7607843 , 0.78039217, 0.7921569 ],\n",
       "          [0.73333335, 0.7529412 , 0.7647059 ],\n",
       "          [0.7058824 , 0.7254902 , 0.7372549 ],\n",
       "          ...,\n",
       "          [0.5294118 , 0.5647059 , 0.6       ],\n",
       "          [0.40392157, 0.4392157 , 0.4745098 ],\n",
       "          [0.48235294, 0.5176471 , 0.5529412 ]],\n",
       " \n",
       "         [[0.8392157 , 0.85882354, 0.87058824],\n",
       "          [0.7529412 , 0.77254903, 0.78431374],\n",
       "          [0.84313726, 0.8627451 , 0.8745098 ],\n",
       "          ...,\n",
       "          [0.46666667, 0.5019608 , 0.5372549 ],\n",
       "          [0.4       , 0.43529412, 0.47058824],\n",
       "          [0.49803922, 0.53333336, 0.5686275 ]],\n",
       " \n",
       "         [[0.80784315, 0.827451  , 0.8392157 ],\n",
       "          [0.7882353 , 0.80784315, 0.81960785],\n",
       "          [0.78431374, 0.8039216 , 0.8156863 ],\n",
       "          ...,\n",
       "          [0.4745098 , 0.50980395, 0.54901963],\n",
       "          [0.47058824, 0.5058824 , 0.54509807],\n",
       "          [0.4745098 , 0.50980395, 0.54901963]]],\n",
       " \n",
       " \n",
       "        [[[0.3019608 , 0.21568628, 0.20392157],\n",
       "          [0.20784314, 0.15294118, 0.12941177],\n",
       "          [0.2901961 , 0.2509804 , 0.21176471],\n",
       "          ...,\n",
       "          [0.11372549, 0.15294118, 0.15294118],\n",
       "          [0.01568628, 0.04313726, 0.05882353],\n",
       "          [0.14117648, 0.1764706 , 0.20392157]],\n",
       " \n",
       "         [[0.40392157, 0.30980393, 0.28627452],\n",
       "          [0.29803923, 0.22745098, 0.2       ],\n",
       "          [0.3137255 , 0.26666668, 0.22745098],\n",
       "          ...,\n",
       "          [0.10588235, 0.14509805, 0.14509805],\n",
       "          [0.04313726, 0.07843138, 0.09019608],\n",
       "          [0.10196079, 0.14117648, 0.15686275]],\n",
       " \n",
       "         [[0.5137255 , 0.41568628, 0.36862746],\n",
       "          [0.42745098, 0.36078432, 0.31764707],\n",
       "          [0.3254902 , 0.2627451 , 0.23529412],\n",
       "          ...,\n",
       "          [0.11764706, 0.15686275, 0.15686275],\n",
       "          [0.10196079, 0.14901961, 0.14901961],\n",
       "          [0.05882353, 0.10588235, 0.10588235]],\n",
       " \n",
       "         ...,\n",
       " \n",
       "         [[0.9254902 , 0.92156863, 0.9372549 ],\n",
       "          [0.9254902 , 0.92156863, 0.9372549 ],\n",
       "          [0.9137255 , 0.9098039 , 0.9254902 ],\n",
       "          ...,\n",
       "          [0.98039216, 0.9882353 , 0.9882353 ],\n",
       "          [0.99215686, 0.99607843, 0.99607843],\n",
       "          [0.9882353 , 0.9882353 , 0.9882353 ]],\n",
       " \n",
       "         [[0.96862745, 0.9647059 , 0.98039216],\n",
       "          [0.9529412 , 0.9490196 , 0.9647059 ],\n",
       "          [0.9529412 , 0.9490196 , 0.9647059 ],\n",
       "          ...,\n",
       "          [0.96862745, 0.9764706 , 0.9764706 ],\n",
       "          [0.99607843, 0.99607843, 0.99607843],\n",
       "          [1.        , 1.        , 1.        ]],\n",
       " \n",
       "         [[0.9137255 , 0.92156863, 0.9254902 ],\n",
       "          [0.9607843 , 0.96862745, 0.972549  ],\n",
       "          [0.9647059 , 0.972549  , 0.9764706 ],\n",
       "          ...,\n",
       "          [1.        , 1.        , 1.        ],\n",
       "          [0.9607843 , 0.96862745, 0.972549  ],\n",
       "          [0.95686275, 0.972549  , 0.9764706 ]]]], dtype=float32),\n",
       " array([[0., 0., 0., ..., 0., 0., 0.],\n",
       "        [0., 0., 0., ..., 0., 0., 0.],\n",
       "        [1., 0., 0., ..., 0., 0., 0.],\n",
       "        ...,\n",
       "        [0., 0., 0., ..., 0., 1., 0.],\n",
       "        [0., 0., 0., ..., 0., 0., 0.],\n",
       "        [0., 0., 0., ..., 0., 0., 0.]], dtype=float32),\n",
       " array([1., 1., 1., ..., 1., 1., 1.], dtype=float32)]"
      ]
     },
     "execution_count": 31,
     "metadata": {},
     "output_type": "execute_result"
    }
   ],
   "source": [
    "history.validation_data"
   ]
  },
  {
   "cell_type": "code",
   "execution_count": 32,
   "metadata": {},
   "outputs": [
    {
     "data": {
      "text/plain": [
       "[0.02042365770793506,\n",
       " 0.058006225550770264,\n",
       " 0.12102346084873368,\n",
       " 0.2655834786016354,\n",
       " 0.49479917724034245,\n",
       " 0.7381368168900455,\n",
       " 0.8867967490563042,\n",
       " 0.9482195745132822,\n",
       " 0.9588489934511295,\n",
       " 0.9666692041136139]"
      ]
     },
     "execution_count": 32,
     "metadata": {},
     "output_type": "execute_result"
    }
   ],
   "source": [
    "history.history['acc']"
   ]
  },
  {
   "cell_type": "markdown",
   "metadata": {},
   "source": [
    "- See accuracy in test dataset & double check other accuracies"
   ]
  },
  {
   "cell_type": "code",
   "execution_count": 33,
   "metadata": {},
   "outputs": [
    {
     "name": "stdout",
     "output_type": "stream",
     "text": [
      "(4116, 120)\n",
      "[  0   1   2   3   4   5   6   7   8   9  10  11  12  13  14  15  16  17\n",
      "  18  19  20  21  22  23  24  25  26  27  28  29  30  31  32  33  34  35\n",
      "  36  37  38  39  40  41  42  43  44  45  46  47  48  49  50  51  52  53\n",
      "  54  55  56  57  58  59  60  61  62  63  64  65  66  67  68  69  70  71\n",
      "  72  73  74  75  76  77  78  79  80  81  82  83  84  85  86  87  88  89\n",
      "  90  91  92  93  94  95  96  97  98  99 100 101 102 103 104 105 106 107\n",
      " 108 109 110 111 112 113 114 115 116 117 118 119]\n",
      "0.07653061224489796\n"
     ]
    }
   ],
   "source": [
    "# test\n",
    "y_test_model = model.predict_classes(X_test)\n",
    "y_test_model_prob=model.predict_proba(X_test)\n",
    "print(y_test_model_prob.shape)\n",
    "y_test_true_flat=redo_kreas_category(y_test)\n",
    "print(np.unique(y_test_model))\n",
    "print(accuracy_score(y_test_model, y_test_true_flat))"
   ]
  },
  {
   "cell_type": "code",
   "execution_count": 34,
   "metadata": {},
   "outputs": [
    {
     "name": "stdout",
     "output_type": "stream",
     "text": [
      "(3293, 120)\n",
      "[  0   1   2   3   4   5   6   7   8   9  10  11  12  13  14  15  16  17\n",
      "  18  19  20  21  22  23  24  25  26  27  28  29  30  31  32  33  34  35\n",
      "  36  37  38  39  40  41  42  43  44  45  46  47  48  49  50  51  52  53\n",
      "  54  55  56  57  58  59  60  61  62  63  64  65  66  67  68  69  70  71\n",
      "  72  73  74  75  76  77  78  79  80  81  82  83  84  85  86  87  88  89\n",
      "  90  91  92  93  94  95  96  97  98  99 100 101 103 104 105 106 107 108\n",
      " 109 110 111 112 113 114 115 116 117 118 119]\n",
      "0.06771940479805648\n"
     ]
    }
   ],
   "source": [
    "# validation\n",
    "y_val_model = model.predict_classes(X_val)\n",
    "y_val_model_prob=model.predict_proba(X_val)\n",
    "print(y_val_model_prob.shape)\n",
    "y_val_true_flat=redo_kreas_category(y_val)\n",
    "print(np.unique(y_val_model))\n",
    "print(accuracy_score(y_val_model, y_val_true_flat))"
   ]
  },
  {
   "cell_type": "code",
   "execution_count": 35,
   "metadata": {},
   "outputs": [
    {
     "name": "stdout",
     "output_type": "stream",
     "text": [
      "(13171, 120)\n",
      "[  0   1   2   3   4   5   6   7   8   9  10  11  12  13  14  15  16  17\n",
      "  18  19  20  21  22  23  24  25  26  27  28  29  30  31  32  33  34  35\n",
      "  36  37  38  39  40  41  42  43  44  45  46  47  48  49  50  51  52  53\n",
      "  54  55  56  57  58  59  60  61  62  63  64  65  66  67  68  69  70  71\n",
      "  72  73  74  75  76  77  78  79  80  81  82  83  84  85  86  87  88  89\n",
      "  90  91  92  93  94  95  96  97  98  99 100 101 102 103 104 105 106 107\n",
      " 108 109 110 111 112 113 114 115 116 117 118 119]\n",
      "0.9757041986181763\n"
     ]
    }
   ],
   "source": [
    "# train\n",
    "y_train_model = model.predict_classes(X_train)\n",
    "y_train_model_prob=model.predict_proba(X_train)\n",
    "print(y_train_model_prob.shape)\n",
    "y_train_true_flat=redo_kreas_category(y_train)\n",
    "print(np.unique(y_train_model))\n",
    "print(accuracy_score(y_train_model, y_train_true_flat))"
   ]
  },
  {
   "cell_type": "markdown",
   "metadata": {},
   "source": [
    "- Graphs"
   ]
  },
  {
   "cell_type": "code",
   "execution_count": 37,
   "metadata": {},
   "outputs": [
    {
     "data": {
      "image/png": "[encoded data removed]",
      "text/plain": [
       "<Figure size 864x288 with 2 Axes>"
      ]
     },
     "metadata": {
      "needs_background": "light"
     },
     "output_type": "display_data"
    }
   ],
   "source": [
    "f, (ax1, ax2) = plt.subplots(1, 2, figsize=(12, 4))\n",
    "t = f.suptitle('Basic CNN Performance', fontsize=12)\n",
    "f.subplots_adjust(top=0.85, wspace=0.3)\n",
    "\n",
    "epoch_list = list(range(1,epochs+1))\n",
    "ax1.plot(epoch_list, history.history['acc'], label='Train Accuracy')\n",
    "ax1.plot(epoch_list, history.history['val_acc'], label='Validation Accuracy')\n",
    "ax1.set_xticks(np.arange(0, epochs+1, 2))\n",
    "ax1.set_ylabel('Accuracy Value')\n",
    "ax1.set_xlabel('Epoch')\n",
    "ax1.set_title('Accuracy')\n",
    "l1 = ax1.legend(loc=\"best\")\n",
    "\n",
    "ax2.plot(epoch_list, history.history['loss'], label='Train Loss')\n",
    "ax2.plot(epoch_list, history.history['val_loss'], label='Validation Loss')\n",
    "ax2.set_xticks(np.arange(0, epochs+1, 2))\n",
    "ax2.set_ylabel('Loss Value')\n",
    "ax2.set_xlabel('Epoch')\n",
    "ax2.set_title('Loss')\n",
    "l2 = ax2.legend(loc=\"best\")"
   ]
  },
  {
   "cell_type": "markdown",
   "metadata": {},
   "source": [
    "> It is very much overfitting"
   ]
  }
 ],
 "metadata": {
  "kernelspec": {
   "display_name": "Python 3",
   "language": "python",
   "name": "python3"
  },
  "language_info": {
   "codemirror_mode": {
    "name": "ipython",
    "version": 3
   },
   "file_extension": ".py",
   "mimetype": "text/x-python",
   "name": "python",
   "nbconvert_exporter": "python",
   "pygments_lexer": "ipython3",
   "version": "3.7.3"
  }
 },
 "nbformat": 4,
 "nbformat_minor": 2
}
