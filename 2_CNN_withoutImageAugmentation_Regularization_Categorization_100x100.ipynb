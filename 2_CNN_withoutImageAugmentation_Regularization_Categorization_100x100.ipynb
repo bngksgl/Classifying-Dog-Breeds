{
 "cells": [
  {
   "cell_type": "markdown",
   "metadata": {},
   "source": [
    "# 2. CNN from scratch without Image Augmentation & Regularization"
   ]
  },
  {
   "cell_type": "markdown",
   "metadata": {},
   "source": [
    "Adding another dense layer, one more convolutional layer and adding drop out of 0.3 after hidden dense layer to enable regularization. Dropout is a powerful method of regularizing in deep neural nets. Dropout consists of randomly setting a fraction rate of input units to 0 at each update during training time, which helps prevent overfitting."
   ]
  },
  {
   "cell_type": "markdown",
   "metadata": {},
   "source": [
    "https://towardsdatascience.com/a-comprehensive-hands-on-guide-to-transfer-learning-with-real-world-applications-in-deep-learning-212bf3b2f27a"
   ]
  },
  {
   "cell_type": "code",
   "execution_count": 4,
   "metadata": {},
   "outputs": [],
   "source": [
    "import os,shutil,math,scipy,cv2\n",
    "import numpy as np\n",
    "from keras.preprocessing.image import ImageDataGenerator, load_img, img_to_array, array_to_img\n",
    "from sklearn.preprocessing import LabelEncoder\n",
    "from sklearn.model_selection import train_test_split\n",
    "from keras.layers import Conv2D, MaxPooling2D, Flatten, Dense, Dropout\n",
    "from keras.models import Sequential\n",
    "from keras import optimizers\n",
    "import matplotlib.pyplot as plt\n",
    "from sklearn.metrics import accuracy_score\n",
    "from keras.utils.np_utils import to_categorical\n",
    "import pandas as pd"
   ]
  },
  {
   "cell_type": "code",
   "execution_count": 2,
   "metadata": {},
   "outputs": [],
   "source": [
    "def redo_kreas_category(arr):\n",
    "    redo=[]\n",
    "    for i in arr:\n",
    "        redo.append(list(i).index(1))\n",
    "    return redo"
   ]
  },
  {
   "cell_type": "markdown",
   "metadata": {},
   "source": [
    "- Get Data"
   ]
  },
  {
   "cell_type": "markdown",
   "metadata": {},
   "source": [
    "In here we decided to lower the number of classes we have, to make it easily computable. So we are taking the first 60 categories that have the highest number of pictures."
   ]
  },
  {
   "cell_type": "code",
   "execution_count": 5,
   "metadata": {},
   "outputs": [
    {
     "data": {
      "text/plain": [
       "60"
      ]
     },
     "execution_count": 5,
     "metadata": {},
     "output_type": "execute_result"
    }
   ],
   "source": [
    "lists=pd.read_csv('categories.csv')\n",
    "lists=list(lists['0'])\n",
    "len(lists)"
   ]
  },
  {
   "cell_type": "code",
   "execution_count": 6,
   "metadata": {},
   "outputs": [],
   "source": [
    "true_labels = []\n",
    "imgsize=100\n",
    "#result_array = np.zeros((20580, imgsize, imgsize, 3))\n",
    "result_array = np.zeros((11386, imgsize, imgsize, 3))\n",
    "cur_dir = os.path.dirname(os.path.realpath(os.getcwd()))\n",
    "paths=cur_dir+'/Project/Images/'\n",
    "# we have 20580 images\n",
    "\n",
    "\n",
    "j=0\n",
    "for i in lists:\n",
    "    images=os.listdir(paths+i)\n",
    "    label=i[10:]\n",
    "    for k in images:\n",
    "        img = cv2.imread(paths+i+'/'+k,cv2.IMREAD_COLOR)\n",
    "        img = cv2.resize(img,(imgsize,imgsize))\n",
    "        true_labels.append(label)\n",
    "        result_array[j,:,:,:]=np.array(img)\n",
    "        j=j+1"
   ]
  },
  {
   "cell_type": "code",
   "execution_count": 7,
   "metadata": {},
   "outputs": [
    {
     "data": {
      "text/plain": [
       "(11386, 100, 100, 3)"
      ]
     },
     "execution_count": 7,
     "metadata": {},
     "output_type": "execute_result"
    }
   ],
   "source": [
    "result_array.shape"
   ]
  },
  {
   "cell_type": "code",
   "execution_count": 8,
   "metadata": {},
   "outputs": [
    {
     "data": {
      "text/plain": [
       "11386"
      ]
     },
     "execution_count": 8,
     "metadata": {},
     "output_type": "execute_result"
    }
   ],
   "source": [
    "len(true_labels)"
   ]
  },
  {
   "cell_type": "code",
   "execution_count": 9,
   "metadata": {},
   "outputs": [
    {
     "data": {
      "text/plain": [
       "60"
      ]
     },
     "execution_count": 9,
     "metadata": {},
     "output_type": "execute_result"
    }
   ],
   "source": [
    "len(np.unique(np.array(true_labels)))"
   ]
  },
  {
   "cell_type": "markdown",
   "metadata": {},
   "source": [
    "- Scaling"
   ]
  },
  {
   "cell_type": "markdown",
   "metadata": {},
   "source": [
    "Each image is of size 224 x 224 and has three channels for red, green, and blue (RGB), hence giving each image the (224, 224, 3) dimensions. We will now scale each image with pixel values between (0, 255) to values between (0, 1) because deep learning models work really well with small input values.\n"
   ]
  },
  {
   "cell_type": "code",
   "execution_count": 10,
   "metadata": {},
   "outputs": [],
   "source": [
    "resultarray_scaled = result_array.astype('float32')\n",
    "resultarray_scaled = resultarray_scaled/255"
   ]
  },
  {
   "cell_type": "code",
   "execution_count": 11,
   "metadata": {
    "scrolled": true
   },
   "outputs": [
    {
     "data": {
      "text/plain": [
       "array([[[  1.,   1.,   1.],\n",
       "        [  1.,   1.,   1.],\n",
       "        [  1.,   1.,   1.],\n",
       "        ...,\n",
       "        [ 33.,  36.,  34.],\n",
       "        [ 28.,  27.,  29.],\n",
       "        [ 18.,  18.,  18.]],\n",
       "\n",
       "       [[  1.,   1.,   1.],\n",
       "        [  1.,   1.,   1.],\n",
       "        [  1.,   1.,   1.],\n",
       "        ...,\n",
       "        [ 30.,  33.,  31.],\n",
       "        [ 32.,  32.,  32.],\n",
       "        [ 36.,  37.,  35.]],\n",
       "\n",
       "       [[  2.,   2.,   2.],\n",
       "        [  0.,   0.,   0.],\n",
       "        [  1.,   1.,   1.],\n",
       "        ...,\n",
       "        [ 33.,  36.,  34.],\n",
       "        [ 31.,  32.,  28.],\n",
       "        [ 32.,  34.,  28.]],\n",
       "\n",
       "       ...,\n",
       "\n",
       "       [[142., 139., 134.],\n",
       "        [134., 131., 126.],\n",
       "        [126., 123., 118.],\n",
       "        ...,\n",
       "        [111., 116., 114.],\n",
       "        [112., 115., 113.],\n",
       "        [109., 112., 110.]],\n",
       "\n",
       "       [[133., 130., 125.],\n",
       "        [130., 127., 122.],\n",
       "        [139., 136., 131.],\n",
       "        ...,\n",
       "        [108., 113., 111.],\n",
       "        [109., 112., 110.],\n",
       "        [110., 113., 111.]],\n",
       "\n",
       "       [[137., 131., 124.],\n",
       "        [138., 135., 127.],\n",
       "        [146., 144., 136.],\n",
       "        ...,\n",
       "        [109., 114., 112.],\n",
       "        [103., 108., 106.],\n",
       "        [101., 106., 104.]]])"
      ]
     },
     "execution_count": 11,
     "metadata": {},
     "output_type": "execute_result"
    }
   ],
   "source": [
    "result_array[0]"
   ]
  },
  {
   "cell_type": "code",
   "execution_count": 12,
   "metadata": {
    "scrolled": true
   },
   "outputs": [
    {
     "data": {
      "text/plain": [
       "array([[[0.00392157, 0.00392157, 0.00392157],\n",
       "        [0.00392157, 0.00392157, 0.00392157],\n",
       "        [0.00392157, 0.00392157, 0.00392157],\n",
       "        ...,\n",
       "        [0.12941177, 0.14117648, 0.13333334],\n",
       "        [0.10980392, 0.10588235, 0.11372549],\n",
       "        [0.07058824, 0.07058824, 0.07058824]],\n",
       "\n",
       "       [[0.00392157, 0.00392157, 0.00392157],\n",
       "        [0.00392157, 0.00392157, 0.00392157],\n",
       "        [0.00392157, 0.00392157, 0.00392157],\n",
       "        ...,\n",
       "        [0.11764706, 0.12941177, 0.12156863],\n",
       "        [0.1254902 , 0.1254902 , 0.1254902 ],\n",
       "        [0.14117648, 0.14509805, 0.13725491]],\n",
       "\n",
       "       [[0.00784314, 0.00784314, 0.00784314],\n",
       "        [0.        , 0.        , 0.        ],\n",
       "        [0.00392157, 0.00392157, 0.00392157],\n",
       "        ...,\n",
       "        [0.12941177, 0.14117648, 0.13333334],\n",
       "        [0.12156863, 0.1254902 , 0.10980392],\n",
       "        [0.1254902 , 0.13333334, 0.10980392]],\n",
       "\n",
       "       ...,\n",
       "\n",
       "       [[0.5568628 , 0.54509807, 0.5254902 ],\n",
       "        [0.5254902 , 0.5137255 , 0.49411765],\n",
       "        [0.49411765, 0.48235294, 0.4627451 ],\n",
       "        ...,\n",
       "        [0.43529412, 0.45490196, 0.44705883],\n",
       "        [0.4392157 , 0.4509804 , 0.44313726],\n",
       "        [0.42745098, 0.4392157 , 0.43137255]],\n",
       "\n",
       "       [[0.52156866, 0.50980395, 0.49019608],\n",
       "        [0.50980395, 0.49803922, 0.47843137],\n",
       "        [0.54509807, 0.53333336, 0.5137255 ],\n",
       "        ...,\n",
       "        [0.42352942, 0.44313726, 0.43529412],\n",
       "        [0.42745098, 0.4392157 , 0.43137255],\n",
       "        [0.43137255, 0.44313726, 0.43529412]],\n",
       "\n",
       "       [[0.5372549 , 0.5137255 , 0.4862745 ],\n",
       "        [0.5411765 , 0.5294118 , 0.49803922],\n",
       "        [0.57254905, 0.5647059 , 0.53333336],\n",
       "        ...,\n",
       "        [0.42745098, 0.44705883, 0.4392157 ],\n",
       "        [0.40392157, 0.42352942, 0.41568628],\n",
       "        [0.39607844, 0.41568628, 0.40784314]]], dtype=float32)"
      ]
     },
     "execution_count": 12,
     "metadata": {},
     "output_type": "execute_result"
    }
   ],
   "source": [
    "resultarray_scaled[0]"
   ]
  },
  {
   "cell_type": "code",
   "execution_count": 13,
   "metadata": {},
   "outputs": [
    {
     "data": {
      "image/png": "[encoded data removed]",
      "text/plain": [
       "<PIL.Image.Image image mode=RGB size=100x100 at 0x7F16244BC8D0>"
      ]
     },
     "execution_count": 13,
     "metadata": {},
     "output_type": "execute_result"
    }
   ],
   "source": [
    "array_to_img(result_array[0])"
   ]
  },
  {
   "cell_type": "code",
   "execution_count": 14,
   "metadata": {},
   "outputs": [
    {
     "data": {
      "image/png": "[encoded data removed]",
      "text/plain": [
       "<PIL.Image.Image image mode=RGB size=100x100 at 0x7F16244BC748>"
      ]
     },
     "execution_count": 14,
     "metadata": {},
     "output_type": "execute_result"
    }
   ],
   "source": [
    "array_to_img(resultarray_scaled[0])"
   ]
  },
  {
   "cell_type": "markdown",
   "metadata": {},
   "source": [
    "- Train test split & encode y labels"
   ]
  },
  {
   "cell_type": "code",
   "execution_count": 15,
   "metadata": {},
   "outputs": [
    {
     "name": "stdout",
     "output_type": "stream",
     "text": [
      "['Maltese_dog', 'Maltese_dog', 'Maltese_dog', 'Maltese_dog', 'Maltese_dog', 'Maltese_dog', 'Maltese_dog', 'Maltese_dog', 'Maltese_dog', 'Maltese_dog'] [[0. 0. 0. 0. 0. 0. 0. 0. 0. 0. 0. 0. 0. 0. 0. 0. 0. 0. 0. 0. 0. 0. 0. 0.\n",
      "  0. 0. 1. 0. 0. 0. 0. 0. 0. 0. 0. 0. 0. 0. 0. 0. 0. 0. 0. 0. 0. 0. 0. 0.\n",
      "  0. 0. 0. 0. 0. 0. 0. 0. 0. 0. 0. 0.]\n",
      " [0. 0. 0. 0. 0. 0. 0. 0. 0. 0. 0. 0. 0. 0. 0. 0. 0. 0. 0. 0. 0. 0. 0. 0.\n",
      "  0. 0. 1. 0. 0. 0. 0. 0. 0. 0. 0. 0. 0. 0. 0. 0. 0. 0. 0. 0. 0. 0. 0. 0.\n",
      "  0. 0. 0. 0. 0. 0. 0. 0. 0. 0. 0. 0.]\n",
      " [0. 0. 0. 0. 0. 0. 0. 0. 0. 0. 0. 0. 0. 0. 0. 0. 0. 0. 0. 0. 0. 0. 0. 0.\n",
      "  0. 0. 1. 0. 0. 0. 0. 0. 0. 0. 0. 0. 0. 0. 0. 0. 0. 0. 0. 0. 0. 0. 0. 0.\n",
      "  0. 0. 0. 0. 0. 0. 0. 0. 0. 0. 0. 0.]\n",
      " [0. 0. 0. 0. 0. 0. 0. 0. 0. 0. 0. 0. 0. 0. 0. 0. 0. 0. 0. 0. 0. 0. 0. 0.\n",
      "  0. 0. 1. 0. 0. 0. 0. 0. 0. 0. 0. 0. 0. 0. 0. 0. 0. 0. 0. 0. 0. 0. 0. 0.\n",
      "  0. 0. 0. 0. 0. 0. 0. 0. 0. 0. 0. 0.]\n",
      " [0. 0. 0. 0. 0. 0. 0. 0. 0. 0. 0. 0. 0. 0. 0. 0. 0. 0. 0. 0. 0. 0. 0. 0.\n",
      "  0. 0. 1. 0. 0. 0. 0. 0. 0. 0. 0. 0. 0. 0. 0. 0. 0. 0. 0. 0. 0. 0. 0. 0.\n",
      "  0. 0. 0. 0. 0. 0. 0. 0. 0. 0. 0. 0.]\n",
      " [0. 0. 0. 0. 0. 0. 0. 0. 0. 0. 0. 0. 0. 0. 0. 0. 0. 0. 0. 0. 0. 0. 0. 0.\n",
      "  0. 0. 1. 0. 0. 0. 0. 0. 0. 0. 0. 0. 0. 0. 0. 0. 0. 0. 0. 0. 0. 0. 0. 0.\n",
      "  0. 0. 0. 0. 0. 0. 0. 0. 0. 0. 0. 0.]\n",
      " [0. 0. 0. 0. 0. 0. 0. 0. 0. 0. 0. 0. 0. 0. 0. 0. 0. 0. 0. 0. 0. 0. 0. 0.\n",
      "  0. 0. 1. 0. 0. 0. 0. 0. 0. 0. 0. 0. 0. 0. 0. 0. 0. 0. 0. 0. 0. 0. 0. 0.\n",
      "  0. 0. 0. 0. 0. 0. 0. 0. 0. 0. 0. 0.]\n",
      " [0. 0. 0. 0. 0. 0. 0. 0. 0. 0. 0. 0. 0. 0. 0. 0. 0. 0. 0. 0. 0. 0. 0. 0.\n",
      "  0. 0. 1. 0. 0. 0. 0. 0. 0. 0. 0. 0. 0. 0. 0. 0. 0. 0. 0. 0. 0. 0. 0. 0.\n",
      "  0. 0. 0. 0. 0. 0. 0. 0. 0. 0. 0. 0.]\n",
      " [0. 0. 0. 0. 0. 0. 0. 0. 0. 0. 0. 0. 0. 0. 0. 0. 0. 0. 0. 0. 0. 0. 0. 0.\n",
      "  0. 0. 1. 0. 0. 0. 0. 0. 0. 0. 0. 0. 0. 0. 0. 0. 0. 0. 0. 0. 0. 0. 0. 0.\n",
      "  0. 0. 0. 0. 0. 0. 0. 0. 0. 0. 0. 0.]\n",
      " [0. 0. 0. 0. 0. 0. 0. 0. 0. 0. 0. 0. 0. 0. 0. 0. 0. 0. 0. 0. 0. 0. 0. 0.\n",
      "  0. 0. 1. 0. 0. 0. 0. 0. 0. 0. 0. 0. 0. 0. 0. 0. 0. 0. 0. 0. 0. 0. 0. 0.\n",
      "  0. 0. 0. 0. 0. 0. 0. 0. 0. 0. 0. 0.]]\n"
     ]
    }
   ],
   "source": [
    "le = LabelEncoder()\n",
    "le.fit(true_labels)\n",
    "all_labels_enc = le.transform(true_labels)\n",
    "all_labels_enc = to_categorical(all_labels_enc,len(np.array(np.unique(true_labels))))\n",
    "\n",
    "print(true_labels[0:10], all_labels_enc[0:10])"
   ]
  },
  {
   "cell_type": "code",
   "execution_count": 16,
   "metadata": {},
   "outputs": [],
   "source": [
    "X = resultarray_scaled\n",
    "\n",
    "X_train, X_test, y_train, y_test = train_test_split(X,all_labels_enc,test_size=0.2,random_state=69)\n",
    "X_train, X_val, y_train, y_val  = train_test_split(X_train,y_train,test_size=0.2,random_state=69)"
   ]
  },
  {
   "cell_type": "markdown",
   "metadata": {},
   "source": [
    "- Modeling"
   ]
  },
  {
   "cell_type": "code",
   "execution_count": 17,
   "metadata": {},
   "outputs": [],
   "source": [
    "batch_size = 100 #number of images passed to the operation in every iteration\n",
    "num_classes = len(np.array(np.unique(true_labels))) # target class\n",
    "epochs = 10  #30 #number of times the entire dataset has gone through the neural network\n",
    "input_shape = (imgsize, imgsize, 3)"
   ]
  },
  {
   "cell_type": "code",
   "execution_count": 18,
   "metadata": {},
   "outputs": [
    {
     "name": "stdout",
     "output_type": "stream",
     "text": [
      "WARNING:tensorflow:From /home/bengikoseoglu/environments/my_env/lib/python3.7/site-packages/tensorflow/python/framework/op_def_library.py:263: colocate_with (from tensorflow.python.framework.ops) is deprecated and will be removed in a future version.\n",
      "Instructions for updating:\n",
      "Colocations handled automatically by placer.\n",
      "WARNING:tensorflow:From /home/bengikoseoglu/environments/my_env/lib/python3.7/site-packages/keras/backend/tensorflow_backend.py:3445: calling dropout (from tensorflow.python.ops.nn_ops) with keep_prob is deprecated and will be removed in a future version.\n",
      "Instructions for updating:\n",
      "Please use `rate` instead of `keep_prob`. Rate should be set to `rate = 1 - keep_prob`.\n",
      "_________________________________________________________________\n",
      "Layer (type)                 Output Shape              Param #   \n",
      "=================================================================\n",
      "conv2d_1 (Conv2D)            (None, 98, 98, 16)        448       \n",
      "_________________________________________________________________\n",
      "max_pooling2d_1 (MaxPooling2 (None, 49, 49, 16)        0         \n",
      "_________________________________________________________________\n",
      "conv2d_2 (Conv2D)            (None, 47, 47, 64)        9280      \n",
      "_________________________________________________________________\n",
      "max_pooling2d_2 (MaxPooling2 (None, 23, 23, 64)        0         \n",
      "_________________________________________________________________\n",
      "conv2d_3 (Conv2D)            (None, 21, 21, 128)       73856     \n",
      "_________________________________________________________________\n",
      "max_pooling2d_3 (MaxPooling2 (None, 10, 10, 128)       0         \n",
      "_________________________________________________________________\n",
      "conv2d_4 (Conv2D)            (None, 8, 8, 128)         147584    \n",
      "_________________________________________________________________\n",
      "max_pooling2d_4 (MaxPooling2 (None, 4, 4, 128)         0         \n",
      "_________________________________________________________________\n",
      "flatten_1 (Flatten)          (None, 2048)              0         \n",
      "_________________________________________________________________\n",
      "dense_1 (Dense)              (None, 512)               1049088   \n",
      "_________________________________________________________________\n",
      "dropout_1 (Dropout)          (None, 512)               0         \n",
      "_________________________________________________________________\n",
      "dense_2 (Dense)              (None, 512)               262656    \n",
      "_________________________________________________________________\n",
      "dropout_2 (Dropout)          (None, 512)               0         \n",
      "_________________________________________________________________\n",
      "dense_3 (Dense)              (None, 60)                30780     \n",
      "=================================================================\n",
      "Total params: 1,573,692\n",
      "Trainable params: 1,573,692\n",
      "Non-trainable params: 0\n",
      "_________________________________________________________________\n"
     ]
    }
   ],
   "source": [
    "\n",
    "model = Sequential()\n",
    "\n",
    "model.add(Conv2D(16, kernel_size=(3, 3), activation='relu', \n",
    "                 input_shape=input_shape))\n",
    "model.add(MaxPooling2D(pool_size=(2, 2)))\n",
    "\n",
    "model.add(Conv2D(64, kernel_size=(3, 3), activation='relu'))\n",
    "model.add(MaxPooling2D(pool_size=(2, 2)))\n",
    "\n",
    "model.add(Conv2D(128, kernel_size=(3, 3), activation='relu'))\n",
    "model.add(MaxPooling2D(pool_size=(2, 2)))\n",
    "\n",
    "model.add(Conv2D(128, kernel_size=(3, 3), activation='relu'))\n",
    "model.add(MaxPooling2D(pool_size=(2, 2)))\n",
    "\n",
    "model.add(Flatten())\n",
    "model.add(Dense(512, activation='relu'))\n",
    "model.add(Dropout(0.3))\n",
    "model.add(Dense(512, activation='relu'))\n",
    "model.add(Dropout(0.3))\n",
    "model.add(Dense(len(np.array(np.unique(true_labels))), activation='softmax'))\n",
    "\n",
    "\n",
    "\n",
    "model.compile(loss='categorical_crossentropy',\n",
    "              optimizer=optimizers.RMSprop(),\n",
    "              metrics=['accuracy'])\n",
    "              \n",
    "              \n",
    "model.summary()"
   ]
  },
  {
   "cell_type": "code",
   "execution_count": 19,
   "metadata": {},
   "outputs": [
    {
     "name": "stdout",
     "output_type": "stream",
     "text": [
      "WARNING:tensorflow:From /home/bengikoseoglu/environments/my_env/lib/python3.7/site-packages/tensorflow/python/ops/math_ops.py:3066: to_int32 (from tensorflow.python.ops.math_ops) is deprecated and will be removed in a future version.\n",
      "Instructions for updating:\n",
      "Use tf.cast instead.\n",
      "Train on 7286 samples, validate on 1822 samples\n",
      "Epoch 1/10\n",
      "7286/7286 [==============================] - 102s 14ms/step - loss: 4.0970 - acc: 0.0243 - val_loss: 4.0694 - val_acc: 0.0335\n",
      "Epoch 2/10\n",
      "7286/7286 [==============================] - 101s 14ms/step - loss: 4.0244 - acc: 0.0365 - val_loss: 3.9051 - val_acc: 0.0576\n",
      "Epoch 3/10\n",
      "7286/7286 [==============================] - 101s 14ms/step - loss: 3.9030 - acc: 0.0538 - val_loss: 3.9026 - val_acc: 0.0598\n",
      "Epoch 4/10\n",
      "7286/7286 [==============================] - 101s 14ms/step - loss: 3.7944 - acc: 0.0688 - val_loss: 4.0349 - val_acc: 0.0406\n",
      "Epoch 5/10\n",
      "7286/7286 [==============================] - 101s 14ms/step - loss: 3.7159 - acc: 0.0843 - val_loss: 3.6944 - val_acc: 0.0889\n",
      "Epoch 6/10\n",
      "7286/7286 [==============================] - 102s 14ms/step - loss: 3.5829 - acc: 0.1131 - val_loss: 3.6316 - val_acc: 0.1015\n",
      "Epoch 7/10\n",
      "7286/7286 [==============================] - 101s 14ms/step - loss: 3.4387 - acc: 0.1414 - val_loss: 3.5791 - val_acc: 0.1114\n",
      "Epoch 8/10\n",
      "7286/7286 [==============================] - 101s 14ms/step - loss: 3.2092 - acc: 0.1842 - val_loss: 3.6173 - val_acc: 0.1092\n",
      "Epoch 9/10\n",
      "7286/7286 [==============================] - 101s 14ms/step - loss: 2.9809 - acc: 0.2321 - val_loss: 3.6511 - val_acc: 0.1164\n",
      "Epoch 10/10\n",
      "7286/7286 [==============================] - 101s 14ms/step - loss: 2.7096 - acc: 0.2878 - val_loss: 3.9612 - val_acc: 0.1032\n"
     ]
    }
   ],
   "source": [
    "history = model.fit(x=X_train, y=y_train,\n",
    "                    validation_data=(X_val, y_val),\n",
    "                    batch_size=batch_size,\n",
    "                    epochs=epochs,\n",
    "                    verbose=1)"
   ]
  },
  {
   "cell_type": "code",
   "execution_count": 20,
   "metadata": {},
   "outputs": [
    {
     "data": {
      "text/plain": [
       "dict_keys(['val_loss', 'val_acc', 'loss', 'acc'])"
      ]
     },
     "execution_count": 20,
     "metadata": {},
     "output_type": "execute_result"
    }
   ],
   "source": [
    "history.history.keys()"
   ]
  },
  {
   "cell_type": "code",
   "execution_count": 21,
   "metadata": {
    "scrolled": true
   },
   "outputs": [
    {
     "data": {
      "text/plain": [
       "[array([[[[0.90588236, 0.92941177, 0.9411765 ],\n",
       "          [0.99607843, 1.        , 0.9843137 ],\n",
       "          [1.        , 0.99607843, 0.9647059 ],\n",
       "          ...,\n",
       "          [0.98039216, 0.972549  , 0.972549  ],\n",
       "          [0.80784315, 0.8117647 , 0.8117647 ],\n",
       "          [0.57254905, 0.5803922 , 0.5803922 ]],\n",
       " \n",
       "         [[0.8627451 , 0.84313726, 0.84705883],\n",
       "          [1.        , 0.9882353 , 0.98039216],\n",
       "          [0.9843137 , 0.9843137 , 0.96862745],\n",
       "          ...,\n",
       "          [0.7764706 , 0.75686276, 0.7607843 ],\n",
       "          [0.69411767, 0.6862745 , 0.6862745 ],\n",
       "          [0.60784316, 0.6156863 , 0.6156863 ]],\n",
       " \n",
       "         [[0.78431374, 0.78039217, 0.7647059 ],\n",
       "          [0.49411765, 0.47843137, 0.4745098 ],\n",
       "          [0.23137255, 0.21960784, 0.22745098],\n",
       "          ...,\n",
       "          [0.6745098 , 0.6117647 , 0.61960787],\n",
       "          [0.654902  , 0.6039216 , 0.6117647 ],\n",
       "          [0.8745098 , 0.83137256, 0.8392157 ]],\n",
       " \n",
       "         ...,\n",
       " \n",
       "         [[0.56078434, 0.65882355, 0.7607843 ],\n",
       "          [0.5568628 , 0.654902  , 0.75686276],\n",
       "          [0.4862745 , 0.58431375, 0.6862745 ],\n",
       "          ...,\n",
       "          [0.57254905, 0.64705884, 0.7294118 ],\n",
       "          [0.76862746, 0.8352941 , 0.9137255 ],\n",
       "          [0.6862745 , 0.7529412 , 0.85490197]],\n",
       " \n",
       "         [[0.36078432, 0.4745098 , 0.5568628 ],\n",
       "          [0.5254902 , 0.6313726 , 0.7137255 ],\n",
       "          [0.44313726, 0.53333336, 0.61960787],\n",
       "          ...,\n",
       "          [0.57254905, 0.6431373 , 0.75686276],\n",
       "          [0.6666667 , 0.7294118 , 0.8392157 ],\n",
       "          [0.5137255 , 0.5764706 , 0.7058824 ]],\n",
       " \n",
       "         [[0.58431375, 0.69411767, 0.8       ],\n",
       "          [0.54901963, 0.6666667 , 0.77254903],\n",
       "          [0.38431373, 0.5019608 , 0.60784316],\n",
       "          ...,\n",
       "          [0.52156866, 0.57254905, 0.6431373 ],\n",
       "          [0.2901961 , 0.3529412 , 0.43137255],\n",
       "          [0.3372549 , 0.4117647 , 0.49411765]]],\n",
       " \n",
       " \n",
       "        [[[0.53333336, 0.03529412, 0.01176471],\n",
       "          [0.4117647 , 0.08235294, 0.00392157],\n",
       "          [0.46666667, 0.00784314, 0.        ],\n",
       "          ...,\n",
       "          [0.31764707, 0.        , 0.11372549],\n",
       "          [0.3882353 , 0.02352941, 0.10980392],\n",
       "          [0.5372549 , 0.01176471, 0.05882353]],\n",
       " \n",
       "         [[0.43529412, 0.07058824, 0.        ],\n",
       "          [0.5254902 , 0.40392157, 0.21960784],\n",
       "          [0.5921569 , 0.40392157, 0.23137255],\n",
       "          ...,\n",
       "          [0.39215687, 0.5529412 , 0.74509805],\n",
       "          [0.3529412 , 0.47058824, 0.58431375],\n",
       "          [0.34117648, 0.17254902, 0.23137255]],\n",
       " \n",
       "         [[0.5058824 , 0.07843138, 0.00392157],\n",
       "          [0.5372549 , 0.41568628, 0.21176471],\n",
       "          [0.56078434, 0.40392157, 0.1882353 ],\n",
       "          ...,\n",
       "          [0.29803923, 0.5529412 , 0.827451  ],\n",
       "          [0.3372549 , 0.5529412 , 0.75686276],\n",
       "          [0.24313726, 0.16078432, 0.28627452]],\n",
       " \n",
       "         ...,\n",
       " \n",
       "         [[0.4862745 , 0.03137255, 0.        ],\n",
       "          [0.33333334, 0.2509804 , 0.14901961],\n",
       "          [0.36078432, 0.24705882, 0.13725491],\n",
       "          ...,\n",
       "          [0.41568628, 0.6392157 , 0.79607844],\n",
       "          [0.35686275, 0.53333336, 0.70980394],\n",
       "          [0.20392157, 0.15294118, 0.30588236]],\n",
       " \n",
       "         [[0.49803922, 0.03137255, 0.        ],\n",
       "          [0.34901962, 0.2509804 , 0.15686275],\n",
       "          [0.38431373, 0.2509804 , 0.15294118],\n",
       "          ...,\n",
       "          [0.30980393, 0.49019608, 0.61960787],\n",
       "          [0.4       , 0.5137255 , 0.6745098 ],\n",
       "          [0.26666668, 0.16862746, 0.30980393]],\n",
       " \n",
       "         [[0.5568628 , 0.00784314, 0.        ],\n",
       "          [0.48235294, 0.01960784, 0.        ],\n",
       "          [0.47058824, 0.02352941, 0.        ],\n",
       "          ...,\n",
       "          [0.3882353 , 0.01176471, 0.05882353],\n",
       "          [0.4       , 0.00392157, 0.05882353],\n",
       "          [0.4509804 , 0.00392157, 0.04705882]]],\n",
       " \n",
       " \n",
       "        [[[0.00784314, 0.00784314, 0.00784314],\n",
       "          [0.00784314, 0.00784314, 0.00784314],\n",
       "          [0.00784314, 0.00784314, 0.00784314],\n",
       "          ...,\n",
       "          [0.34117648, 0.3764706 , 0.39215687],\n",
       "          [0.34509805, 0.3529412 , 0.39215687],\n",
       "          [0.3254902 , 0.35686275, 0.36862746]],\n",
       " \n",
       "         [[0.00784314, 0.00784314, 0.00784314],\n",
       "          [0.00784314, 0.00784314, 0.00784314],\n",
       "          [0.00784314, 0.00784314, 0.00784314],\n",
       "          ...,\n",
       "          [0.30980393, 0.36862746, 0.39215687],\n",
       "          [0.34901962, 0.36078432, 0.38039216],\n",
       "          [0.32156864, 0.3529412 , 0.38039216]],\n",
       " \n",
       "         [[0.00784314, 0.00784314, 0.00784314],\n",
       "          [0.00784314, 0.00784314, 0.00784314],\n",
       "          [0.00784314, 0.00784314, 0.00784314],\n",
       "          ...,\n",
       "          [0.15686275, 0.3372549 , 0.36862746],\n",
       "          [0.2509804 , 0.35686275, 0.38431373],\n",
       "          [0.29803923, 0.34901962, 0.40392157]],\n",
       " \n",
       "         ...,\n",
       " \n",
       "         [[0.23137255, 0.24705882, 0.22745098],\n",
       "          [0.21176471, 0.22745098, 0.20784314],\n",
       "          [0.13725491, 0.15294118, 0.13333334],\n",
       "          ...,\n",
       "          [0.23137255, 0.23921569, 0.23921569],\n",
       "          [0.19607843, 0.20392157, 0.20392157],\n",
       "          [0.21568628, 0.23529412, 0.23137255]],\n",
       " \n",
       "         [[0.15686275, 0.18039216, 0.16078432],\n",
       "          [0.21176471, 0.22745098, 0.20392157],\n",
       "          [0.14509805, 0.14901961, 0.13333334],\n",
       "          ...,\n",
       "          [0.25882354, 0.26666668, 0.27058825],\n",
       "          [0.25882354, 0.26666668, 0.26666668],\n",
       "          [0.20784314, 0.21176471, 0.20392157]],\n",
       " \n",
       "         [[0.19607843, 0.21960784, 0.19607843],\n",
       "          [0.10980392, 0.1254902 , 0.10588235],\n",
       "          [0.12941177, 0.13333334, 0.11764706],\n",
       "          ...,\n",
       "          [0.28235295, 0.2901961 , 0.2901961 ],\n",
       "          [0.25882354, 0.27058825, 0.26666668],\n",
       "          [0.21568628, 0.21960784, 0.21176471]]],\n",
       " \n",
       " \n",
       "        ...,\n",
       " \n",
       " \n",
       "        [[[0.47843137, 0.5019608 , 0.5254902 ],\n",
       "          [0.8235294 , 0.78431374, 0.78431374],\n",
       "          [0.58431375, 0.58431375, 0.6392157 ],\n",
       "          ...,\n",
       "          [0.62352943, 0.72156864, 0.78039217],\n",
       "          [0.9137255 , 0.9372549 , 0.95686275],\n",
       "          [0.63529414, 0.7529412 , 0.8235294 ]],\n",
       " \n",
       "         [[0.6627451 , 0.6901961 , 0.6862745 ],\n",
       "          [0.90588236, 0.89411765, 0.8627451 ],\n",
       "          [0.4745098 , 0.52156866, 0.5372549 ],\n",
       "          ...,\n",
       "          [0.4627451 , 0.5647059 , 0.6392157 ],\n",
       "          [0.88235295, 0.93333334, 0.9607843 ],\n",
       "          [0.64705884, 0.7411765 , 0.8       ]],\n",
       " \n",
       "         [[0.39215687, 0.40392157, 0.42352942],\n",
       "          [0.7764706 , 0.78039217, 0.76862746],\n",
       "          [0.58431375, 0.6509804 , 0.68235296],\n",
       "          ...,\n",
       "          [0.44705883, 0.5686275 , 0.65882355],\n",
       "          [0.87058824, 0.93333334, 0.9607843 ],\n",
       "          [0.7882353 , 0.8627451 , 0.9019608 ]],\n",
       " \n",
       "         ...,\n",
       " \n",
       "         [[0.03921569, 0.03921569, 0.03921569],\n",
       "          [0.07843138, 0.07843138, 0.07843138],\n",
       "          [0.18431373, 0.18431373, 0.18431373],\n",
       "          ...,\n",
       "          [0.6039216 , 0.7294118 , 0.81960785],\n",
       "          [0.5921569 , 0.7372549 , 0.84313726],\n",
       "          [0.60784316, 0.74509805, 0.84705883]],\n",
       " \n",
       "         [[0.04705882, 0.05098039, 0.04313726],\n",
       "          [0.45882353, 0.4627451 , 0.45490196],\n",
       "          [0.42352942, 0.42745098, 0.41960785],\n",
       "          ...,\n",
       "          [0.62352943, 0.7529412 , 0.8156863 ],\n",
       "          [0.5568628 , 0.7019608 , 0.78431374],\n",
       "          [0.6039216 , 0.7372549 , 0.8156863 ]],\n",
       " \n",
       "         [[0.03921569, 0.01568628, 0.01568628],\n",
       "          [0.03137255, 0.05098039, 0.04313726],\n",
       "          [0.0627451 , 0.02745098, 0.04705882],\n",
       "          ...,\n",
       "          [0.77254903, 0.90588236, 0.9411765 ],\n",
       "          [0.79607844, 0.9137255 , 0.96862745],\n",
       "          [0.7529412 , 0.85882354, 0.9137255 ]]],\n",
       " \n",
       " \n",
       "        [[[0.03921569, 0.01568628, 0.03529412],\n",
       "          [0.03921569, 0.01568628, 0.03529412],\n",
       "          [0.05882353, 0.03529412, 0.05490196],\n",
       "          ...,\n",
       "          [0.05882353, 0.03921569, 0.04705882],\n",
       "          [0.13333334, 0.11372549, 0.12156863],\n",
       "          [0.12941177, 0.10196079, 0.11372549]],\n",
       " \n",
       "         [[0.03137255, 0.00784314, 0.02745098],\n",
       "          [0.04313726, 0.01960784, 0.03921569],\n",
       "          [0.04313726, 0.01960784, 0.03921569],\n",
       "          ...,\n",
       "          [0.28235295, 0.2627451 , 0.26666668],\n",
       "          [0.11372549, 0.09411765, 0.09803922],\n",
       "          [0.01568628, 0.        , 0.        ]],\n",
       " \n",
       "         [[0.03529412, 0.01176471, 0.03137255],\n",
       "          [0.03921569, 0.01568628, 0.03529412],\n",
       "          [0.04313726, 0.01960784, 0.03921569],\n",
       "          ...,\n",
       "          [0.05882353, 0.04313726, 0.03921569],\n",
       "          [0.05882353, 0.04313726, 0.03921569],\n",
       "          [0.1764706 , 0.15686275, 0.15294118]],\n",
       " \n",
       "         ...,\n",
       " \n",
       "         [[0.34901962, 0.23921569, 0.23921569],\n",
       "          [0.35686275, 0.25490198, 0.25490198],\n",
       "          [0.32156864, 0.23921569, 0.23529412],\n",
       "          ...,\n",
       "          [0.3529412 , 0.2901961 , 0.33333334],\n",
       "          [0.3529412 , 0.2901961 , 0.33333334],\n",
       "          [0.3647059 , 0.30588236, 0.3372549 ]],\n",
       " \n",
       "         [[0.32156864, 0.21176471, 0.21176471],\n",
       "          [0.3137255 , 0.21176471, 0.21176471],\n",
       "          [0.29411766, 0.21176471, 0.20784314],\n",
       "          ...,\n",
       "          [0.33333334, 0.2784314 , 0.3019608 ],\n",
       "          [0.45490196, 0.4       , 0.42352942],\n",
       "          [0.34901962, 0.29411766, 0.31764707]],\n",
       " \n",
       "         [[0.36078432, 0.26666668, 0.26666668],\n",
       "          [0.34117648, 0.24705882, 0.24705882],\n",
       "          [0.30980393, 0.21568628, 0.21568628],\n",
       "          ...,\n",
       "          [0.32941177, 0.26666668, 0.29411766],\n",
       "          [0.50980395, 0.4627451 , 0.4862745 ],\n",
       "          [0.40392157, 0.3647059 , 0.3882353 ]]],\n",
       " \n",
       " \n",
       "        [[[0.38039216, 0.70980394, 0.80784315],\n",
       "          [0.4       , 0.7176471 , 0.8235294 ],\n",
       "          [0.38431373, 0.6901961 , 0.8039216 ],\n",
       "          ...,\n",
       "          [0.15294118, 0.3647059 , 0.36862746],\n",
       "          [0.14509805, 0.3764706 , 0.3647059 ],\n",
       "          [0.10980392, 0.32156864, 0.23921569]],\n",
       " \n",
       "         [[0.43529412, 0.74509805, 0.827451  ],\n",
       "          [0.3764706 , 0.7019608 , 0.7882353 ],\n",
       "          [0.3764706 , 0.7137255 , 0.80784315],\n",
       "          ...,\n",
       "          [0.11372549, 0.3529412 , 0.21176471],\n",
       "          [0.09803922, 0.27450982, 0.25882354],\n",
       "          [0.13333334, 0.34509805, 0.25882354]],\n",
       " \n",
       "         [[0.4745098 , 0.7529412 , 0.81960785],\n",
       "          [0.39215687, 0.7372549 , 0.7921569 ],\n",
       "          [0.3372549 , 0.70980394, 0.77254903],\n",
       "          ...,\n",
       "          [0.05882353, 0.24705882, 0.10588235],\n",
       "          [0.08235294, 0.24705882, 0.15294118],\n",
       "          [0.0627451 , 0.28627452, 0.11372549]],\n",
       " \n",
       "         ...,\n",
       " \n",
       "         [[0.6313726 , 0.67058825, 0.67058825],\n",
       "          [0.6392157 , 0.6784314 , 0.6784314 ],\n",
       "          [0.69803923, 0.7372549 , 0.7372549 ],\n",
       "          ...,\n",
       "          [0.8745098 , 0.84313726, 0.8862745 ],\n",
       "          [0.87058824, 0.84313726, 0.87058824],\n",
       "          [0.8666667 , 0.8392157 , 0.8666667 ]],\n",
       " \n",
       "         [[0.69803923, 0.7411765 , 0.78039217],\n",
       "          [0.5921569 , 0.6392157 , 0.6784314 ],\n",
       "          [0.5137255 , 0.5568628 , 0.59607846],\n",
       "          ...,\n",
       "          [0.62352943, 0.6313726 , 0.67058825],\n",
       "          [0.64705884, 0.65882355, 0.68235296],\n",
       "          [0.8       , 0.8039216 , 0.827451  ]],\n",
       " \n",
       "         [[0.3647059 , 0.45490196, 0.4862745 ],\n",
       "          [0.36078432, 0.44705883, 0.49411765],\n",
       "          [0.3764706 , 0.45490196, 0.5254902 ],\n",
       "          ...,\n",
       "          [0.72156864, 0.7294118 , 0.72156864],\n",
       "          [0.6745098 , 0.6431373 , 0.6784314 ],\n",
       "          [0.5529412 , 0.53333336, 0.6313726 ]]]], dtype=float32),\n",
       " array([[0., 0., 0., ..., 0., 0., 0.],\n",
       "        [0., 0., 0., ..., 0., 0., 0.],\n",
       "        [0., 0., 0., ..., 0., 0., 0.],\n",
       "        ...,\n",
       "        [0., 0., 0., ..., 0., 0., 1.],\n",
       "        [0., 0., 0., ..., 0., 0., 0.],\n",
       "        [0., 0., 0., ..., 0., 0., 0.]], dtype=float32),\n",
       " array([1., 1., 1., ..., 1., 1., 1.], dtype=float32),\n",
       " 0.0]"
      ]
     },
     "execution_count": 21,
     "metadata": {},
     "output_type": "execute_result"
    }
   ],
   "source": [
    "history.validation_data"
   ]
  },
  {
   "cell_type": "code",
   "execution_count": 22,
   "metadata": {},
   "outputs": [
    {
     "data": {
      "text/plain": [
       "[0.024293164620106934,\n",
       " 0.036508371792232604,\n",
       " 0.053801811583219505,\n",
       " 0.06876200911004302,\n",
       " 0.08427120526450334,\n",
       " 0.11309360442394219,\n",
       " 0.14136700573495675,\n",
       " 0.18418885561306006,\n",
       " 0.23208893748420037,\n",
       " 0.2878122451277248]"
      ]
     },
     "execution_count": 22,
     "metadata": {},
     "output_type": "execute_result"
    }
   ],
   "source": [
    "history.history['acc']"
   ]
  },
  {
   "cell_type": "markdown",
   "metadata": {},
   "source": [
    "- See accuracy in test dataset & double check other accuracies"
   ]
  },
  {
   "cell_type": "code",
   "execution_count": 23,
   "metadata": {},
   "outputs": [
    {
     "name": "stdout",
     "output_type": "stream",
     "text": [
      "(2278, 60)\n",
      "[ 0  1  2  3  4  5  6  7  8  9 10 11 12 13 14 15 16 17 18 19 20 21 22 23\n",
      " 24 25 26 27 28 29 30 31 32 33 34 35 36 37 38 39 40 41 42 43 44 45 46 47\n",
      " 48 49 50 51 52 53 54 55 56 58 59]\n",
      "0.11281826163301141\n"
     ]
    }
   ],
   "source": [
    "# test\n",
    "y_test_model = model.predict_classes(X_test)\n",
    "y_test_model_prob=model.predict_proba(X_test)\n",
    "print(y_test_model_prob.shape)\n",
    "y_test_true_flat=redo_kreas_category(y_test)\n",
    "print(np.unique(y_test_model))\n",
    "print(accuracy_score(y_test_model, y_test_true_flat))"
   ]
  },
  {
   "cell_type": "code",
   "execution_count": 24,
   "metadata": {},
   "outputs": [
    {
     "name": "stdout",
     "output_type": "stream",
     "text": [
      "(1822, 60)\n",
      "[ 0  1  2  3  4  5  6  7  8  9 10 11 12 13 14 15 16 17 18 19 20 21 22 23\n",
      " 24 25 26 27 28 29 30 31 32 33 34 35 36 37 38 39 40 41 42 43 44 45 46 47\n",
      " 48 49 50 51 52 53 54 55 56 58 59]\n",
      "0.10318331503841932\n"
     ]
    }
   ],
   "source": [
    "# validation\n",
    "y_val_model = model.predict_classes(X_val)\n",
    "y_val_model_prob=model.predict_proba(X_val)\n",
    "print(y_val_model_prob.shape)\n",
    "y_val_true_flat=redo_kreas_category(y_val)\n",
    "print(np.unique(y_val_model))\n",
    "print(accuracy_score(y_val_model, y_val_true_flat))"
   ]
  },
  {
   "cell_type": "code",
   "execution_count": 25,
   "metadata": {},
   "outputs": [
    {
     "name": "stdout",
     "output_type": "stream",
     "text": [
      "(7286, 60)\n",
      "[ 0  1  2  3  4  5  6  7  8  9 10 11 12 13 14 15 16 17 18 19 20 21 22 23\n",
      " 24 25 26 27 28 29 30 31 32 33 34 35 36 37 38 39 40 41 42 43 44 45 46 47\n",
      " 48 49 50 51 52 53 54 55 56 57 58 59]\n",
      "0.3525940159209443\n"
     ]
    }
   ],
   "source": [
    "# train\n",
    "y_train_model = model.predict_classes(X_train)\n",
    "y_train_model_prob=model.predict_proba(X_train)\n",
    "print(y_train_model_prob.shape)\n",
    "y_train_true_flat=redo_kreas_category(y_train)\n",
    "print(np.unique(y_train_model))\n",
    "print(accuracy_score(y_train_model, y_train_true_flat))"
   ]
  },
  {
   "cell_type": "markdown",
   "metadata": {},
   "source": [
    "- Graphs"
   ]
  },
  {
   "cell_type": "code",
   "execution_count": 27,
   "metadata": {},
   "outputs": [
    {
     "data": {
      "image/png": "[encoded data removed]",
      "text/plain": [
       "<Figure size 864x288 with 2 Axes>"
      ]
     },
     "metadata": {
      "needs_background": "light"
     },
     "output_type": "display_data"
    }
   ],
   "source": [
    "f, (ax1, ax2) = plt.subplots(1, 2, figsize=(12, 4))\n",
    "t = f.suptitle('Basic CNN Performance', fontsize=12)\n",
    "f.subplots_adjust(top=0.85, wspace=0.3)\n",
    "\n",
    "epoch_list = list(range(1,epochs+1))\n",
    "ax1.plot(epoch_list, history.history['acc'], label='Train Accuracy')\n",
    "ax1.plot(epoch_list, history.history['val_acc'], label='Validation Accuracy')\n",
    "ax1.set_xticks(np.arange(0, epochs+1, 2))\n",
    "ax1.set_ylabel('Accuracy Value')\n",
    "ax1.set_xlabel('Epoch')\n",
    "ax1.set_title('Accuracy')\n",
    "l1 = ax1.legend(loc=\"best\")\n",
    "\n",
    "ax2.plot(epoch_list, history.history['loss'], label='Train Loss')\n",
    "ax2.plot(epoch_list, history.history['val_loss'], label='Validation Loss')\n",
    "ax2.set_xticks(np.arange(0, epochs+1, 2))\n",
    "ax2.set_ylabel('Loss Value')\n",
    "ax2.set_xlabel('Epoch')\n",
    "ax2.set_title('Loss')\n",
    "l2 = ax2.legend(loc=\"best\")"
   ]
  },
  {
   "cell_type": "markdown",
   "metadata": {},
   "source": [
    "> Still a little overfitting, but its better than previous notebook"
   ]
  }
 ],
 "metadata": {
  "kernelspec": {
   "display_name": "Python 3",
   "language": "python",
   "name": "python3"
  },
  "language_info": {
   "codemirror_mode": {
    "name": "ipython",
    "version": 3
   },
   "file_extension": ".py",
   "mimetype": "text/x-python",
   "name": "python",
   "nbconvert_exporter": "python",
   "pygments_lexer": "ipython3",
   "version": "3.7.3"
  }
 },
 "nbformat": 4,
 "nbformat_minor": 2
}
