{
 "cells": [
  {
   "cell_type": "markdown",
   "metadata": {},
   "source": [
    "# 3. CNN from scratch with Image Augmentation"
   ]
  },
  {
   "cell_type": "markdown",
   "metadata": {},
   "source": [
    "Idea: Let’s improve upon our regularized CNN model by adding in more data using a proper image augmentation strategy. Since our previous model was trained on the same small sample of data points each time, it wasn’t able to generalize and predict different classes. The idea behind image augmentation is that we follow a set process of taking in existing images from our training dataset and applying some image transformation operations to them, such as rotation, shearing, translation, zooming, and so on, to produce new, altered versions of existing images. Due to these random transformations, we don’t get the same images each time, and we will leverage Python generators to feed in these new images to our model during training."
   ]
  },
  {
   "cell_type": "markdown",
   "metadata": {},
   "source": [
    "Apply image augmentation only on the training images"
   ]
  },
  {
   "cell_type": "markdown",
   "metadata": {},
   "source": [
    "https://towardsdatascience.com/a-comprehensive-hands-on-guide-to-transfer-learning-with-real-world-applications-in-deep-learning-212bf3b2f27a"
   ]
  },
  {
   "cell_type": "code",
   "execution_count": 1,
   "metadata": {},
   "outputs": [
    {
     "name": "stderr",
     "output_type": "stream",
     "text": [
      "Using TensorFlow backend.\n"
     ]
    }
   ],
   "source": [
    "import os,shutil,math,scipy,cv2\n",
    "import numpy as np\n",
    "from keras.preprocessing.image import ImageDataGenerator, load_img, img_to_array, array_to_img\n",
    "from sklearn.preprocessing import LabelEncoder\n",
    "from sklearn.model_selection import train_test_split\n",
    "from keras.layers import Conv2D, MaxPooling2D, Flatten, Dense, Dropout\n",
    "from keras.models import Sequential\n",
    "from keras import optimizers\n",
    "import matplotlib.pyplot as plt\n",
    "from sklearn.metrics import accuracy_score\n",
    "import pandas as pd\n",
    "from keras.utils.np_utils import to_categorical"
   ]
  },
  {
   "cell_type": "code",
   "execution_count": 2,
   "metadata": {},
   "outputs": [],
   "source": [
    "def redo_kreas_category(arr):\n",
    "    redo=[]\n",
    "    for i in arr:\n",
    "        redo.append(list(i).index(1))\n",
    "    return redo"
   ]
  },
  {
   "cell_type": "markdown",
   "metadata": {},
   "source": [
    "- Get Data"
   ]
  },
  {
   "cell_type": "markdown",
   "metadata": {},
   "source": [
    "In here we decided to lower the number of classes we have, to make it easily computable. So we are taking the first 60 categories that have the highest number of pictures."
   ]
  },
  {
   "cell_type": "code",
   "execution_count": 3,
   "metadata": {},
   "outputs": [
    {
     "data": {
      "text/plain": [
       "60"
      ]
     },
     "execution_count": 3,
     "metadata": {},
     "output_type": "execute_result"
    }
   ],
   "source": [
    "lists=pd.read_csv('categories.csv')\n",
    "lists=list(lists['0'])\n",
    "len(lists)"
   ]
  },
  {
   "cell_type": "code",
   "execution_count": 4,
   "metadata": {},
   "outputs": [],
   "source": [
    "true_labels = []\n",
    "imgsize=100\n",
    "#result_array = np.zeros((20580, imgsize, imgsize, 3))\n",
    "result_array = np.zeros((11386, imgsize, imgsize, 3))\n",
    "cur_dir = os.path.dirname(os.path.realpath(os.getcwd()))\n",
    "paths=cur_dir+'/Project/Images/'\n",
    "# we have 20580 images\n",
    "\n",
    "\n",
    "j=0\n",
    "for i in lists:\n",
    "    images=os.listdir(paths+i)\n",
    "    label=i[10:]\n",
    "    for k in images:\n",
    "        img = cv2.imread(paths+i+'/'+k,cv2.IMREAD_COLOR)\n",
    "        img = cv2.resize(img,(imgsize,imgsize))\n",
    "        true_labels.append(label)\n",
    "        result_array[j,:,:,:]=np.array(img)\n",
    "        j=j+1"
   ]
  },
  {
   "cell_type": "code",
   "execution_count": 5,
   "metadata": {},
   "outputs": [
    {
     "data": {
      "text/plain": [
       "(11386, 100, 100, 3)"
      ]
     },
     "execution_count": 5,
     "metadata": {},
     "output_type": "execute_result"
    }
   ],
   "source": [
    "result_array.shape"
   ]
  },
  {
   "cell_type": "code",
   "execution_count": 6,
   "metadata": {},
   "outputs": [
    {
     "data": {
      "text/plain": [
       "11386"
      ]
     },
     "execution_count": 6,
     "metadata": {},
     "output_type": "execute_result"
    }
   ],
   "source": [
    "len(true_labels)"
   ]
  },
  {
   "cell_type": "code",
   "execution_count": 7,
   "metadata": {},
   "outputs": [
    {
     "data": {
      "text/plain": [
       "60"
      ]
     },
     "execution_count": 7,
     "metadata": {},
     "output_type": "execute_result"
    }
   ],
   "source": [
    "len(np.unique(np.array(true_labels)))"
   ]
  },
  {
   "cell_type": "markdown",
   "metadata": {},
   "source": [
    "- Scaling & image augmentation"
   ]
  },
  {
   "cell_type": "markdown",
   "metadata": {},
   "source": [
    "Each image is of size 224 x 224 and has three channels for red, green, and blue (RGB), hence giving each image the (100, 100, 3) dimensions. We will now scale each image with pixel values between (0, 255) to values between (0, 1) because deep learning models work really well with small input values.\n"
   ]
  },
  {
   "cell_type": "code",
   "execution_count": 8,
   "metadata": {},
   "outputs": [],
   "source": [
    "train_datagen = ImageDataGenerator(rescale=1./255, zoom_range=0.3, rotation_range=50,\n",
    "                                   width_shift_range=0.2, height_shift_range=0.2, shear_range=0.2, \n",
    "                                   horizontal_flip=True, fill_mode='nearest')\n",
    "\n",
    "val_datagen = ImageDataGenerator(rescale=1./255)"
   ]
  },
  {
   "cell_type": "markdown",
   "metadata": {},
   "source": [
    "- Train test split & encode y labels"
   ]
  },
  {
   "cell_type": "code",
   "execution_count": 9,
   "metadata": {},
   "outputs": [
    {
     "name": "stdout",
     "output_type": "stream",
     "text": [
      "['Maltese_dog', 'Maltese_dog', 'Maltese_dog', 'Maltese_dog', 'Maltese_dog', 'Maltese_dog', 'Maltese_dog', 'Maltese_dog', 'Maltese_dog', 'Maltese_dog'] [[0. 0. 0. 0. 0. 0. 0. 0. 0. 0. 0. 0. 0. 0. 0. 0. 0. 0. 0. 0. 0. 0. 0. 0.\n",
      "  0. 0. 1. 0. 0. 0. 0. 0. 0. 0. 0. 0. 0. 0. 0. 0. 0. 0. 0. 0. 0. 0. 0. 0.\n",
      "  0. 0. 0. 0. 0. 0. 0. 0. 0. 0. 0. 0.]\n",
      " [0. 0. 0. 0. 0. 0. 0. 0. 0. 0. 0. 0. 0. 0. 0. 0. 0. 0. 0. 0. 0. 0. 0. 0.\n",
      "  0. 0. 1. 0. 0. 0. 0. 0. 0. 0. 0. 0. 0. 0. 0. 0. 0. 0. 0. 0. 0. 0. 0. 0.\n",
      "  0. 0. 0. 0. 0. 0. 0. 0. 0. 0. 0. 0.]\n",
      " [0. 0. 0. 0. 0. 0. 0. 0. 0. 0. 0. 0. 0. 0. 0. 0. 0. 0. 0. 0. 0. 0. 0. 0.\n",
      "  0. 0. 1. 0. 0. 0. 0. 0. 0. 0. 0. 0. 0. 0. 0. 0. 0. 0. 0. 0. 0. 0. 0. 0.\n",
      "  0. 0. 0. 0. 0. 0. 0. 0. 0. 0. 0. 0.]\n",
      " [0. 0. 0. 0. 0. 0. 0. 0. 0. 0. 0. 0. 0. 0. 0. 0. 0. 0. 0. 0. 0. 0. 0. 0.\n",
      "  0. 0. 1. 0. 0. 0. 0. 0. 0. 0. 0. 0. 0. 0. 0. 0. 0. 0. 0. 0. 0. 0. 0. 0.\n",
      "  0. 0. 0. 0. 0. 0. 0. 0. 0. 0. 0. 0.]\n",
      " [0. 0. 0. 0. 0. 0. 0. 0. 0. 0. 0. 0. 0. 0. 0. 0. 0. 0. 0. 0. 0. 0. 0. 0.\n",
      "  0. 0. 1. 0. 0. 0. 0. 0. 0. 0. 0. 0. 0. 0. 0. 0. 0. 0. 0. 0. 0. 0. 0. 0.\n",
      "  0. 0. 0. 0. 0. 0. 0. 0. 0. 0. 0. 0.]\n",
      " [0. 0. 0. 0. 0. 0. 0. 0. 0. 0. 0. 0. 0. 0. 0. 0. 0. 0. 0. 0. 0. 0. 0. 0.\n",
      "  0. 0. 1. 0. 0. 0. 0. 0. 0. 0. 0. 0. 0. 0. 0. 0. 0. 0. 0. 0. 0. 0. 0. 0.\n",
      "  0. 0. 0. 0. 0. 0. 0. 0. 0. 0. 0. 0.]\n",
      " [0. 0. 0. 0. 0. 0. 0. 0. 0. 0. 0. 0. 0. 0. 0. 0. 0. 0. 0. 0. 0. 0. 0. 0.\n",
      "  0. 0. 1. 0. 0. 0. 0. 0. 0. 0. 0. 0. 0. 0. 0. 0. 0. 0. 0. 0. 0. 0. 0. 0.\n",
      "  0. 0. 0. 0. 0. 0. 0. 0. 0. 0. 0. 0.]\n",
      " [0. 0. 0. 0. 0. 0. 0. 0. 0. 0. 0. 0. 0. 0. 0. 0. 0. 0. 0. 0. 0. 0. 0. 0.\n",
      "  0. 0. 1. 0. 0. 0. 0. 0. 0. 0. 0. 0. 0. 0. 0. 0. 0. 0. 0. 0. 0. 0. 0. 0.\n",
      "  0. 0. 0. 0. 0. 0. 0. 0. 0. 0. 0. 0.]\n",
      " [0. 0. 0. 0. 0. 0. 0. 0. 0. 0. 0. 0. 0. 0. 0. 0. 0. 0. 0. 0. 0. 0. 0. 0.\n",
      "  0. 0. 1. 0. 0. 0. 0. 0. 0. 0. 0. 0. 0. 0. 0. 0. 0. 0. 0. 0. 0. 0. 0. 0.\n",
      "  0. 0. 0. 0. 0. 0. 0. 0. 0. 0. 0. 0.]\n",
      " [0. 0. 0. 0. 0. 0. 0. 0. 0. 0. 0. 0. 0. 0. 0. 0. 0. 0. 0. 0. 0. 0. 0. 0.\n",
      "  0. 0. 1. 0. 0. 0. 0. 0. 0. 0. 0. 0. 0. 0. 0. 0. 0. 0. 0. 0. 0. 0. 0. 0.\n",
      "  0. 0. 0. 0. 0. 0. 0. 0. 0. 0. 0. 0.]]\n"
     ]
    }
   ],
   "source": [
    "le = LabelEncoder()\n",
    "le.fit(true_labels)\n",
    "all_labels_enc = le.transform(true_labels)\n",
    "all_labels_enc = to_categorical(all_labels_enc,len(np.array(np.unique(true_labels))))\n",
    "\n",
    "print(true_labels[0:10], all_labels_enc[0:10])"
   ]
  },
  {
   "cell_type": "code",
   "execution_count": 10,
   "metadata": {},
   "outputs": [],
   "source": [
    "X = result_array\n",
    "\n",
    "X_train, X_test, y_train, y_test = train_test_split(X,all_labels_enc,test_size=0.2,random_state=69)\n",
    "X_train, X_val, y_train, y_val  = train_test_split(X_train,y_train,test_size=0.2,random_state=69)"
   ]
  },
  {
   "cell_type": "code",
   "execution_count": 11,
   "metadata": {},
   "outputs": [],
   "source": [
    "train_generator = train_datagen.flow(X_train, y_train, batch_size=30)\n",
    "val_generator = val_datagen.flow(X_val, y_val, batch_size=20)"
   ]
  },
  {
   "cell_type": "markdown",
   "metadata": {},
   "source": [
    "- Modeling"
   ]
  },
  {
   "cell_type": "code",
   "execution_count": 16,
   "metadata": {},
   "outputs": [],
   "source": [
    "#batch_size = 30 #number of images passed to the operation in every iteration\n",
    "#num_classes = len(np.array(np.unique(true_labels))) # target class\n",
    "epochs = 100  #30 #number of times the entire dataset has gone through the neural network\n",
    "input_shape = (imgsize, imgsize, 3)"
   ]
  },
  {
   "cell_type": "code",
   "execution_count": 13,
   "metadata": {},
   "outputs": [
    {
     "name": "stdout",
     "output_type": "stream",
     "text": [
      "WARNING:tensorflow:From /home/bengikoseoglu/environments/my_env/lib/python3.7/site-packages/tensorflow/python/framework/op_def_library.py:263: colocate_with (from tensorflow.python.framework.ops) is deprecated and will be removed in a future version.\n",
      "Instructions for updating:\n",
      "Colocations handled automatically by placer.\n",
      "WARNING:tensorflow:From /home/bengikoseoglu/environments/my_env/lib/python3.7/site-packages/keras/backend/tensorflow_backend.py:3445: calling dropout (from tensorflow.python.ops.nn_ops) with keep_prob is deprecated and will be removed in a future version.\n",
      "Instructions for updating:\n",
      "Please use `rate` instead of `keep_prob`. Rate should be set to `rate = 1 - keep_prob`.\n",
      "_________________________________________________________________\n",
      "Layer (type)                 Output Shape              Param #   \n",
      "=================================================================\n",
      "conv2d_1 (Conv2D)            (None, 98, 98, 16)        448       \n",
      "_________________________________________________________________\n",
      "max_pooling2d_1 (MaxPooling2 (None, 49, 49, 16)        0         \n",
      "_________________________________________________________________\n",
      "conv2d_2 (Conv2D)            (None, 47, 47, 64)        9280      \n",
      "_________________________________________________________________\n",
      "max_pooling2d_2 (MaxPooling2 (None, 23, 23, 64)        0         \n",
      "_________________________________________________________________\n",
      "conv2d_3 (Conv2D)            (None, 21, 21, 128)       73856     \n",
      "_________________________________________________________________\n",
      "max_pooling2d_3 (MaxPooling2 (None, 10, 10, 128)       0         \n",
      "_________________________________________________________________\n",
      "conv2d_4 (Conv2D)            (None, 8, 8, 128)         147584    \n",
      "_________________________________________________________________\n",
      "max_pooling2d_4 (MaxPooling2 (None, 4, 4, 128)         0         \n",
      "_________________________________________________________________\n",
      "flatten_1 (Flatten)          (None, 2048)              0         \n",
      "_________________________________________________________________\n",
      "dense_1 (Dense)              (None, 512)               1049088   \n",
      "_________________________________________________________________\n",
      "dropout_1 (Dropout)          (None, 512)               0         \n",
      "_________________________________________________________________\n",
      "dense_2 (Dense)              (None, 512)               262656    \n",
      "_________________________________________________________________\n",
      "dropout_2 (Dropout)          (None, 512)               0         \n",
      "_________________________________________________________________\n",
      "dense_3 (Dense)              (None, 60)                30780     \n",
      "=================================================================\n",
      "Total params: 1,573,692\n",
      "Trainable params: 1,573,692\n",
      "Non-trainable params: 0\n",
      "_________________________________________________________________\n"
     ]
    }
   ],
   "source": [
    "model = Sequential()\n",
    "\n",
    "model.add(Conv2D(16, kernel_size=(3, 3), activation='relu', \n",
    "                 input_shape=input_shape))\n",
    "model.add(MaxPooling2D(pool_size=(2, 2)))\n",
    "\n",
    "model.add(Conv2D(64, kernel_size=(3, 3), activation='relu'))\n",
    "model.add(MaxPooling2D(pool_size=(2, 2)))\n",
    "\n",
    "model.add(Conv2D(128, kernel_size=(3, 3), activation='relu'))\n",
    "model.add(MaxPooling2D(pool_size=(2, 2)))\n",
    "\n",
    "model.add(Conv2D(128, kernel_size=(3, 3), activation='relu'))\n",
    "model.add(MaxPooling2D(pool_size=(2, 2)))\n",
    "\n",
    "model.add(Flatten())\n",
    "model.add(Dense(512, activation='relu'))\n",
    "model.add(Dropout(0.3))\n",
    "model.add(Dense(512, activation='relu'))\n",
    "model.add(Dropout(0.3))\n",
    "model.add(Dense(len(np.array(np.unique(true_labels))), activation='softmax'))\n",
    "\n",
    "model.compile(loss='categorical_crossentropy',\n",
    "              optimizer=optimizers.RMSprop(lr=1e-4),\n",
    "              metrics=['accuracy'])\n",
    "\n",
    "model.summary()"
   ]
  },
  {
   "cell_type": "code",
   "execution_count": 17,
   "metadata": {
    "scrolled": true
   },
   "outputs": [
    {
     "name": "stdout",
     "output_type": "stream",
     "text": [
      "Epoch 1/100\n",
      "100/100 [==============================] - 45s 449ms/step - loss: 4.0942 - acc: 0.0177 - val_loss: 4.0902 - val_acc: 0.0244\n",
      "Epoch 2/100\n",
      "100/100 [==============================] - 45s 446ms/step - loss: 4.0895 - acc: 0.0250 - val_loss: 4.0821 - val_acc: 0.0200\n",
      "Epoch 3/100\n",
      "100/100 [==============================] - 45s 446ms/step - loss: 4.0751 - acc: 0.0213 - val_loss: 4.0469 - val_acc: 0.0377\n",
      "Epoch 4/100\n",
      "100/100 [==============================] - 45s 449ms/step - loss: 4.0409 - acc: 0.0390 - val_loss: 3.9990 - val_acc: 0.0470\n",
      "Epoch 5/100\n",
      "100/100 [==============================] - 45s 445ms/step - loss: 4.0239 - acc: 0.0400 - val_loss: 3.9879 - val_acc: 0.0346\n",
      "Epoch 6/100\n",
      "100/100 [==============================] - 45s 448ms/step - loss: 3.9960 - acc: 0.0397 - val_loss: 3.9047 - val_acc: 0.0690\n",
      "Epoch 7/100\n",
      "100/100 [==============================] - 45s 445ms/step - loss: 3.9615 - acc: 0.0458 - val_loss: 3.8963 - val_acc: 0.0560\n",
      "Epoch 8/100\n",
      "100/100 [==============================] - 44s 444ms/step - loss: 3.9448 - acc: 0.0433 - val_loss: 3.8688 - val_acc: 0.0642\n",
      "Epoch 9/100\n",
      "100/100 [==============================] - 44s 444ms/step - loss: 3.9339 - acc: 0.0510 - val_loss: 3.8523 - val_acc: 0.0560\n",
      "Epoch 10/100\n",
      "100/100 [==============================] - 45s 447ms/step - loss: 3.9245 - acc: 0.0483 - val_loss: 3.7782 - val_acc: 0.0611\n",
      "Epoch 11/100\n",
      "100/100 [==============================] - 45s 446ms/step - loss: 3.8968 - acc: 0.0560 - val_loss: 3.7801 - val_acc: 0.0570\n",
      "Epoch 12/100\n",
      "100/100 [==============================] - 44s 444ms/step - loss: 3.8865 - acc: 0.0477 - val_loss: 3.7616 - val_acc: 0.0703\n",
      "Epoch 13/100\n",
      "100/100 [==============================] - 45s 445ms/step - loss: 3.8703 - acc: 0.0527 - val_loss: 3.8072 - val_acc: 0.0750\n",
      "Epoch 14/100\n",
      "100/100 [==============================] - 45s 449ms/step - loss: 3.8661 - acc: 0.0464 - val_loss: 3.7241 - val_acc: 0.0642\n",
      "Epoch 15/100\n",
      "100/100 [==============================] - 45s 449ms/step - loss: 3.8460 - acc: 0.0560 - val_loss: 3.7780 - val_acc: 0.0680\n",
      "Epoch 16/100\n",
      "100/100 [==============================] - 45s 448ms/step - loss: 3.8460 - acc: 0.0574 - val_loss: 3.7173 - val_acc: 0.0835\n",
      "Epoch 17/100\n",
      "100/100 [==============================] - 45s 447ms/step - loss: 3.8210 - acc: 0.0580 - val_loss: 3.7263 - val_acc: 0.0810\n",
      "Epoch 18/100\n",
      "100/100 [==============================] - 44s 443ms/step - loss: 3.8020 - acc: 0.0560 - val_loss: 3.7201 - val_acc: 0.0896\n",
      "Epoch 19/100\n",
      "100/100 [==============================] - 45s 446ms/step - loss: 3.7971 - acc: 0.0633 - val_loss: 3.6659 - val_acc: 0.0940\n",
      "Epoch 20/100\n",
      "100/100 [==============================] - 45s 446ms/step - loss: 3.7785 - acc: 0.0720 - val_loss: 3.6335 - val_acc: 0.1069\n",
      "Epoch 21/100\n",
      "100/100 [==============================] - 46s 457ms/step - loss: 3.7848 - acc: 0.0664 - val_loss: 3.7583 - val_acc: 0.0713\n",
      "Epoch 22/100\n",
      "100/100 [==============================] - 45s 447ms/step - loss: 3.7898 - acc: 0.0673 - val_loss: 3.6097 - val_acc: 0.1110\n",
      "Epoch 23/100\n",
      "100/100 [==============================] - 45s 448ms/step - loss: 3.7650 - acc: 0.0613 - val_loss: 3.6172 - val_acc: 0.1120\n",
      "Epoch 24/100\n",
      "100/100 [==============================] - 45s 447ms/step - loss: 3.7341 - acc: 0.0714 - val_loss: 3.6627 - val_acc: 0.0900\n",
      "Epoch 25/100\n",
      "100/100 [==============================] - 45s 445ms/step - loss: 3.7523 - acc: 0.0767 - val_loss: 3.5623 - val_acc: 0.1130\n",
      "Epoch 26/100\n",
      "100/100 [==============================] - 45s 447ms/step - loss: 3.7153 - acc: 0.0698 - val_loss: 3.6221 - val_acc: 0.0930\n",
      "Epoch 27/100\n",
      "100/100 [==============================] - 45s 447ms/step - loss: 3.7216 - acc: 0.0697 - val_loss: 3.6457 - val_acc: 0.1039\n",
      "Epoch 28/100\n",
      "100/100 [==============================] - 45s 447ms/step - loss: 3.7090 - acc: 0.0804 - val_loss: 3.5549 - val_acc: 0.1110\n",
      "Epoch 29/100\n",
      "100/100 [==============================] - 45s 448ms/step - loss: 3.6946 - acc: 0.0810 - val_loss: 3.5438 - val_acc: 0.1151\n",
      "Epoch 30/100\n",
      "100/100 [==============================] - 45s 450ms/step - loss: 3.7044 - acc: 0.0770 - val_loss: 3.5874 - val_acc: 0.1110\n",
      "Epoch 31/100\n",
      "100/100 [==============================] - 45s 448ms/step - loss: 3.6761 - acc: 0.0754 - val_loss: 3.5901 - val_acc: 0.1069\n",
      "Epoch 32/100\n",
      "100/100 [==============================] - 45s 446ms/step - loss: 3.6825 - acc: 0.0843 - val_loss: 3.5454 - val_acc: 0.1161\n",
      "Epoch 33/100\n",
      "100/100 [==============================] - 45s 448ms/step - loss: 3.6577 - acc: 0.0811 - val_loss: 3.5899 - val_acc: 0.0990\n",
      "Epoch 34/100\n",
      "100/100 [==============================] - 45s 447ms/step - loss: 3.6528 - acc: 0.0887 - val_loss: 3.4980 - val_acc: 0.1253\n",
      "Epoch 35/100\n",
      "100/100 [==============================] - 45s 448ms/step - loss: 3.6391 - acc: 0.0837 - val_loss: 3.5295 - val_acc: 0.1280\n",
      "Epoch 36/100\n",
      "100/100 [==============================] - 45s 447ms/step - loss: 3.6177 - acc: 0.0945 - val_loss: 3.5391 - val_acc: 0.1232\n",
      "Epoch 37/100\n",
      "100/100 [==============================] - 45s 448ms/step - loss: 3.6473 - acc: 0.0867 - val_loss: 3.4767 - val_acc: 0.1410\n",
      "Epoch 38/100\n",
      "100/100 [==============================] - 45s 448ms/step - loss: 3.6053 - acc: 0.0901 - val_loss: 3.4507 - val_acc: 0.1273\n",
      "Epoch 39/100\n",
      "100/100 [==============================] - 45s 447ms/step - loss: 3.6062 - acc: 0.0877 - val_loss: 3.5751 - val_acc: 0.1080\n",
      "Epoch 40/100\n",
      "100/100 [==============================] - 45s 445ms/step - loss: 3.6385 - acc: 0.0913 - val_loss: 3.3849 - val_acc: 0.1446\n",
      "Epoch 41/100\n",
      "100/100 [==============================] - 44s 444ms/step - loss: 3.5903 - acc: 0.0978 - val_loss: 3.4606 - val_acc: 0.1370\n",
      "Epoch 42/100\n",
      "100/100 [==============================] - 45s 447ms/step - loss: 3.5808 - acc: 0.1057 - val_loss: 3.4976 - val_acc: 0.1242\n",
      "Epoch 43/100\n",
      "100/100 [==============================] - 45s 449ms/step - loss: 3.5513 - acc: 0.1075 - val_loss: 3.4357 - val_acc: 0.1242\n",
      "Epoch 44/100\n",
      "100/100 [==============================] - 45s 452ms/step - loss: 3.5976 - acc: 0.0907 - val_loss: 3.5152 - val_acc: 0.1260\n",
      "Epoch 45/100\n",
      "100/100 [==============================] - 45s 452ms/step - loss: 3.5781 - acc: 0.0984 - val_loss: 3.5532 - val_acc: 0.1079\n",
      "Epoch 46/100\n",
      "100/100 [==============================] - 45s 448ms/step - loss: 3.5707 - acc: 0.1000 - val_loss: 3.4070 - val_acc: 0.1420\n",
      "Epoch 47/100\n",
      "100/100 [==============================] - 45s 446ms/step - loss: 3.5592 - acc: 0.0990 - val_loss: 3.4052 - val_acc: 0.1436\n",
      "Epoch 48/100\n",
      "100/100 [==============================] - 45s 446ms/step - loss: 3.5763 - acc: 0.1081 - val_loss: 3.4278 - val_acc: 0.1360\n",
      "Epoch 49/100\n",
      "100/100 [==============================] - 45s 448ms/step - loss: 3.5209 - acc: 0.1093 - val_loss: 3.4357 - val_acc: 0.1181\n",
      "Epoch 50/100\n",
      "100/100 [==============================] - 45s 450ms/step - loss: 3.5186 - acc: 0.1168 - val_loss: 3.4965 - val_acc: 0.1240\n",
      "Epoch 51/100\n",
      "100/100 [==============================] - 45s 448ms/step - loss: 3.5294 - acc: 0.1037 - val_loss: 3.4789 - val_acc: 0.1008\n",
      "Epoch 52/100\n",
      "100/100 [==============================] - 45s 448ms/step - loss: 3.5001 - acc: 0.1187 - val_loss: 3.5000 - val_acc: 0.1180\n",
      "Epoch 53/100\n",
      "100/100 [==============================] - 45s 447ms/step - loss: 3.4965 - acc: 0.1023 - val_loss: 3.3682 - val_acc: 0.1395\n",
      "Epoch 54/100\n",
      "100/100 [==============================] - 45s 445ms/step - loss: 3.5261 - acc: 0.1180 - val_loss: 3.4108 - val_acc: 0.1527\n",
      "Epoch 55/100\n",
      "100/100 [==============================] - 45s 448ms/step - loss: 3.4935 - acc: 0.1104 - val_loss: 3.4649 - val_acc: 0.1430\n",
      "Epoch 56/100\n",
      "100/100 [==============================] - 45s 448ms/step - loss: 3.4956 - acc: 0.1227 - val_loss: 3.3456 - val_acc: 0.1548\n",
      "Epoch 57/100\n",
      "100/100 [==============================] - 45s 449ms/step - loss: 3.4885 - acc: 0.1137 - val_loss: 3.4247 - val_acc: 0.1350\n",
      "Epoch 58/100\n",
      "100/100 [==============================] - 45s 447ms/step - loss: 3.4522 - acc: 0.1219 - val_loss: 3.4238 - val_acc: 0.1263\n",
      "Epoch 59/100\n",
      "100/100 [==============================] - 45s 446ms/step - loss: 3.5099 - acc: 0.1097 - val_loss: 3.4264 - val_acc: 0.1480\n",
      "Epoch 60/100\n",
      "100/100 [==============================] - 44s 444ms/step - loss: 3.4863 - acc: 0.1138 - val_loss: 3.3163 - val_acc: 0.1619\n"
     ]
    },
    {
     "name": "stdout",
     "output_type": "stream",
     "text": [
      "Epoch 61/100\n",
      "100/100 [==============================] - 44s 445ms/step - loss: 3.4579 - acc: 0.1157 - val_loss: 3.4046 - val_acc: 0.1550\n",
      "Epoch 62/100\n",
      "100/100 [==============================] - 44s 444ms/step - loss: 3.4725 - acc: 0.1171 - val_loss: 3.4176 - val_acc: 0.1395\n",
      "Epoch 63/100\n",
      "100/100 [==============================] - 45s 446ms/step - loss: 3.4263 - acc: 0.1227 - val_loss: 3.2692 - val_acc: 0.1640\n",
      "Epoch 64/100\n",
      "100/100 [==============================] - 45s 449ms/step - loss: 3.4617 - acc: 0.1160 - val_loss: 3.2795 - val_acc: 0.1558\n",
      "Epoch 65/100\n",
      "100/100 [==============================] - 45s 450ms/step - loss: 3.4711 - acc: 0.1218 - val_loss: 3.3526 - val_acc: 0.1760\n",
      "Epoch 66/100\n",
      "100/100 [==============================] - 45s 452ms/step - loss: 3.4259 - acc: 0.1227 - val_loss: 3.4302 - val_acc: 0.1375\n",
      "Epoch 67/100\n",
      "100/100 [==============================] - 45s 446ms/step - loss: 3.4315 - acc: 0.1248 - val_loss: 3.4226 - val_acc: 0.1558\n",
      "Epoch 68/100\n",
      "100/100 [==============================] - 45s 446ms/step - loss: 3.4175 - acc: 0.1270 - val_loss: 3.4392 - val_acc: 0.1450\n",
      "Epoch 69/100\n",
      "100/100 [==============================] - 45s 445ms/step - loss: 3.4307 - acc: 0.1273 - val_loss: 3.2857 - val_acc: 0.1853\n",
      "Epoch 70/100\n",
      "100/100 [==============================] - 45s 448ms/step - loss: 3.4206 - acc: 0.1332 - val_loss: 3.3292 - val_acc: 0.1670\n",
      "Epoch 71/100\n",
      "100/100 [==============================] - 45s 450ms/step - loss: 3.4064 - acc: 0.1340 - val_loss: 3.2774 - val_acc: 0.1548\n",
      "Epoch 72/100\n",
      "100/100 [==============================] - 45s 451ms/step - loss: 3.4038 - acc: 0.1369 - val_loss: 3.3591 - val_acc: 0.1580\n",
      "Epoch 73/100\n",
      "100/100 [==============================] - 45s 447ms/step - loss: 3.3751 - acc: 0.1343 - val_loss: 3.4582 - val_acc: 0.1609\n",
      "Epoch 74/100\n",
      "100/100 [==============================] - 45s 446ms/step - loss: 3.4195 - acc: 0.1237 - val_loss: 3.3198 - val_acc: 0.1540\n",
      "Epoch 75/100\n",
      "100/100 [==============================] - 44s 444ms/step - loss: 3.3735 - acc: 0.1258 - val_loss: 3.2945 - val_acc: 0.1619\n",
      "Epoch 76/100\n",
      "100/100 [==============================] - 45s 445ms/step - loss: 3.3679 - acc: 0.1370 - val_loss: 3.2971 - val_acc: 0.1670\n",
      "Epoch 77/100\n",
      "100/100 [==============================] - 44s 443ms/step - loss: 3.4080 - acc: 0.1356 - val_loss: 3.3594 - val_acc: 0.1538\n",
      "Epoch 78/100\n",
      "100/100 [==============================] - 45s 446ms/step - loss: 3.3832 - acc: 0.1323 - val_loss: 3.3260 - val_acc: 0.1701\n",
      "Epoch 79/100\n",
      "100/100 [==============================] - 44s 442ms/step - loss: 3.3811 - acc: 0.1285 - val_loss: 3.3270 - val_acc: 0.1610\n",
      "Epoch 80/100\n",
      "100/100 [==============================] - 45s 446ms/step - loss: 3.3719 - acc: 0.1327 - val_loss: 3.4052 - val_acc: 0.1589\n",
      "Epoch 81/100\n",
      "100/100 [==============================] - 45s 448ms/step - loss: 3.3712 - acc: 0.1463 - val_loss: 3.3506 - val_acc: 0.1530\n",
      "Epoch 82/100\n",
      "100/100 [==============================] - 45s 446ms/step - loss: 3.3355 - acc: 0.1402 - val_loss: 3.2796 - val_acc: 0.1741\n",
      "Epoch 83/100\n",
      "100/100 [==============================] - 45s 449ms/step - loss: 3.3635 - acc: 0.1350 - val_loss: 3.2410 - val_acc: 0.1740\n",
      "Epoch 84/100\n",
      "100/100 [==============================] - 44s 445ms/step - loss: 3.3658 - acc: 0.1298 - val_loss: 3.4254 - val_acc: 0.1507\n",
      "Epoch 85/100\n",
      "100/100 [==============================] - 45s 449ms/step - loss: 3.3138 - acc: 0.1463 - val_loss: 3.2529 - val_acc: 0.1520\n",
      "Epoch 86/100\n",
      "100/100 [==============================] - 44s 444ms/step - loss: 3.3525 - acc: 0.1367 - val_loss: 3.2214 - val_acc: 0.1792\n",
      "Epoch 87/100\n",
      "100/100 [==============================] - 44s 444ms/step - loss: 3.3396 - acc: 0.1488 - val_loss: 3.3120 - val_acc: 0.1610\n",
      "Epoch 88/100\n",
      "100/100 [==============================] - 45s 446ms/step - loss: 3.3514 - acc: 0.1363 - val_loss: 3.2343 - val_acc: 0.1762\n",
      "Epoch 89/100\n",
      "100/100 [==============================] - 45s 447ms/step - loss: 3.3151 - acc: 0.1504 - val_loss: 3.2364 - val_acc: 0.1813\n",
      "Epoch 90/100\n",
      "100/100 [==============================] - 45s 450ms/step - loss: 3.3207 - acc: 0.1437 - val_loss: 3.3749 - val_acc: 0.1610\n",
      "Epoch 91/100\n",
      "100/100 [==============================] - 45s 446ms/step - loss: 3.3484 - acc: 0.1437 - val_loss: 3.2881 - val_acc: 0.1599\n",
      "Epoch 92/100\n",
      "100/100 [==============================] - 45s 447ms/step - loss: 3.3010 - acc: 0.1523 - val_loss: 3.2424 - val_acc: 0.1770\n",
      "Epoch 93/100\n",
      "100/100 [==============================] - 44s 443ms/step - loss: 3.3031 - acc: 0.1527 - val_loss: 3.3376 - val_acc: 0.1365\n",
      "Epoch 94/100\n",
      "100/100 [==============================] - 45s 446ms/step - loss: 3.3116 - acc: 0.1408 - val_loss: 3.2316 - val_acc: 0.1910\n",
      "Epoch 95/100\n",
      "100/100 [==============================] - 45s 445ms/step - loss: 3.3081 - acc: 0.1553 - val_loss: 3.3062 - val_acc: 0.1466\n",
      "Epoch 96/100\n",
      "100/100 [==============================] - 45s 446ms/step - loss: 3.2700 - acc: 0.1566 - val_loss: 3.2186 - val_acc: 0.1820\n",
      "Epoch 97/100\n",
      "100/100 [==============================] - 45s 447ms/step - loss: 3.2646 - acc: 0.1600 - val_loss: 3.2324 - val_acc: 0.1792\n",
      "Epoch 98/100\n",
      "100/100 [==============================] - 45s 446ms/step - loss: 3.3074 - acc: 0.1457 - val_loss: 3.1497 - val_acc: 0.1840\n",
      "Epoch 99/100\n",
      "100/100 [==============================] - 45s 446ms/step - loss: 3.2457 - acc: 0.1597 - val_loss: 3.2627 - val_acc: 0.1721\n",
      "Epoch 100/100\n",
      "100/100 [==============================] - 44s 445ms/step - loss: 3.2893 - acc: 0.1617 - val_loss: 3.2236 - val_acc: 0.1823\n"
     ]
    }
   ],
   "source": [
    "# so i am basically in each epoch, i am training on 100*30 = 3000 randomly generated images from true images\n",
    "history = model.fit_generator(train_generator, steps_per_epoch=100, epochs=epochs,\n",
    "                              validation_data=val_generator, validation_steps=50, \n",
    "                              verbose=1)              \n"
   ]
  },
  {
   "cell_type": "code",
   "execution_count": 18,
   "metadata": {},
   "outputs": [
    {
     "data": {
      "text/plain": [
       "dict_keys(['val_loss', 'val_acc', 'loss', 'acc'])"
      ]
     },
     "execution_count": 18,
     "metadata": {},
     "output_type": "execute_result"
    }
   ],
   "source": [
    "history.history.keys()"
   ]
  },
  {
   "cell_type": "code",
   "execution_count": 25,
   "metadata": {
    "scrolled": true
   },
   "outputs": [
    {
     "data": {
      "text/plain": [
       "[0.01766666755080223,\n",
       " 0.02503337906810327,\n",
       " 0.021333334408700465,\n",
       " 0.03905207101499366,\n",
       " 0.040000001713633535,\n",
       " 0.039666668251156806,\n",
       " 0.045727638589922036,\n",
       " 0.04333333507180214,\n",
       " 0.05106809281698056,\n",
       " 0.04833333529531956,\n",
       " 0.05607476864552227,\n",
       " 0.04766666874289513,\n",
       " 0.05266666881740093,\n",
       " 0.04639519570775837,\n",
       " 0.056000002063810825,\n",
       " 0.05740988230176061,\n",
       " 0.05800000235438347,\n",
       " 0.05600000225007534,\n",
       " 0.06341789300753692,\n",
       " 0.07200000286102295,\n",
       " 0.06642189823856978,\n",
       " 0.06733333609998227,\n",
       " 0.06133333578705788,\n",
       " 0.07142857395022988,\n",
       " 0.07666666969656945,\n",
       " 0.06975968211929057,\n",
       " 0.06966666899621486,\n",
       " 0.0804405904789076,\n",
       " 0.08100000284612179,\n",
       " 0.07700000278651714,\n",
       " 0.0754339145807343,\n",
       " 0.0843333363160491,\n",
       " 0.08110814714413857,\n",
       " 0.08866666983813047,\n",
       " 0.08366666931658984,\n",
       " 0.0944592823039427,\n",
       " 0.08666666973382235,\n",
       " 0.09012016322518461,\n",
       " 0.08766666986048222,\n",
       " 0.09133333630859852,\n",
       " 0.09779706608767662,\n",
       " 0.10566667031496763,\n",
       " 0.10747663920698003,\n",
       " 0.09066666983067989,\n",
       " 0.09846462309360504,\n",
       " 0.10000000320374966,\n",
       " 0.09900000341236591,\n",
       " 0.10814419542457933,\n",
       " 0.10933333661407232,\n",
       " 0.1168224331916612,\n",
       " 0.10366667009890079,\n",
       " 0.11866667002439499,\n",
       " 0.10246996316456985,\n",
       " 0.118000004068017,\n",
       " 0.11048064437335499,\n",
       " 0.12266667053103447,\n",
       " 0.11366667024791241,\n",
       " 0.12182910949518987,\n",
       " 0.10966667041182518,\n",
       " 0.11381842791835202,\n",
       " 0.11566667057573796,\n",
       " 0.11715621177171753,\n",
       " 0.12266667045652867,\n",
       " 0.11600000359117985,\n",
       " 0.12182910965434779,\n",
       " 0.12266667105257512,\n",
       " 0.12483311496495962,\n",
       " 0.12700000401586295,\n",
       " 0.12733333755284548,\n",
       " 0.13317757422161675,\n",
       " 0.13400000363588332,\n",
       " 0.13684913645857805,\n",
       " 0.1343333374708891,\n",
       " 0.12366667039692401,\n",
       " 0.1258344499814574,\n",
       " 0.13700000394135714,\n",
       " 0.13551402282969496,\n",
       " 0.13233333703130484,\n",
       " 0.12850467737848673,\n",
       " 0.13266667075455188,\n",
       " 0.1463333375006914,\n",
       " 0.14018691983198292,\n",
       " 0.13500000406056642,\n",
       " 0.12983979060698814,\n",
       " 0.14633333802223206,\n",
       " 0.13666667073965072,\n",
       " 0.1488651580839991,\n",
       " 0.1363333371654153,\n",
       " 0.1502002717203427,\n",
       " 0.14366667088121177,\n",
       " 0.14366667084395884,\n",
       " 0.15220294158671982,\n",
       " 0.15266667086631058,\n",
       " 0.14085447634800333,\n",
       " 0.15533333782106637,\n",
       " 0.1565420608992411,\n",
       " 0.16000000424683095,\n",
       " 0.1456666712090373,\n",
       " 0.15954606604074764,\n",
       " 0.16166667148470878]"
      ]
     },
     "execution_count": 25,
     "metadata": {},
     "output_type": "execute_result"
    }
   ],
   "source": [
    "history.history['acc']"
   ]
  },
  {
   "cell_type": "markdown",
   "metadata": {},
   "source": [
    "- See accuracy in test dataset & double check other accuracies"
   ]
  },
  {
   "cell_type": "code",
   "execution_count": 24,
   "metadata": {},
   "outputs": [
    {
     "data": {
      "text/plain": [
       "2"
      ]
     },
     "execution_count": 24,
     "metadata": {},
     "output_type": "execute_result"
    }
   ],
   "source": [
    "1+1"
   ]
  },
  {
   "cell_type": "code",
   "execution_count": 20,
   "metadata": {},
   "outputs": [
    {
     "name": "stdout",
     "output_type": "stream",
     "text": [
      "(2278, 60)\n",
      "[ 0  1  2  4  5  6  7  8  9 10 11 12 13 14 15 16 17 18 19 20 24 26 27 28\n",
      " 29 30 32 33 34 35 36 37 38 39 40 41 43 44 45 46 47 48 49 50 51 52 53 54\n",
      " 55 57 58 59]\n",
      "0.10316066725197541\n"
     ]
    }
   ],
   "source": [
    "# test\n",
    "y_test_model = model.predict_classes(X_test)\n",
    "y_test_model_prob=model.predict_proba(X_test)\n",
    "print(y_test_model_prob.shape)\n",
    "y_test_true_flat=redo_kreas_category(y_test)\n",
    "print(np.unique(y_test_model))\n",
    "print(accuracy_score(y_test_model, y_test_true_flat))"
   ]
  },
  {
   "cell_type": "code",
   "execution_count": 21,
   "metadata": {},
   "outputs": [
    {
     "name": "stdout",
     "output_type": "stream",
     "text": [
      "(1822, 60)\n",
      "[ 0  1  2  4  5  6  7  8  9 10 11 13 15 16 19 20 24 26 27 28 29 30 32 33\n",
      " 34 35 37 38 39 41 44 45 46 47 48 49 50 52 53 54 55 56 57 58 59]\n",
      "0.09879253567508232\n"
     ]
    }
   ],
   "source": [
    "# validation\n",
    "y_val_model = model.predict_classes(X_val)\n",
    "y_val_model_prob=model.predict_proba(X_val)\n",
    "print(y_val_model_prob.shape)\n",
    "y_val_true_flat=redo_kreas_category(y_val)\n",
    "print(np.unique(y_val_model))\n",
    "print(accuracy_score(y_val_model, y_val_true_flat))"
   ]
  },
  {
   "cell_type": "code",
   "execution_count": 22,
   "metadata": {},
   "outputs": [
    {
     "name": "stdout",
     "output_type": "stream",
     "text": [
      "(7286, 60)\n",
      "[ 0  1  2  4  5  6  7  8  9 10 11 12 13 15 16 17 18 19 20 21 23 24 25 26\n",
      " 27 28 29 30 31 32 33 34 35 36 37 38 39 41 42 43 44 45 46 47 48 49 50 52\n",
      " 53 54 55 56 57 58 59]\n",
      "0.10389788635739775\n"
     ]
    }
   ],
   "source": [
    "# train\n",
    "y_train_model = model.predict_classes(X_train)\n",
    "y_train_model_prob=model.predict_proba(X_train)\n",
    "print(y_train_model_prob.shape)\n",
    "y_train_true_flat=redo_kreas_category(y_train)\n",
    "print(np.unique(y_train_model))\n",
    "print(accuracy_score(y_train_model, y_train_true_flat))"
   ]
  },
  {
   "cell_type": "markdown",
   "metadata": {},
   "source": [
    "- Graphs"
   ]
  },
  {
   "cell_type": "code",
   "execution_count": 26,
   "metadata": {},
   "outputs": [
    {
     "data": {
      "image/png": "[encoded data removed]",
      "text/plain": [
       "<Figure size 864x288 with 2 Axes>"
      ]
     },
     "metadata": {
      "needs_background": "light"
     },
     "output_type": "display_data"
    }
   ],
   "source": [
    "f, (ax1, ax2) = plt.subplots(1, 2, figsize=(12, 4))\n",
    "t = f.suptitle('Basic CNN Performance', fontsize=12)\n",
    "f.subplots_adjust(top=0.85, wspace=0.3)\n",
    "\n",
    "epoch_list = list(range(1,len(history.history['acc'])+1))\n",
    "ax1.plot(epoch_list, history.history['acc'], label='Train Accuracy')\n",
    "ax1.plot(epoch_list, history.history['val_acc'], label='Validation Accuracy')\n",
    "ax1.set_xticks(np.arange(0, epochs+1, 2))\n",
    "ax1.set_ylabel('Accuracy Value')\n",
    "ax1.set_xlabel('Epoch')\n",
    "ax1.set_title('Accuracy')\n",
    "l1 = ax1.legend(loc=\"best\")\n",
    "\n",
    "ax2.plot(epoch_list, history.history['loss'], label='Train Loss')\n",
    "ax2.plot(epoch_list, history.history['val_loss'], label='Validation Loss')\n",
    "ax2.set_xticks(np.arange(0, epochs+1, 2))\n",
    "ax2.set_ylabel('Loss Value')\n",
    "ax2.set_xlabel('Epoch')\n",
    "ax2.set_title('Loss')\n",
    "l2 = ax2.legend(loc=\"best\")"
   ]
  }
 ],
 "metadata": {
  "kernelspec": {
   "display_name": "Python 3",
   "language": "python",
   "name": "python3"
  },
  "language_info": {
   "codemirror_mode": {
    "name": "ipython",
    "version": 3
   },
   "file_extension": ".py",
   "mimetype": "text/x-python",
   "name": "python",
   "nbconvert_exporter": "python",
   "pygments_lexer": "ipython3",
   "version": "3.7.3"
  }
 },
 "nbformat": 4,
 "nbformat_minor": 2
}
