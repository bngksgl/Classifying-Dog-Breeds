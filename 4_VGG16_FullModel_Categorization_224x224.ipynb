{
 "cells": [
  {
   "cell_type": "markdown",
   "metadata": {},
   "source": [
    "# 4. VGG16 FullModel (without any training)"
   ]
  },
  {
   "cell_type": "markdown",
   "metadata": {},
   "source": [
    "https://towardsdatascience.com/a-comprehensive-hands-on-guide-to-transfer-learning-with-real-world-applications-in-deep-learning-212bf3b2f27a"
   ]
  },
  {
   "cell_type": "code",
   "execution_count": 1,
   "metadata": {},
   "outputs": [
    {
     "name": "stderr",
     "output_type": "stream",
     "text": [
      "Using TensorFlow backend.\n"
     ]
    }
   ],
   "source": [
    "from keras.applications import vgg16\n",
    "from keras.models import Model\n",
    "import keras\n",
    "import os,shutil,math,scipy,cv2\n",
    "import numpy as np\n",
    "from keras.preprocessing.image import ImageDataGenerator, load_img, img_to_array, array_to_img\n",
    "from sklearn.preprocessing import LabelEncoder\n",
    "from sklearn.model_selection import train_test_split\n",
    "from keras.layers import Conv2D, MaxPooling2D, Flatten, Dense, Dropout, InputLayer\n",
    "from keras.models import Sequential\n",
    "from keras import optimizers\n",
    "import matplotlib.pyplot as plt\n",
    "from sklearn.metrics import accuracy_score\n",
    "from keras.utils.np_utils import to_categorical\n",
    "import pandas as pd\n",
    "from keras.applications.vgg16 import VGG16,preprocess_input"
   ]
  },
  {
   "cell_type": "code",
   "execution_count": 2,
   "metadata": {},
   "outputs": [],
   "source": [
    "def redo_kreas_category(arr):\n",
    "    redo=[]\n",
    "    for i in arr:\n",
    "        redo.append(list(i).index(1))\n",
    "    return redo"
   ]
  },
  {
   "cell_type": "markdown",
   "metadata": {},
   "source": [
    "- Get the chosen categories"
   ]
  },
  {
   "cell_type": "code",
   "execution_count": 3,
   "metadata": {},
   "outputs": [
    {
     "data": {
      "text/plain": [
       "60"
      ]
     },
     "execution_count": 3,
     "metadata": {},
     "output_type": "execute_result"
    }
   ],
   "source": [
    "lists=pd.read_csv('categories.csv')\n",
    "lists=list(lists['0'])\n",
    "len(lists)"
   ]
  },
  {
   "cell_type": "markdown",
   "metadata": {},
   "source": [
    "## First Chunk"
   ]
  },
  {
   "cell_type": "markdown",
   "metadata": {},
   "source": [
    "- We have to do it in chunks, due to memory errors. Since we will only use the model for predictions, we will be fine"
   ]
  },
  {
   "cell_type": "code",
   "execution_count": 4,
   "metadata": {},
   "outputs": [
    {
     "data": {
      "text/plain": [
       "5693"
      ]
     },
     "execution_count": 4,
     "metadata": {},
     "output_type": "execute_result"
    }
   ],
   "source": [
    "firstchunk = int(11386/2)\n",
    "firstchunk"
   ]
  },
  {
   "cell_type": "code",
   "execution_count": 5,
   "metadata": {},
   "outputs": [],
   "source": [
    "true_labels = []\n",
    "imgsize=224\n",
    "#result_array = np.zeros((20580, imgsize, imgsize, 3))\n",
    "#result_array = np.zeros((11386, imgsize, imgsize, 3))\n",
    "result_array = np.zeros((firstchunk, imgsize, imgsize, 3))\n",
    "cur_dir = os.path.dirname(os.path.realpath(os.getcwd()))\n",
    "paths=cur_dir+'/Project/Images/'\n",
    "# we have 20580 images\n",
    "\n",
    "\n",
    "j=0\n",
    "\n",
    "for i in lists:\n",
    "    images=os.listdir(paths+i)\n",
    "    label=i[10:]\n",
    "    for k in images:\n",
    "        if(j==5693):\n",
    "            break\n",
    "        img = cv2.imread(paths+i+'/'+k,cv2.IMREAD_COLOR)\n",
    "        img = cv2.resize(img,(imgsize,imgsize))\n",
    "        true_labels.append(label)\n",
    "        result_array[j,:,:,:]=np.array(img)\n",
    "        j=j+1"
   ]
  },
  {
   "cell_type": "code",
   "execution_count": 8,
   "metadata": {
    "scrolled": true
   },
   "outputs": [
    {
     "data": {
      "text/plain": [
       "array([[[ 95.,  82.,  51.],\n",
       "        [130.,  89.,  55.],\n",
       "        [255., 238., 192.],\n",
       "        ...,\n",
       "        [ 32.,  28.,  20.],\n",
       "        [ 28.,  26.,  17.],\n",
       "        [ 33.,  33.,  23.]],\n",
       "\n",
       "       [[126., 111.,  80.],\n",
       "        [135.,  93.,  60.],\n",
       "        [252., 214., 170.],\n",
       "        ...,\n",
       "        [ 49.,  39.,  31.],\n",
       "        [ 47.,  36.,  27.],\n",
       "        [ 39.,  30.,  20.]],\n",
       "\n",
       "       [[126., 109.,  78.],\n",
       "        [161., 118.,  85.],\n",
       "        [224., 183., 140.],\n",
       "        ...,\n",
       "        [ 69.,  51.,  40.],\n",
       "        [ 70.,  49.,  39.],\n",
       "        [ 70.,  50.,  39.]],\n",
       "\n",
       "       ...,\n",
       "\n",
       "       [[ 76.,  70.,  63.],\n",
       "        [ 89.,  83.,  76.],\n",
       "        [ 92.,  88.,  83.],\n",
       "        ...,\n",
       "        [ 54.,  56.,  50.],\n",
       "        [ 62.,  65.,  55.],\n",
       "        [ 55.,  58.,  48.]],\n",
       "\n",
       "       [[ 77.,  71.,  64.],\n",
       "        [ 93.,  87.,  80.],\n",
       "        [ 92.,  88.,  83.],\n",
       "        ...,\n",
       "        [ 45.,  46.,  42.],\n",
       "        [ 63.,  64.,  55.],\n",
       "        [ 62.,  61.,  53.]],\n",
       "\n",
       "       [[ 84.,  78.,  71.],\n",
       "        [ 93.,  87.,  80.],\n",
       "        [ 92.,  88.,  83.],\n",
       "        ...,\n",
       "        [ 46.,  47.,  43.],\n",
       "        [ 51.,  48.,  42.],\n",
       "        [ 54.,  51.,  43.]]])"
      ]
     },
     "execution_count": 8,
     "metadata": {},
     "output_type": "execute_result"
    }
   ],
   "source": [
    "result_array[-1]"
   ]
  },
  {
   "cell_type": "code",
   "execution_count": 9,
   "metadata": {},
   "outputs": [
    {
     "data": {
      "text/plain": [
       "(5693, 224, 224, 3)"
      ]
     },
     "execution_count": 9,
     "metadata": {},
     "output_type": "execute_result"
    }
   ],
   "source": [
    "result_array.shape"
   ]
  },
  {
   "cell_type": "code",
   "execution_count": 10,
   "metadata": {},
   "outputs": [
    {
     "data": {
      "text/plain": [
       "5693"
      ]
     },
     "execution_count": 10,
     "metadata": {},
     "output_type": "execute_result"
    }
   ],
   "source": [
    "len(true_labels)"
   ]
  },
  {
   "cell_type": "code",
   "execution_count": 11,
   "metadata": {},
   "outputs": [
    {
     "data": {
      "text/plain": [
       "28"
      ]
     },
     "execution_count": 11,
     "metadata": {},
     "output_type": "execute_result"
    }
   ],
   "source": [
    "len(np.unique(np.array(true_labels)))"
   ]
  },
  {
   "cell_type": "markdown",
   "metadata": {},
   "source": [
    "- Preprocessing:\n",
    "The image pixels need to be prepared in the same way as the ImageNet training data was prepared. Specificall from the paper: The only preprocessing we do is subtracting the mean RGB value, computed on the training set, from each pixel."
   ]
  },
  {
   "cell_type": "code",
   "execution_count": 12,
   "metadata": {},
   "outputs": [],
   "source": [
    "# prepare the image for the VGG model\n",
    "image = preprocess_input(result_array)"
   ]
  },
  {
   "cell_type": "markdown",
   "metadata": {},
   "source": [
    "- Get the model and predict it"
   ]
  },
  {
   "cell_type": "code",
   "execution_count": 13,
   "metadata": {},
   "outputs": [
    {
     "name": "stdout",
     "output_type": "stream",
     "text": [
      "WARNING:tensorflow:From /home/bengikoseoglu/environments/my_env/lib/python3.7/site-packages/tensorflow/python/framework/op_def_library.py:263: colocate_with (from tensorflow.python.framework.ops) is deprecated and will be removed in a future version.\n",
      "Instructions for updating:\n",
      "Colocations handled automatically by placer.\n"
     ]
    }
   ],
   "source": [
    "# predict the probability across all output classes (in this case imagenet have 1000 classes, so 1000 classes)\n",
    "# predict the probability across all output classes (in this case imagenet have 1000 classes, so 1000 classes)\n",
    "model = VGG16()\n",
    "yhat = model.predict(image)"
   ]
  },
  {
   "cell_type": "code",
   "execution_count": 14,
   "metadata": {},
   "outputs": [
    {
     "data": {
      "text/plain": [
       "5693"
      ]
     },
     "execution_count": 14,
     "metadata": {},
     "output_type": "execute_result"
    }
   ],
   "source": [
    "len(yhat)"
   ]
  },
  {
   "cell_type": "code",
   "execution_count": 15,
   "metadata": {},
   "outputs": [
    {
     "data": {
      "text/plain": [
       "array([4.92606123e-10, 2.78100543e-09, 2.04385686e-09, 9.99947236e-10,\n",
       "       4.20686863e-09, 1.61428879e-08, 1.06027741e-07, 1.04442883e-07,\n",
       "       1.21686503e-06, 1.24255228e-09, 7.71178399e-10, 1.62586622e-09,\n",
       "       9.26604926e-09, 1.11909833e-08, 2.43003528e-09, 7.47674145e-10,\n",
       "       1.56809910e-09, 2.05574835e-07, 7.75842413e-09, 1.37835940e-07,\n",
       "       3.95795441e-09, 9.75535173e-08, 1.44276657e-09, 5.52995116e-09,\n",
       "       1.00656097e-08, 7.39506290e-10, 1.18179702e-10, 8.73564665e-10,\n",
       "       8.69417782e-09, 1.69466343e-08, 1.81866161e-10, 2.25086016e-09,\n",
       "       7.54997065e-10, 3.39802817e-08, 3.34472787e-08, 1.81168280e-09,\n",
       "       1.83284339e-08, 7.85041632e-09, 5.00157471e-10, 6.66420163e-09,\n",
       "       4.03434564e-10, 1.34900158e-09, 9.18273679e-10, 7.78274112e-10,\n",
       "       2.35802516e-10, 5.66256952e-09, 5.79766102e-09, 2.83474577e-10,\n",
       "       4.86389329e-09, 7.26419480e-11, 1.06987896e-09, 5.64700342e-10,\n",
       "       3.98809735e-10, 5.33634859e-10, 2.98889180e-09, 2.57318583e-10,\n",
       "       3.67127018e-09, 4.72211881e-10, 9.84848314e-10, 3.64616004e-10,\n",
       "       3.23678417e-09, 8.97214081e-10, 8.08590070e-11, 9.82629000e-09,\n",
       "       1.20290644e-09, 6.32819297e-10, 6.91394553e-10, 6.49558352e-10,\n",
       "       5.31365840e-10, 1.67228242e-09, 2.01894839e-08, 3.25861960e-09,\n",
       "       2.70529577e-09, 9.27910193e-09, 3.88799526e-09, 9.26977961e-09,\n",
       "       2.91659443e-08, 2.65770765e-08, 7.13480919e-09, 1.05353770e-08,\n",
       "       4.88354512e-09, 3.59295939e-07, 1.21612125e-08, 6.27440055e-09,\n",
       "       9.24488308e-09, 7.45237028e-09, 2.33848603e-08, 1.49950483e-05,\n",
       "       1.80437958e-08, 2.13964285e-07, 1.05408593e-09, 2.13935092e-09,\n",
       "       1.74110795e-10, 5.29809363e-10, 9.72243086e-09, 1.26587754e-10,\n",
       "       2.59682875e-09, 1.27725530e-09, 4.27570757e-10, 9.78630155e-09,\n",
       "       9.63372368e-11, 1.69261050e-10, 5.84996851e-09, 2.55095745e-09,\n",
       "       8.83695517e-09, 3.42336470e-09, 1.16132997e-08, 2.74384586e-08,\n",
       "       1.07209797e-08, 5.79865378e-10, 1.67543990e-09, 4.15485063e-10,\n",
       "       8.25675599e-08, 3.30202798e-09, 2.04487072e-09, 2.92858338e-09,\n",
       "       4.23427710e-10, 1.24663595e-08, 4.56038496e-09, 1.58840607e-09,\n",
       "       3.30162342e-10, 3.34732975e-09, 1.65101954e-09, 2.85446400e-09,\n",
       "       8.45313508e-09, 2.06026538e-08, 2.29673542e-08, 1.69733863e-08,\n",
       "       2.72681933e-10, 5.87547522e-09, 1.53421553e-09, 1.40444223e-09,\n",
       "       3.78788823e-09, 1.28165950e-10, 1.39850531e-09, 1.74549042e-10,\n",
       "       1.00720765e-09, 6.52864762e-10, 6.65815358e-09, 1.66898761e-09,\n",
       "       5.16970289e-09, 1.05278597e-09, 9.08309331e-11, 2.42628723e-10,\n",
       "       6.63562538e-09, 3.14987392e-09, 1.37813796e-08, 6.58532326e-11,\n",
       "       2.21768770e-10, 9.06532716e-09, 5.33402336e-08, 9.78206663e-05,\n",
       "       6.14016744e-06, 9.77755368e-01, 1.75958779e-03, 2.27586203e-03,\n",
       "       4.68867938e-06, 1.45656131e-05, 1.98377602e-05, 2.62884434e-08,\n",
       "       5.85749945e-07, 2.73978628e-07, 3.08759081e-06, 8.94295198e-08,\n",
       "       6.48328978e-07, 1.11788388e-07, 2.93237470e-08, 8.99795527e-09,\n",
       "       8.96937777e-08, 3.09489764e-07, 4.08755625e-07, 6.38370125e-07,\n",
       "       1.88659200e-07, 2.14134843e-08, 5.39009193e-07, 5.50793516e-07,\n",
       "       5.70277678e-07, 1.50985244e-07, 4.49997970e-07, 5.98023007e-06,\n",
       "       2.12504733e-06, 2.63641283e-07, 2.86735049e-05, 1.63541785e-07,\n",
       "       7.05332127e-07, 1.71018139e-04, 4.47082584e-06, 5.28265846e-05,\n",
       "       1.69622376e-06, 8.67704841e-07, 9.62449703e-05, 1.66095163e-07,\n",
       "       3.61531682e-04, 5.91131102e-05, 7.38746576e-06, 4.93598463e-06,\n",
       "       3.95077477e-05, 4.20736654e-07, 5.87427053e-07, 7.00404371e-06,\n",
       "       4.87232501e-05, 2.47592507e-05, 9.85936549e-06, 1.05816787e-02,\n",
       "       4.70552966e-03, 9.06649049e-08, 2.05067474e-09, 1.15755020e-05,\n",
       "       4.21897894e-05, 1.22429554e-07, 5.24515080e-08, 2.64188831e-08,\n",
       "       1.41852124e-05, 3.92335195e-08, 2.81105656e-07, 3.50914632e-07,\n",
       "       5.65886467e-06, 1.66876737e-06, 1.31428180e-07, 1.40977601e-04,\n",
       "       1.39078054e-07, 3.98158573e-09, 5.65928822e-05, 3.84793537e-07,\n",
       "       3.99052658e-09, 1.41161625e-08, 2.96300584e-07, 8.32179978e-08,\n",
       "       7.43645796e-06, 1.81679043e-05, 9.51150056e-08, 4.29235669e-08,\n",
       "       2.28424000e-07, 2.96546396e-08, 1.40343957e-07, 5.18839549e-08,\n",
       "       1.27115399e-07, 2.68668009e-06, 2.08993868e-07, 7.20352489e-08,\n",
       "       1.66899881e-07, 4.97993327e-08, 8.09951143e-06, 4.25733134e-07,\n",
       "       4.97665731e-08, 1.30579265e-05, 8.63220251e-08, 2.30298660e-08,\n",
       "       3.86429662e-07, 3.46456744e-07, 3.28365417e-07, 2.65181752e-05,\n",
       "       1.63005586e-06, 4.15394368e-08, 3.99774144e-05, 1.59500093e-08,\n",
       "       6.08373867e-08, 5.36624248e-05, 8.78919582e-06, 7.20354947e-05,\n",
       "       1.77854560e-07, 9.74873501e-07, 7.94591017e-07, 1.47388121e-07,\n",
       "       1.64856360e-07, 8.20215675e-04, 7.03224505e-05, 1.50757830e-06,\n",
       "       7.62650245e-07, 3.02899594e-09, 1.25164959e-07, 3.75512704e-10,\n",
       "       1.13204102e-09, 1.80074213e-08, 2.20736540e-10, 2.07352913e-10,\n",
       "       4.81889550e-09, 8.82310613e-10, 3.81025034e-09, 7.01916576e-07,\n",
       "       4.68091610e-09, 1.55730930e-07, 1.55802823e-07, 5.74735350e-06,\n",
       "       5.44068598e-06, 4.47369814e-07, 1.17944277e-08, 8.78673575e-07,\n",
       "       8.54960935e-10, 9.39532452e-09, 1.12382503e-09, 7.87132803e-10,\n",
       "       6.10207396e-09, 7.09973103e-09, 7.38730965e-10, 1.70490344e-10,\n",
       "       3.94955009e-07, 3.31940447e-10, 4.98567374e-08, 1.90691560e-06,\n",
       "       7.02878755e-10, 5.48186740e-08, 1.89444194e-09, 4.68340788e-09,\n",
       "       3.60346308e-09, 4.63396832e-09, 3.25840368e-08, 1.08861509e-09,\n",
       "       2.16260876e-09, 3.58844243e-09, 9.82610260e-09, 1.13202370e-09,\n",
       "       1.03527116e-08, 8.81182594e-09, 6.68334934e-08, 2.72354095e-09,\n",
       "       3.49755580e-09, 1.58899094e-09, 1.49185075e-09, 2.48756216e-09,\n",
       "       9.56895563e-10, 1.03699993e-09, 6.01092842e-10, 1.54675883e-09,\n",
       "       1.01433606e-07, 1.70166103e-10, 4.75819328e-10, 1.62158376e-08,\n",
       "       1.58728035e-08, 9.77335102e-10, 6.03355161e-08, 2.72750853e-08,\n",
       "       1.26199518e-06, 1.07060930e-06, 3.16248872e-07, 9.49304080e-10,\n",
       "       1.30314826e-08, 9.54883195e-09, 1.41152686e-05, 1.51315592e-11,\n",
       "       1.02203712e-09, 2.09041175e-08, 6.31254493e-10, 4.59520599e-09,\n",
       "       2.27535490e-10, 7.37385153e-10, 5.39660538e-10, 6.83555643e-11,\n",
       "       1.76138819e-08, 5.80054234e-11, 2.24110869e-10, 8.25741975e-11,\n",
       "       2.55487940e-11, 1.85841939e-10, 1.86316917e-09, 2.88055411e-08,\n",
       "       1.75751138e-05, 1.97301219e-07, 1.10434564e-06, 1.13597553e-05,\n",
       "       1.75269167e-06, 5.95046856e-07, 1.00371835e-07, 1.91554967e-08,\n",
       "       1.10108033e-06, 4.62504124e-09, 1.49512092e-09, 2.75046741e-09,\n",
       "       7.20749327e-09, 8.16408718e-10, 6.52814069e-09, 4.14209964e-08,\n",
       "       4.65847805e-10, 2.21413843e-09, 1.14444232e-08, 2.92617273e-08,\n",
       "       3.83979515e-10, 1.11226757e-06, 2.64450847e-07, 4.92673102e-09,\n",
       "       7.29699593e-07, 4.97515540e-09, 5.84058419e-08, 3.45135964e-09,\n",
       "       1.66727576e-09, 7.05333736e-10, 4.75128215e-10, 3.70420250e-09,\n",
       "       1.22106570e-07, 9.23627730e-10, 7.41992967e-10, 3.02570480e-09,\n",
       "       6.61455335e-11, 3.10780596e-10, 2.26082930e-09, 3.16428800e-10,\n",
       "       6.46933751e-09, 2.84416686e-08, 2.19783414e-09, 1.43700003e-08,\n",
       "       2.39429210e-09, 4.53944686e-08, 6.63695410e-09, 4.96047536e-10,\n",
       "       2.64169908e-10, 8.30435454e-09, 1.67260215e-08, 2.52804688e-09,\n",
       "       1.17506582e-09, 4.48837278e-09, 5.64041536e-10, 3.05009053e-07,\n",
       "       1.53841415e-06, 2.87730728e-09, 1.87302192e-08, 3.53316096e-08,\n",
       "       2.83935742e-09, 1.86022628e-08, 4.90307928e-09, 5.21067250e-07,\n",
       "       5.86764983e-08, 3.04357850e-09, 5.49004708e-09, 4.72077932e-09,\n",
       "       5.17956558e-08, 3.95315602e-09, 7.01495617e-09, 3.63759192e-08,\n",
       "       1.50918353e-08, 7.53068807e-09, 5.97128791e-10, 3.32655909e-05,\n",
       "       3.56825347e-09, 2.28239998e-07, 4.94269952e-05, 2.80882716e-07,\n",
       "       3.61054919e-09, 2.89213151e-08, 3.59632191e-09, 2.89102164e-09,\n",
       "       5.82928461e-09, 9.91844384e-09, 3.67831454e-09, 1.13784631e-06,\n",
       "       3.70617204e-10, 6.80170986e-09, 4.32126370e-08, 1.02641415e-07,\n",
       "       2.13554436e-08, 6.24976848e-10, 4.66207162e-09, 1.19371215e-08,\n",
       "       5.70978909e-06, 5.94279470e-09, 3.57404828e-10, 2.83185209e-08,\n",
       "       4.89456697e-09, 1.11253382e-06, 6.65515365e-10, 1.08659556e-07,\n",
       "       1.77699846e-08, 9.21315007e-08, 1.23108634e-07, 5.09290248e-06,\n",
       "       1.64812253e-08, 9.23004784e-09, 4.23531343e-09, 5.43113610e-10,\n",
       "       3.29042837e-09, 1.20560202e-07, 5.29786973e-07, 4.71112838e-09,\n",
       "       7.04682868e-10, 1.62520664e-08, 4.12300913e-08, 3.85011774e-08,\n",
       "       1.15467964e-08, 6.25472951e-10, 5.24159304e-07, 3.78541287e-08,\n",
       "       1.70898695e-09, 4.13094936e-09, 6.61060928e-10, 2.89298391e-10,\n",
       "       8.66026628e-09, 2.55516106e-08, 8.74564920e-10, 1.35221461e-08,\n",
       "       6.77063206e-09, 1.48624784e-08, 2.16759020e-08, 3.63928354e-09,\n",
       "       2.16007351e-07, 2.79659584e-09, 2.14137175e-09, 2.96524334e-08,\n",
       "       8.23145911e-07, 7.42372741e-09, 1.06384357e-09, 3.40428166e-08,\n",
       "       4.91822194e-10, 2.60132794e-07, 4.39480097e-08, 4.47623520e-08,\n",
       "       1.11933367e-07, 5.05908190e-07, 5.11108524e-08, 2.40314035e-09,\n",
       "       3.49195162e-08, 9.84369364e-10, 1.20368682e-09, 1.91244198e-09,\n",
       "       5.47018431e-10, 4.39124348e-10, 1.16038006e-08, 7.87985016e-07,\n",
       "       3.48217486e-06, 8.97126817e-10, 2.85867721e-08, 8.13775927e-08,\n",
       "       1.13385568e-06, 6.15073702e-07, 6.24272745e-10, 5.47123378e-08,\n",
       "       7.84652432e-09, 1.42431611e-09, 1.50213619e-08, 3.63591846e-09,\n",
       "       8.65229595e-08, 9.34147283e-06, 5.86909099e-09, 4.42649695e-09,\n",
       "       5.63990454e-08, 3.84444377e-07, 5.78577237e-06, 7.61491350e-08,\n",
       "       2.88604629e-09, 6.94494240e-09, 1.88799323e-08, 1.90874061e-06,\n",
       "       2.69435829e-09, 1.19777695e-07, 2.21028003e-07, 6.29720702e-08,\n",
       "       1.59977304e-07, 2.52049773e-07, 4.17599422e-09, 3.06632324e-11,\n",
       "       1.74861026e-09, 2.06016026e-07, 1.49868757e-08, 2.95930516e-08,\n",
       "       4.14869055e-06, 2.61688671e-09, 1.50886414e-08, 4.94610575e-10,\n",
       "       5.03002227e-08, 4.51877247e-09, 4.99711472e-09, 5.58307214e-08,\n",
       "       1.73703310e-08, 2.82894064e-09, 6.85853507e-09, 5.79363757e-09,\n",
       "       2.65343886e-07, 8.00096933e-11, 6.88567703e-10, 5.00579809e-08,\n",
       "       4.76912646e-07, 3.15593385e-10, 3.34450441e-08, 1.04470814e-10,\n",
       "       1.12842198e-08, 3.97047550e-09, 4.19709281e-08, 7.93609067e-10,\n",
       "       2.37342213e-09, 1.92625427e-09, 3.04206679e-07, 6.07518089e-08,\n",
       "       6.41381614e-09, 1.27135880e-09, 2.06447726e-09, 1.57910005e-08,\n",
       "       4.62909426e-08, 9.09675180e-08, 2.87933177e-10, 8.09341145e-08,\n",
       "       1.38572586e-05, 3.55464613e-06, 6.75627110e-10, 1.23794371e-06,\n",
       "       5.00385084e-08, 1.11929888e-08, 7.12452852e-09, 4.44979081e-10,\n",
       "       8.84236773e-09, 7.28843041e-10, 4.98500530e-09, 1.41429712e-09,\n",
       "       2.23899175e-08, 5.29795500e-07, 1.53528479e-08, 4.49248194e-10,\n",
       "       4.27171587e-09, 2.31051778e-09, 2.96606771e-07, 1.67795677e-09,\n",
       "       1.02634168e-07, 6.89285184e-10, 3.78242362e-07, 1.65582037e-08,\n",
       "       3.58189645e-10, 5.38374962e-08, 1.28938382e-07, 1.09902459e-07,\n",
       "       8.10507430e-08, 2.37866242e-08, 3.16377395e-07, 1.85818203e-06,\n",
       "       1.06826718e-07, 4.81627893e-08, 1.32947491e-07, 2.39539411e-08,\n",
       "       8.79617101e-10, 1.01682995e-09, 2.16493859e-07, 1.52443871e-08,\n",
       "       5.92264149e-09, 3.34590808e-08, 5.79100767e-09, 1.05128002e-07,\n",
       "       2.18761276e-09, 1.72304873e-08, 1.56662217e-09, 1.97854222e-09,\n",
       "       4.90621588e-08, 1.78977699e-09, 2.42039633e-08, 3.26459961e-08,\n",
       "       1.50633941e-08, 1.00599145e-07, 6.40447606e-09, 6.36493553e-07,\n",
       "       6.71260523e-08, 3.21327409e-09, 3.09019899e-09, 6.68361722e-08,\n",
       "       4.82175455e-09, 2.05988315e-09, 4.50848674e-08, 1.01675877e-08,\n",
       "       4.88911800e-09, 7.46721511e-08, 1.73854042e-09, 2.70669602e-08,\n",
       "       3.63250119e-09, 8.56386162e-09, 9.44000220e-08, 1.18500743e-07,\n",
       "       1.35836364e-09, 3.56863955e-10, 1.33807028e-08, 9.44829659e-10,\n",
       "       7.90462718e-09, 2.75414608e-10, 2.09413127e-08, 2.91787273e-07,\n",
       "       2.13488338e-09, 8.71891825e-06, 6.71797784e-10, 2.10734361e-10,\n",
       "       9.76182903e-08, 4.23960927e-07, 2.82308463e-07, 4.92905050e-10,\n",
       "       2.01092888e-07, 9.85630422e-09, 1.68510113e-07, 1.99849328e-08,\n",
       "       8.82517327e-07, 5.04587696e-08, 7.33888950e-09, 5.84132742e-09,\n",
       "       2.03723260e-09, 4.43836468e-10, 1.15725754e-07, 6.51621068e-09,\n",
       "       1.32808538e-08, 1.83948799e-07, 1.28530214e-10, 1.15483765e-07,\n",
       "       3.86638099e-08, 2.82388957e-09, 1.94955896e-09, 1.21827515e-09,\n",
       "       5.51922994e-07, 1.71151919e-06, 8.39474212e-10, 4.31702674e-09,\n",
       "       1.59717074e-05, 5.53066073e-08, 9.11833897e-09, 3.73602571e-09,\n",
       "       1.46746448e-09, 5.39236655e-10, 1.10162635e-08, 4.22410773e-09,\n",
       "       2.70851892e-08, 1.33796505e-07, 9.76704371e-08, 3.18391251e-08,\n",
       "       3.20698170e-08, 5.72874193e-08, 2.94668134e-09, 1.36516940e-08,\n",
       "       1.68115779e-08, 6.43693820e-10, 4.94236687e-08, 1.29060297e-07,\n",
       "       3.19565459e-08, 1.13268209e-06, 6.09746991e-08, 2.57784070e-08,\n",
       "       3.00528669e-09, 1.02566851e-07, 5.86126814e-10, 1.41020609e-08,\n",
       "       2.77856543e-06, 1.05142783e-08, 1.60358324e-10, 2.54096619e-07,\n",
       "       3.91780874e-09, 4.22197495e-08, 1.77006276e-09, 9.00239286e-07,\n",
       "       1.46504879e-08, 1.61641154e-08, 1.05875708e-08, 2.77110530e-08,\n",
       "       1.75473538e-08, 5.19031801e-07, 3.83523933e-08, 1.20868204e-08,\n",
       "       2.29949149e-09, 4.63409435e-08, 3.19188409e-08, 1.88823819e-08,\n",
       "       7.92064370e-08, 5.61667957e-06, 5.43129227e-06, 5.32026334e-09,\n",
       "       2.71421663e-09, 1.43657047e-07, 1.11612675e-08, 1.27606203e-09,\n",
       "       3.91414368e-08, 3.35024875e-09, 3.15650297e-08, 6.39067510e-09,\n",
       "       5.28711581e-08, 2.52975815e-06, 1.08425713e-09, 1.97282191e-09,\n",
       "       3.36923622e-09, 2.38056074e-07, 4.75161110e-09, 3.16730464e-08,\n",
       "       7.40224948e-09, 3.12022451e-07, 1.79373210e-08, 2.31965824e-09,\n",
       "       2.30578632e-08, 1.65474216e-06, 3.44579689e-08, 1.17712124e-08,\n",
       "       2.15140172e-09, 1.30107392e-09, 1.29700055e-07, 9.36115407e-10,\n",
       "       1.50318797e-08, 1.98539865e-10, 1.94884979e-08, 6.17122486e-09,\n",
       "       4.33235563e-08, 2.62296326e-05, 1.09627571e-07, 1.45873813e-09,\n",
       "       4.81895945e-09, 2.58137476e-07, 7.32436476e-08, 1.66407986e-07,\n",
       "       2.60459316e-08, 2.50060043e-06, 9.72358620e-08, 5.65218894e-09,\n",
       "       2.25750814e-08, 1.10259925e-05, 3.48865470e-09, 5.53467068e-08,\n",
       "       1.42552548e-09, 1.00782260e-09, 9.64586411e-10, 1.98790051e-09,\n",
       "       8.58979448e-08, 2.52135123e-07, 2.08664247e-07, 1.78426551e-09,\n",
       "       1.69852240e-06, 3.84817191e-08, 7.04469594e-09, 5.55920087e-06,\n",
       "       8.22984569e-10, 2.61786255e-07, 1.07122666e-09, 3.74906017e-09,\n",
       "       3.75314954e-07, 7.67401587e-10, 1.12533080e-07, 1.80000626e-09,\n",
       "       3.72467529e-10, 6.24848173e-10, 2.67456510e-08, 3.00003791e-07,\n",
       "       5.79792129e-07, 4.15504881e-10, 2.38269782e-09, 1.06649800e-07,\n",
       "       2.85118176e-06, 3.22376348e-10, 3.12355724e-08, 5.62022933e-07,\n",
       "       8.75952200e-10, 2.44762322e-09, 1.03237445e-08, 1.47771351e-09,\n",
       "       7.56560468e-08, 5.05053492e-07, 2.42158791e-08, 6.92122859e-10,\n",
       "       5.88435523e-06, 3.93457071e-08, 5.47165087e-08, 7.70807134e-08,\n",
       "       5.55589574e-09, 6.43988926e-07, 3.11228632e-07, 1.60744551e-09,\n",
       "       1.68971876e-08, 4.25141565e-07, 6.34127900e-06, 6.74357068e-08,\n",
       "       2.39461855e-07, 1.70318079e-10, 3.65621133e-09, 2.83881889e-07,\n",
       "       1.34231737e-10, 2.92311442e-09, 7.96955335e-10, 3.90709474e-08,\n",
       "       1.27806848e-10, 6.02623658e-08, 1.09605560e-08, 3.30933392e-10,\n",
       "       4.29879216e-10, 2.19855636e-08, 1.55999669e-09, 9.48422674e-10,\n",
       "       1.71444910e-07, 2.18712977e-08, 1.01677626e-08, 1.72574155e-09,\n",
       "       3.78679950e-08, 2.42469245e-09, 2.30103908e-10, 1.28421473e-09,\n",
       "       1.74962383e-06, 9.51603329e-09, 1.20797850e-09, 4.34606545e-06,\n",
       "       9.06668851e-10, 3.94966637e-09, 1.39974247e-07, 6.67947546e-08,\n",
       "       1.47387553e-07, 1.17613599e-08, 2.22350721e-10, 9.65393010e-09,\n",
       "       2.82314477e-10, 2.04368646e-08, 5.92466021e-10, 8.68050787e-09,\n",
       "       3.51764662e-09, 1.86526066e-08, 2.75611409e-08, 1.24777233e-09,\n",
       "       2.14726143e-07, 1.17706406e-06, 2.22775680e-06, 1.88579335e-07,\n",
       "       1.20016157e-08, 9.03398156e-09, 5.11839904e-09, 1.06141204e-06,\n",
       "       1.80330275e-08, 6.61630537e-08, 7.77902009e-09, 1.67147327e-08,\n",
       "       2.86645041e-09, 1.53181858e-08, 8.42077384e-07, 1.75688206e-06,\n",
       "       1.33573885e-09, 1.53551827e-09, 2.55151567e-10, 3.84914699e-07,\n",
       "       1.37594935e-09, 1.78507231e-09, 2.80670378e-07, 1.92350344e-10,\n",
       "       1.78976917e-10, 3.95141662e-08, 2.15514739e-09, 5.62176510e-08,\n",
       "       3.12203063e-09, 1.11552179e-09, 6.86713486e-09, 2.24439532e-07,\n",
       "       9.32098700e-08, 7.55867688e-07, 1.74031878e-09, 5.76129757e-08,\n",
       "       3.67580388e-09, 6.11995388e-09, 5.17796295e-09, 1.09091296e-07,\n",
       "       1.17405897e-07, 2.16072465e-07, 5.94988663e-08, 2.86168316e-08,\n",
       "       2.91954838e-09, 2.91559754e-09, 1.32019791e-08, 2.17760601e-08,\n",
       "       8.50882920e-09, 2.48488297e-09, 4.19914659e-10, 6.17265243e-08,\n",
       "       6.46401190e-08, 5.85095039e-09, 4.56180954e-10, 4.24160845e-10,\n",
       "       6.94870217e-10, 1.60673217e-08, 1.03734257e-08, 6.15674955e-10,\n",
       "       6.53258155e-07, 2.60524780e-09, 2.37011966e-09, 1.52772497e-08,\n",
       "       1.93465031e-08, 2.37134287e-07, 1.53069131e-08, 2.87722095e-08,\n",
       "       3.34708901e-08, 7.74856304e-08, 6.74368295e-09, 6.20222407e-09,\n",
       "       4.45384359e-07, 2.88919839e-08, 7.61394725e-10, 8.75443718e-08,\n",
       "       1.56890903e-10, 2.66784733e-10, 5.31351685e-10, 3.41873840e-09,\n",
       "       1.00782260e-09, 1.81275780e-07, 1.31964910e-08, 4.65778471e-10,\n",
       "       2.29643660e-09, 2.42029352e-09, 6.01525869e-08, 2.34508524e-10,\n",
       "       4.56759935e-10, 2.62929944e-09, 5.22560085e-11, 6.93922289e-07,\n",
       "       1.24935373e-09, 1.16131615e-09, 4.43326292e-10, 5.99231553e-10,\n",
       "       1.69925638e-08, 1.56735284e-11, 1.16724086e-09, 7.94237920e-09,\n",
       "       1.04709308e-08, 3.65507291e-10, 3.22741101e-07, 2.79255346e-05],\n",
       "      dtype=float32)"
      ]
     },
     "execution_count": 15,
     "metadata": {},
     "output_type": "execute_result"
    }
   ],
   "source": [
    "yhat[0]"
   ]
  },
  {
   "cell_type": "markdown",
   "metadata": {},
   "source": [
    "- Encode the results"
   ]
  },
  {
   "cell_type": "code",
   "execution_count": 16,
   "metadata": {},
   "outputs": [
    {
     "name": "stdout",
     "output_type": "stream",
     "text": [
      "Downloading data from https://s3.amazonaws.com/deep-learning-models/image-models/imagenet_class_index.json\n",
      "40960/35363 [==================================] - 0s 1us/step\n"
     ]
    }
   ],
   "source": [
    "from keras.applications.vgg16 import decode_predictions\n",
    "# convert the probabilities to class labels\n",
    "# decoder will return class id, classname and class of the prediction. so you need to take the maximum of it.\n",
    "label = decode_predictions(yhat)\n",
    "\n",
    "pred_label=[]\n",
    "for i in label:\n",
    "    pred_label.append(i[0][1])"
   ]
  },
  {
   "cell_type": "markdown",
   "metadata": {},
   "source": [
    "- Evaluate the results"
   ]
  },
  {
   "cell_type": "code",
   "execution_count": 17,
   "metadata": {},
   "outputs": [
    {
     "data": {
      "text/plain": [
       "array(['Afghan_hound', 'Airedale', 'Australian_terrier',\n",
       "       'Bernese_mountain_dog', 'Blenheim_spaniel', 'EntleBucher',\n",
       "       'Great_Pyrenees', 'Ibizan_hound', 'Irish_wolfhound',\n",
       "       'Lakeland_terrier', 'Leonberg', 'Maltese_dog', 'Newfoundland',\n",
       "       'Norwegian_elkhound', 'Pomeranian', 'Saluki', 'Samoyed',\n",
       "       'Scottish_deerhound', 'Sealyham_terrier', 'Shih-Tzu',\n",
       "       'Siberian_husky', 'Tibetan_terrier', 'basenji', 'beagle', 'cairn',\n",
       "       'chow', 'papillon', 'pug'], dtype='<U20')"
      ]
     },
     "execution_count": 17,
     "metadata": {},
     "output_type": "execute_result"
    }
   ],
   "source": [
    "np.unique(np.array(true_labels))"
   ]
  },
  {
   "cell_type": "code",
   "execution_count": 18,
   "metadata": {
    "scrolled": true
   },
   "outputs": [
    {
     "data": {
      "text/plain": [
       "array(['Afghan_hound', 'African_grey', 'Airedale',\n",
       "       'American_Staffordshire_terrier', 'American_black_bear',\n",
       "       'American_egret', 'Angora', 'Appenzeller', 'Arabian_camel',\n",
       "       'Arctic_fox', 'Australian_terrier', 'Bedlington_terrier',\n",
       "       'Bernese_mountain_dog', 'Blenheim_spaniel', 'Border_collie',\n",
       "       'Border_terrier', 'Boston_bull', 'Bouvier_des_Flandres',\n",
       "       'Brittany_spaniel', 'Cardigan', 'Chesapeake_Bay_retriever',\n",
       "       'Chihuahua', 'Christmas_stocking', 'Dandie_Dinmont', 'Doberman',\n",
       "       'Egyptian_cat', 'English_foxhound', 'English_setter',\n",
       "       'English_springer', 'EntleBucher', 'Eskimo_dog',\n",
       "       'European_gallinule', 'French_bulldog', 'German_shepherd',\n",
       "       'German_short-haired_pointer', 'Gordon_setter', 'Great_Dane',\n",
       "       'Great_Pyrenees', 'Greater_Swiss_Mountain_dog', 'Ibizan_hound',\n",
       "       'Indian_elephant', 'Irish_setter', 'Irish_terrier',\n",
       "       'Irish_water_spaniel', 'Irish_wolfhound', 'Italian_greyhound',\n",
       "       'Japanese_spaniel', 'Kerry_blue_terrier', 'Labrador_retriever',\n",
       "       'Lakeland_terrier', 'Leonberg', 'Lhasa', 'Madagascar_cat',\n",
       "       'Maltese_dog', 'Mexican_hairless', 'Newfoundland',\n",
       "       'Norwegian_elkhound', 'Norwich_terrier', 'Old_English_sheepdog',\n",
       "       'Pekinese', 'Pembroke', 'Persian_cat', 'Pomeranian',\n",
       "       'Saint_Bernard', 'Saluki', 'Samoyed', 'Scotch_terrier',\n",
       "       'Scottish_deerhound', 'Sealyham_terrier', 'Shetland_sheepdog',\n",
       "       'Shih-Tzu', 'Siamese_cat', 'Siberian_husky',\n",
       "       'Staffordshire_bullterrier', 'Sussex_spaniel', 'Tibetan_mastiff',\n",
       "       'Tibetan_terrier', 'Walker_hound', 'Weimaraner',\n",
       "       'Welsh_springer_spaniel', 'West_Highland_white_terrier',\n",
       "       'Yorkshire_terrier', 'affenpinscher', 'agama', 'albatross',\n",
       "       'altar', 'baboon', 'badger', 'basenji', 'basset', 'bassinet',\n",
       "       'bath_towel', 'bathtub', 'beagle', 'bighorn', 'black_grouse',\n",
       "       'bloodhound', 'bluetick', 'borzoi', 'boxer', 'breastplate',\n",
       "       'briard', 'brown_bear', 'bubble', 'bucket', 'bull_mastiff',\n",
       "       'butcher_shop', 'cairn', 'carousel', \"carpenter's_kit\", 'carton',\n",
       "       'chainlink_fence', 'chest', 'chow', 'church', 'cloak', 'clumber',\n",
       "       'cocker_spaniel', 'collie', 'cougar', 'coyote', 'crib',\n",
       "       'croquet_ball', 'curly-coated_retriever', 'dalmatian',\n",
       "       'desktop_computer', 'dhole', 'dingo', 'dogsled', 'dragonfly',\n",
       "       'feather_boa', 'flat-coated_retriever', 'folding_chair',\n",
       "       'fountain', 'four-poster', 'fur_coat', 'gazelle',\n",
       "       'giant_schnauzer', 'golden_retriever', 'gorilla', 'grey_fox',\n",
       "       'groenendael', 'hamper', 'hamster', 'hare', 'hippopotamus', 'hog',\n",
       "       'home_theater', 'hourglass', 'hyena', 'ice_bear', 'jay',\n",
       "       'keeshond', 'kelpie', 'king_penguin', 'knot', 'komondor', 'kuvasz',\n",
       "       'lab_coat', 'langur', 'leatherback_turtle', 'lesser_panda', 'lion',\n",
       "       'llama', 'loggerhead', 'lynx', 'macaw', 'magpie', 'malamute',\n",
       "       'malinois', 'marmoset', 'maypole', 'meerkat', 'megalith',\n",
       "       'miniature_pinscher', 'miniature_poodle', 'miniature_schnauzer',\n",
       "       'mink', 'mortarboard', 'mosquito_net', 'mountain_bike', 'mouse',\n",
       "       'ocarina', 'orangutan', 'ostrich', 'otter', 'otterhound', 'pajama',\n",
       "       'papillon', 'parachute', 'park_bench', 'patio', 'peacock',\n",
       "       'pencil_sharpener', 'photocopier', 'picket_fence', 'pinwheel',\n",
       "       'plastic_bag', 'poncho', 'pot', 'power_drill', 'pug', 'quill',\n",
       "       'quilt', 'racket', 'rain_barrel', 'redbone', 'ruffed_grouse',\n",
       "       'schipperke', 'sea_lion', 'seashore', 'seat_belt', 'shovel',\n",
       "       'shower_cap', 'shower_curtain', 'silky_terrier', 'ski', 'ski_mask',\n",
       "       'skunk', 'sleeping_bag', 'sliding_door', 'sloth_bear',\n",
       "       'soft-coated_wheaten_terrier', 'sorrel', 'spider_monkey',\n",
       "       'standard_poodle', 'standard_schnauzer', 'starfish', 'stingray',\n",
       "       'stone_wall', 'stretcher', 'studio_couch', 'suspension_bridge',\n",
       "       'swab', 'swimming_trunks', 'swing', 'tabby', 'teddy', 'television',\n",
       "       'tiger', 'timber_wolf', 'toilet_seat', 'toilet_tissue',\n",
       "       'totem_pole', 'toy_poodle', 'toy_terrier', 'tractor',\n",
       "       'triceratops', 'umbrella', 'vizsla', 'wallaby', 'washer',\n",
       "       'water_bottle', 'weasel', 'whippet', 'white_wolf', 'wig',\n",
       "       'window_screen', 'wire-haired_fox_terrier', 'wombat'], dtype='<U30')"
      ]
     },
     "execution_count": 18,
     "metadata": {},
     "output_type": "execute_result"
    }
   ],
   "source": [
    "np.unique(np.array(pred_label))"
   ]
  },
  {
   "cell_type": "code",
   "execution_count": 19,
   "metadata": {},
   "outputs": [
    {
     "name": "stdout",
     "output_type": "stream",
     "text": [
      "0.5120323203934657\n"
     ]
    }
   ],
   "source": [
    "print(accuracy_score(true_labels, pred_label))"
   ]
  },
  {
   "cell_type": "markdown",
   "metadata": {},
   "source": [
    "- Save the result"
   ]
  },
  {
   "cell_type": "code",
   "execution_count": 20,
   "metadata": {},
   "outputs": [],
   "source": [
    "hold_name=[]\n",
    "j=0\n",
    "for i in lists:\n",
    "    images=os.listdir(paths+i)\n",
    "    for k in images:\n",
    "        if(j==5693):\n",
    "            break\n",
    "        hold_name.append(k)\n",
    "        j=j+1"
   ]
  },
  {
   "cell_type": "code",
   "execution_count": 21,
   "metadata": {},
   "outputs": [],
   "source": [
    "df=pd.DataFrame({'pic_id':hold_name,'actual_labels':true_labels,'predict':pred_label})\n",
    "df.to_csv('VGG_fullmodel_partone.csv')"
   ]
  },
  {
   "cell_type": "markdown",
   "metadata": {},
   "source": [
    "## Second Chunk"
   ]
  },
  {
   "cell_type": "markdown",
   "metadata": {},
   "source": [
    "- Get the data"
   ]
  },
  {
   "cell_type": "code",
   "execution_count": 5,
   "metadata": {},
   "outputs": [],
   "source": [
    "true_labels = []\n",
    "imgsize=224\n",
    "#result_array = np.zeros((20580, imgsize, imgsize, 3))\n",
    "#result_array = np.zeros((11386, imgsize, imgsize, 3))\n",
    "result_array = np.zeros((firstchunk, imgsize, imgsize, 3))\n",
    "cur_dir = os.path.dirname(os.path.realpath(os.getcwd()))\n",
    "paths=cur_dir+'/Project/Images/'\n",
    "# we have 20580 images\n",
    "\n",
    "\n",
    "j=0\n",
    "a=0\n",
    "for i in lists:\n",
    "    images=os.listdir(paths+i)\n",
    "    label=i[10:]\n",
    "    for k in images:\n",
    "        if(j>=5693):\n",
    "            img = cv2.imread(paths+i+'/'+k,cv2.IMREAD_COLOR)\n",
    "            img = cv2.resize(img,(imgsize,imgsize))\n",
    "            true_labels.append(label)\n",
    "            result_array[a,:,:,:]=np.array(img)\n",
    "            a=a+1\n",
    "        j=j+1"
   ]
  },
  {
   "cell_type": "code",
   "execution_count": 6,
   "metadata": {
    "scrolled": true
   },
   "outputs": [
    {
     "data": {
      "text/plain": [
       "array([[[ 30.,  43.,  95.],\n",
       "        [ 40.,  51., 108.],\n",
       "        [ 40.,  50., 111.],\n",
       "        ...,\n",
       "        [ 23.,  31.,  46.],\n",
       "        [ 25.,  30.,  37.],\n",
       "        [ 32.,  35.,  40.]],\n",
       "\n",
       "       [[ 39.,  52., 108.],\n",
       "        [ 46.,  58., 116.],\n",
       "        [ 49.,  60., 122.],\n",
       "        ...,\n",
       "        [ 22.,  31.,  45.],\n",
       "        [ 25.,  30.,  37.],\n",
       "        [ 32.,  35.,  39.]],\n",
       "\n",
       "       [[ 45.,  58., 116.],\n",
       "        [ 49.,  61., 121.],\n",
       "        [ 53.,  64., 129.],\n",
       "        ...,\n",
       "        [ 21.,  29.,  42.],\n",
       "        [ 24.,  30.,  35.],\n",
       "        [ 32.,  35.,  39.]],\n",
       "\n",
       "       ...,\n",
       "\n",
       "       [[ 91., 120., 156.],\n",
       "        [115., 143., 179.],\n",
       "        [119., 147., 181.],\n",
       "        ...,\n",
       "        [ 45.,  65., 108.],\n",
       "        [ 54.,  73., 108.],\n",
       "        [ 85., 104., 138.]],\n",
       "\n",
       "       [[103., 128., 157.],\n",
       "        [128., 152., 182.],\n",
       "        [108., 130., 161.],\n",
       "        ...,\n",
       "        [ 47.,  60.,  96.],\n",
       "        [ 66.,  84., 115.],\n",
       "        [111., 129., 160.]],\n",
       "\n",
       "       [[158., 177., 197.],\n",
       "        [180., 198., 220.],\n",
       "        [165., 181., 205.],\n",
       "        ...,\n",
       "        [104., 113., 142.],\n",
       "        [102., 119., 149.],\n",
       "        [113., 128., 160.]]])"
      ]
     },
     "execution_count": 6,
     "metadata": {},
     "output_type": "execute_result"
    }
   ],
   "source": [
    "result_array[-1]"
   ]
  },
  {
   "cell_type": "code",
   "execution_count": 7,
   "metadata": {},
   "outputs": [
    {
     "data": {
      "text/plain": [
       "5693"
      ]
     },
     "execution_count": 7,
     "metadata": {},
     "output_type": "execute_result"
    }
   ],
   "source": [
    "len(true_labels)"
   ]
  },
  {
   "cell_type": "code",
   "execution_count": 8,
   "metadata": {},
   "outputs": [
    {
     "data": {
      "text/plain": [
       "33"
      ]
     },
     "execution_count": 8,
     "metadata": {},
     "output_type": "execute_result"
    }
   ],
   "source": [
    "len(np.unique(np.array(true_labels)))"
   ]
  },
  {
   "cell_type": "markdown",
   "metadata": {},
   "source": [
    "- Preprocessing"
   ]
  },
  {
   "cell_type": "code",
   "execution_count": 9,
   "metadata": {},
   "outputs": [],
   "source": [
    "# prepare the image for the VGG model\n",
    "image = preprocess_input(result_array)"
   ]
  },
  {
   "cell_type": "markdown",
   "metadata": {},
   "source": [
    "- Get the model and predict it"
   ]
  },
  {
   "cell_type": "code",
   "execution_count": 10,
   "metadata": {},
   "outputs": [
    {
     "name": "stdout",
     "output_type": "stream",
     "text": [
      "WARNING:tensorflow:From /home/bengikoseoglu/environments/my_env/lib/python3.7/site-packages/tensorflow/python/framework/op_def_library.py:263: colocate_with (from tensorflow.python.framework.ops) is deprecated and will be removed in a future version.\n",
      "Instructions for updating:\n",
      "Colocations handled automatically by placer.\n"
     ]
    }
   ],
   "source": [
    "# predict the probability across all output classes (in this case imagenet have 1000 classes, so 1000 classes)\n",
    "# predict the probability across all output classes (in this case imagenet have 1000 classes, so 1000 classes)\n",
    "model = VGG16()\n",
    "yhat = model.predict(image)"
   ]
  },
  {
   "cell_type": "code",
   "execution_count": 11,
   "metadata": {},
   "outputs": [
    {
     "data": {
      "text/plain": [
       "5693"
      ]
     },
     "execution_count": 11,
     "metadata": {},
     "output_type": "execute_result"
    }
   ],
   "source": [
    "len(yhat)"
   ]
  },
  {
   "cell_type": "markdown",
   "metadata": {},
   "source": [
    "- Encode the results"
   ]
  },
  {
   "cell_type": "code",
   "execution_count": 13,
   "metadata": {},
   "outputs": [],
   "source": [
    "from keras.applications.vgg16 import decode_predictions\n",
    "# convert the probabilities to class labels\n",
    "# decoder will return class id, classname and class of the prediction. so you need to take the maximum of it.\n",
    "label = decode_predictions(yhat)\n",
    "\n",
    "pred_label=[]\n",
    "for i in label:\n",
    "    pred_label.append(i[0][1])"
   ]
  },
  {
   "cell_type": "code",
   "execution_count": 14,
   "metadata": {},
   "outputs": [
    {
     "name": "stdout",
     "output_type": "stream",
     "text": [
      "0.4700509397505709\n"
     ]
    }
   ],
   "source": [
    "print(accuracy_score(true_labels, pred_label))"
   ]
  },
  {
   "cell_type": "markdown",
   "metadata": {},
   "source": [
    "- Save the result"
   ]
  },
  {
   "cell_type": "code",
   "execution_count": 15,
   "metadata": {},
   "outputs": [],
   "source": [
    "hold_name=[]\n",
    "j=0\n",
    "for i in lists:\n",
    "    images=os.listdir(paths+i)\n",
    "    for k in images:\n",
    "        if(j==5693):\n",
    "            break\n",
    "        hold_name.append(k)\n",
    "        j=j+1"
   ]
  },
  {
   "cell_type": "code",
   "execution_count": 16,
   "metadata": {},
   "outputs": [],
   "source": [
    "df=pd.DataFrame({'pic_id':hold_name,'actual_labels':true_labels,'predict':pred_label})\n",
    "df.to_csv('VGG_fullmodel_parttwo.csv')"
   ]
  },
  {
   "cell_type": "markdown",
   "metadata": {},
   "source": [
    "## Overall Accuracy"
   ]
  },
  {
   "cell_type": "code",
   "execution_count": 17,
   "metadata": {},
   "outputs": [],
   "source": [
    "part_one=pd.read_csv('VGG_fullmodel_partone.csv')\n",
    "part_two=pd.read_csv('VGG_fullmodel_parttwo.csv')"
   ]
  },
  {
   "cell_type": "code",
   "execution_count": 18,
   "metadata": {},
   "outputs": [],
   "source": [
    "combined=part_one.append(part_two) "
   ]
  },
  {
   "cell_type": "code",
   "execution_count": 19,
   "metadata": {},
   "outputs": [
    {
     "data": {
      "text/html": [
       "<div>\n",
       "<style scoped>\n",
       "    .dataframe tbody tr th:only-of-type {\n",
       "        vertical-align: middle;\n",
       "    }\n",
       "\n",
       "    .dataframe tbody tr th {\n",
       "        vertical-align: top;\n",
       "    }\n",
       "\n",
       "    .dataframe thead th {\n",
       "        text-align: right;\n",
       "    }\n",
       "</style>\n",
       "<table border=\"1\" class=\"dataframe\">\n",
       "  <thead>\n",
       "    <tr style=\"text-align: right;\">\n",
       "      <th></th>\n",
       "      <th>Unnamed: 0</th>\n",
       "      <th>pic_id</th>\n",
       "      <th>actual_labels</th>\n",
       "      <th>predict</th>\n",
       "    </tr>\n",
       "  </thead>\n",
       "  <tbody>\n",
       "    <tr>\n",
       "      <th>0</th>\n",
       "      <td>0</td>\n",
       "      <td>n02085936_4070.jpg</td>\n",
       "      <td>Maltese_dog</td>\n",
       "      <td>Maltese_dog</td>\n",
       "    </tr>\n",
       "    <tr>\n",
       "      <th>1</th>\n",
       "      <td>1</td>\n",
       "      <td>n02085936_4924.jpg</td>\n",
       "      <td>Maltese_dog</td>\n",
       "      <td>Maltese_dog</td>\n",
       "    </tr>\n",
       "    <tr>\n",
       "      <th>2</th>\n",
       "      <td>2</td>\n",
       "      <td>n02085936_25908.jpg</td>\n",
       "      <td>Maltese_dog</td>\n",
       "      <td>Maltese_dog</td>\n",
       "    </tr>\n",
       "    <tr>\n",
       "      <th>3</th>\n",
       "      <td>3</td>\n",
       "      <td>n02085936_7142.jpg</td>\n",
       "      <td>Maltese_dog</td>\n",
       "      <td>Maltese_dog</td>\n",
       "    </tr>\n",
       "    <tr>\n",
       "      <th>4</th>\n",
       "      <td>4</td>\n",
       "      <td>n02085936_10073.jpg</td>\n",
       "      <td>Maltese_dog</td>\n",
       "      <td>Maltese_dog</td>\n",
       "    </tr>\n",
       "  </tbody>\n",
       "</table>\n",
       "</div>"
      ],
      "text/plain": [
       "   Unnamed: 0               pic_id actual_labels      predict\n",
       "0           0   n02085936_4070.jpg   Maltese_dog  Maltese_dog\n",
       "1           1   n02085936_4924.jpg   Maltese_dog  Maltese_dog\n",
       "2           2  n02085936_25908.jpg   Maltese_dog  Maltese_dog\n",
       "3           3   n02085936_7142.jpg   Maltese_dog  Maltese_dog\n",
       "4           4  n02085936_10073.jpg   Maltese_dog  Maltese_dog"
      ]
     },
     "execution_count": 19,
     "metadata": {},
     "output_type": "execute_result"
    }
   ],
   "source": [
    "combined.head()"
   ]
  },
  {
   "cell_type": "code",
   "execution_count": 21,
   "metadata": {},
   "outputs": [
    {
     "name": "stdout",
     "output_type": "stream",
     "text": [
      "0.4910416300720183\n"
     ]
    }
   ],
   "source": [
    "print(accuracy_score(combined['actual_labels'], combined['predict']))"
   ]
  }
 ],
 "metadata": {
  "kernelspec": {
   "display_name": "Python 3",
   "language": "python",
   "name": "python3"
  },
  "language_info": {
   "codemirror_mode": {
    "name": "ipython",
    "version": 3
   },
   "file_extension": ".py",
   "mimetype": "text/x-python",
   "name": "python",
   "nbconvert_exporter": "python",
   "pygments_lexer": "ipython3",
   "version": "3.7.3"
  }
 },
 "nbformat": 4,
 "nbformat_minor": 2
}
