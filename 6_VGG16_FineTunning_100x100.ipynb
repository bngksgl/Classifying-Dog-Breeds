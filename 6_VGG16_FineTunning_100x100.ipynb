{
 "cells": [
  {
   "cell_type": "markdown",
   "metadata": {},
   "source": [
    "# 6. VGG16 (Pre-trained CNN model with Fine Tunning)"
   ]
  },
  {
   "cell_type": "markdown",
   "metadata": {},
   "source": [
    "https://towardsdatascience.com/a-comprehensive-hands-on-guide-to-transfer-learning-with-real-world-applications-in-deep-learning-212bf3b2f27a"
   ]
  },
  {
   "cell_type": "code",
   "execution_count": 1,
   "metadata": {},
   "outputs": [
    {
     "name": "stderr",
     "output_type": "stream",
     "text": [
      "Using TensorFlow backend.\n"
     ]
    }
   ],
   "source": [
    "from keras.applications import vgg16\n",
    "from keras.models import Model\n",
    "import keras\n",
    "import os,shutil,math,scipy,cv2\n",
    "import numpy as np\n",
    "from keras.preprocessing.image import ImageDataGenerator, load_img, img_to_array, array_to_img\n",
    "from sklearn.preprocessing import LabelEncoder\n",
    "from sklearn.model_selection import train_test_split\n",
    "from keras.layers import Conv2D, MaxPooling2D, Flatten, Dense, Dropout, InputLayer\n",
    "from keras.models import Sequential\n",
    "from keras import optimizers\n",
    "import matplotlib.pyplot as plt\n",
    "from sklearn.metrics import accuracy_score\n",
    "from keras.utils.np_utils import to_categorical\n",
    "import pandas as pd"
   ]
  },
  {
   "cell_type": "code",
   "execution_count": 2,
   "metadata": {},
   "outputs": [],
   "source": [
    "def redo_kreas_category(arr):\n",
    "    redo=[]\n",
    "    for i in arr:\n",
    "        redo.append(list(i).index(1))\n",
    "    return redo"
   ]
  },
  {
   "cell_type": "markdown",
   "metadata": {},
   "source": [
    "- Get the data"
   ]
  },
  {
   "cell_type": "code",
   "execution_count": 3,
   "metadata": {},
   "outputs": [
    {
     "data": {
      "text/plain": [
       "60"
      ]
     },
     "execution_count": 3,
     "metadata": {},
     "output_type": "execute_result"
    }
   ],
   "source": [
    "lists=pd.read_csv('categories.csv')\n",
    "lists=list(lists['0'])\n",
    "len(lists)"
   ]
  },
  {
   "cell_type": "code",
   "execution_count": 4,
   "metadata": {},
   "outputs": [],
   "source": [
    "true_labels = []\n",
    "imgsize=100\n",
    "#result_array = np.zeros((20580, imgsize, imgsize, 3))\n",
    "result_array = np.zeros((11386, imgsize, imgsize, 3))\n",
    "cur_dir = os.path.dirname(os.path.realpath(os.getcwd()))\n",
    "paths=cur_dir+'/Project/Images/'\n",
    "# we have 20580 images\n",
    "\n",
    "\n",
    "j=0\n",
    "for i in lists:\n",
    "    images=os.listdir(paths+i)\n",
    "    label=i[10:]\n",
    "    for k in images:\n",
    "        img = cv2.imread(paths+i+'/'+k,cv2.IMREAD_COLOR)\n",
    "        img = cv2.resize(img,(imgsize,imgsize))\n",
    "        true_labels.append(label)\n",
    "        result_array[j,:,:,:]=np.array(img)\n",
    "        j=j+1"
   ]
  },
  {
   "cell_type": "code",
   "execution_count": 5,
   "metadata": {},
   "outputs": [
    {
     "data": {
      "text/plain": [
       "(11386, 100, 100, 3)"
      ]
     },
     "execution_count": 5,
     "metadata": {},
     "output_type": "execute_result"
    }
   ],
   "source": [
    "result_array.shape"
   ]
  },
  {
   "cell_type": "markdown",
   "metadata": {},
   "source": [
    "- Train test split & encode y labels"
   ]
  },
  {
   "cell_type": "code",
   "execution_count": 6,
   "metadata": {},
   "outputs": [
    {
     "name": "stdout",
     "output_type": "stream",
     "text": [
      "['Maltese_dog', 'Maltese_dog', 'Maltese_dog', 'Maltese_dog', 'Maltese_dog', 'Maltese_dog', 'Maltese_dog', 'Maltese_dog', 'Maltese_dog', 'Maltese_dog'] [[0. 0. 0. 0. 0. 0. 0. 0. 0. 0. 0. 0. 0. 0. 0. 0. 0. 0. 0. 0. 0. 0. 0. 0.\n",
      "  0. 0. 1. 0. 0. 0. 0. 0. 0. 0. 0. 0. 0. 0. 0. 0. 0. 0. 0. 0. 0. 0. 0. 0.\n",
      "  0. 0. 0. 0. 0. 0. 0. 0. 0. 0. 0. 0.]\n",
      " [0. 0. 0. 0. 0. 0. 0. 0. 0. 0. 0. 0. 0. 0. 0. 0. 0. 0. 0. 0. 0. 0. 0. 0.\n",
      "  0. 0. 1. 0. 0. 0. 0. 0. 0. 0. 0. 0. 0. 0. 0. 0. 0. 0. 0. 0. 0. 0. 0. 0.\n",
      "  0. 0. 0. 0. 0. 0. 0. 0. 0. 0. 0. 0.]\n",
      " [0. 0. 0. 0. 0. 0. 0. 0. 0. 0. 0. 0. 0. 0. 0. 0. 0. 0. 0. 0. 0. 0. 0. 0.\n",
      "  0. 0. 1. 0. 0. 0. 0. 0. 0. 0. 0. 0. 0. 0. 0. 0. 0. 0. 0. 0. 0. 0. 0. 0.\n",
      "  0. 0. 0. 0. 0. 0. 0. 0. 0. 0. 0. 0.]\n",
      " [0. 0. 0. 0. 0. 0. 0. 0. 0. 0. 0. 0. 0. 0. 0. 0. 0. 0. 0. 0. 0. 0. 0. 0.\n",
      "  0. 0. 1. 0. 0. 0. 0. 0. 0. 0. 0. 0. 0. 0. 0. 0. 0. 0. 0. 0. 0. 0. 0. 0.\n",
      "  0. 0. 0. 0. 0. 0. 0. 0. 0. 0. 0. 0.]\n",
      " [0. 0. 0. 0. 0. 0. 0. 0. 0. 0. 0. 0. 0. 0. 0. 0. 0. 0. 0. 0. 0. 0. 0. 0.\n",
      "  0. 0. 1. 0. 0. 0. 0. 0. 0. 0. 0. 0. 0. 0. 0. 0. 0. 0. 0. 0. 0. 0. 0. 0.\n",
      "  0. 0. 0. 0. 0. 0. 0. 0. 0. 0. 0. 0.]\n",
      " [0. 0. 0. 0. 0. 0. 0. 0. 0. 0. 0. 0. 0. 0. 0. 0. 0. 0. 0. 0. 0. 0. 0. 0.\n",
      "  0. 0. 1. 0. 0. 0. 0. 0. 0. 0. 0. 0. 0. 0. 0. 0. 0. 0. 0. 0. 0. 0. 0. 0.\n",
      "  0. 0. 0. 0. 0. 0. 0. 0. 0. 0. 0. 0.]\n",
      " [0. 0. 0. 0. 0. 0. 0. 0. 0. 0. 0. 0. 0. 0. 0. 0. 0. 0. 0. 0. 0. 0. 0. 0.\n",
      "  0. 0. 1. 0. 0. 0. 0. 0. 0. 0. 0. 0. 0. 0. 0. 0. 0. 0. 0. 0. 0. 0. 0. 0.\n",
      "  0. 0. 0. 0. 0. 0. 0. 0. 0. 0. 0. 0.]\n",
      " [0. 0. 0. 0. 0. 0. 0. 0. 0. 0. 0. 0. 0. 0. 0. 0. 0. 0. 0. 0. 0. 0. 0. 0.\n",
      "  0. 0. 1. 0. 0. 0. 0. 0. 0. 0. 0. 0. 0. 0. 0. 0. 0. 0. 0. 0. 0. 0. 0. 0.\n",
      "  0. 0. 0. 0. 0. 0. 0. 0. 0. 0. 0. 0.]\n",
      " [0. 0. 0. 0. 0. 0. 0. 0. 0. 0. 0. 0. 0. 0. 0. 0. 0. 0. 0. 0. 0. 0. 0. 0.\n",
      "  0. 0. 1. 0. 0. 0. 0. 0. 0. 0. 0. 0. 0. 0. 0. 0. 0. 0. 0. 0. 0. 0. 0. 0.\n",
      "  0. 0. 0. 0. 0. 0. 0. 0. 0. 0. 0. 0.]\n",
      " [0. 0. 0. 0. 0. 0. 0. 0. 0. 0. 0. 0. 0. 0. 0. 0. 0. 0. 0. 0. 0. 0. 0. 0.\n",
      "  0. 0. 1. 0. 0. 0. 0. 0. 0. 0. 0. 0. 0. 0. 0. 0. 0. 0. 0. 0. 0. 0. 0. 0.\n",
      "  0. 0. 0. 0. 0. 0. 0. 0. 0. 0. 0. 0.]]\n"
     ]
    }
   ],
   "source": [
    "le = LabelEncoder()\n",
    "le.fit(true_labels)\n",
    "all_labels_enc = le.transform(true_labels)\n",
    "all_labels_enc = to_categorical(all_labels_enc,len(np.array(np.unique(true_labels))))\n",
    "\n",
    "print(true_labels[0:10], all_labels_enc[0:10])"
   ]
  },
  {
   "cell_type": "code",
   "execution_count": 7,
   "metadata": {},
   "outputs": [],
   "source": [
    "X = result_array/255\n",
    "\n",
    "X_train, X_test, y_train, y_test = train_test_split(X,all_labels_enc,test_size=0.2,random_state=69)\n",
    "X_train, X_val, y_train, y_val  = train_test_split(X_train,y_train,test_size=0.2,random_state=69)"
   ]
  },
  {
   "cell_type": "markdown",
   "metadata": {},
   "source": [
    "- Modeling"
   ]
  },
  {
   "cell_type": "code",
   "execution_count": 8,
   "metadata": {},
   "outputs": [],
   "source": [
    "input_shape = (imgsize, imgsize, 3)"
   ]
  },
  {
   "cell_type": "code",
   "execution_count": 9,
   "metadata": {},
   "outputs": [
    {
     "name": "stdout",
     "output_type": "stream",
     "text": [
      "WARNING:tensorflow:From /home/bengikoseoglu/environments/my_env/lib/python3.7/site-packages/tensorflow/python/framework/op_def_library.py:263: colocate_with (from tensorflow.python.framework.ops) is deprecated and will be removed in a future version.\n",
      "Instructions for updating:\n",
      "Colocations handled automatically by placer.\n"
     ]
    }
   ],
   "source": [
    "vgg = vgg16.VGG16(include_top=False, weights='imagenet', \n",
    "                                     input_shape=input_shape)\n",
    "\n",
    "output = vgg.layers[-1].output\n",
    "output = keras.layers.Flatten()(output)\n",
    "vgg_model = Model(vgg.input, output)\n"
   ]
  },
  {
   "cell_type": "code",
   "execution_count": 10,
   "metadata": {},
   "outputs": [
    {
     "data": {
      "text/html": [
       "<div>\n",
       "<style scoped>\n",
       "    .dataframe tbody tr th:only-of-type {\n",
       "        vertical-align: middle;\n",
       "    }\n",
       "\n",
       "    .dataframe tbody tr th {\n",
       "        vertical-align: top;\n",
       "    }\n",
       "\n",
       "    .dataframe thead th {\n",
       "        text-align: right;\n",
       "    }\n",
       "</style>\n",
       "<table border=\"1\" class=\"dataframe\">\n",
       "  <thead>\n",
       "    <tr style=\"text-align: right;\">\n",
       "      <th></th>\n",
       "      <th>Layer Type</th>\n",
       "      <th>Layer Name</th>\n",
       "      <th>Layer Trainable</th>\n",
       "    </tr>\n",
       "  </thead>\n",
       "  <tbody>\n",
       "    <tr>\n",
       "      <th>0</th>\n",
       "      <td>&lt;keras.engine.input_layer.InputLayer object at...</td>\n",
       "      <td>input_1</td>\n",
       "      <td>False</td>\n",
       "    </tr>\n",
       "    <tr>\n",
       "      <th>1</th>\n",
       "      <td>&lt;keras.layers.convolutional.Conv2D object at 0...</td>\n",
       "      <td>block1_conv1</td>\n",
       "      <td>False</td>\n",
       "    </tr>\n",
       "    <tr>\n",
       "      <th>2</th>\n",
       "      <td>&lt;keras.layers.convolutional.Conv2D object at 0...</td>\n",
       "      <td>block1_conv2</td>\n",
       "      <td>False</td>\n",
       "    </tr>\n",
       "    <tr>\n",
       "      <th>3</th>\n",
       "      <td>&lt;keras.layers.pooling.MaxPooling2D object at 0...</td>\n",
       "      <td>block1_pool</td>\n",
       "      <td>False</td>\n",
       "    </tr>\n",
       "    <tr>\n",
       "      <th>4</th>\n",
       "      <td>&lt;keras.layers.convolutional.Conv2D object at 0...</td>\n",
       "      <td>block2_conv1</td>\n",
       "      <td>False</td>\n",
       "    </tr>\n",
       "    <tr>\n",
       "      <th>5</th>\n",
       "      <td>&lt;keras.layers.convolutional.Conv2D object at 0...</td>\n",
       "      <td>block2_conv2</td>\n",
       "      <td>False</td>\n",
       "    </tr>\n",
       "    <tr>\n",
       "      <th>6</th>\n",
       "      <td>&lt;keras.layers.pooling.MaxPooling2D object at 0...</td>\n",
       "      <td>block2_pool</td>\n",
       "      <td>False</td>\n",
       "    </tr>\n",
       "    <tr>\n",
       "      <th>7</th>\n",
       "      <td>&lt;keras.layers.convolutional.Conv2D object at 0...</td>\n",
       "      <td>block3_conv1</td>\n",
       "      <td>False</td>\n",
       "    </tr>\n",
       "    <tr>\n",
       "      <th>8</th>\n",
       "      <td>&lt;keras.layers.convolutional.Conv2D object at 0...</td>\n",
       "      <td>block3_conv2</td>\n",
       "      <td>False</td>\n",
       "    </tr>\n",
       "    <tr>\n",
       "      <th>9</th>\n",
       "      <td>&lt;keras.layers.convolutional.Conv2D object at 0...</td>\n",
       "      <td>block3_conv3</td>\n",
       "      <td>False</td>\n",
       "    </tr>\n",
       "    <tr>\n",
       "      <th>10</th>\n",
       "      <td>&lt;keras.layers.pooling.MaxPooling2D object at 0...</td>\n",
       "      <td>block3_pool</td>\n",
       "      <td>False</td>\n",
       "    </tr>\n",
       "    <tr>\n",
       "      <th>11</th>\n",
       "      <td>&lt;keras.layers.convolutional.Conv2D object at 0...</td>\n",
       "      <td>block4_conv1</td>\n",
       "      <td>True</td>\n",
       "    </tr>\n",
       "    <tr>\n",
       "      <th>12</th>\n",
       "      <td>&lt;keras.layers.convolutional.Conv2D object at 0...</td>\n",
       "      <td>block4_conv2</td>\n",
       "      <td>True</td>\n",
       "    </tr>\n",
       "    <tr>\n",
       "      <th>13</th>\n",
       "      <td>&lt;keras.layers.convolutional.Conv2D object at 0...</td>\n",
       "      <td>block4_conv3</td>\n",
       "      <td>True</td>\n",
       "    </tr>\n",
       "    <tr>\n",
       "      <th>14</th>\n",
       "      <td>&lt;keras.layers.pooling.MaxPooling2D object at 0...</td>\n",
       "      <td>block4_pool</td>\n",
       "      <td>True</td>\n",
       "    </tr>\n",
       "    <tr>\n",
       "      <th>15</th>\n",
       "      <td>&lt;keras.layers.convolutional.Conv2D object at 0...</td>\n",
       "      <td>block5_conv1</td>\n",
       "      <td>True</td>\n",
       "    </tr>\n",
       "    <tr>\n",
       "      <th>16</th>\n",
       "      <td>&lt;keras.layers.convolutional.Conv2D object at 0...</td>\n",
       "      <td>block5_conv2</td>\n",
       "      <td>True</td>\n",
       "    </tr>\n",
       "    <tr>\n",
       "      <th>17</th>\n",
       "      <td>&lt;keras.layers.convolutional.Conv2D object at 0...</td>\n",
       "      <td>block5_conv3</td>\n",
       "      <td>True</td>\n",
       "    </tr>\n",
       "    <tr>\n",
       "      <th>18</th>\n",
       "      <td>&lt;keras.layers.pooling.MaxPooling2D object at 0...</td>\n",
       "      <td>block5_pool</td>\n",
       "      <td>True</td>\n",
       "    </tr>\n",
       "    <tr>\n",
       "      <th>19</th>\n",
       "      <td>&lt;keras.layers.core.Flatten object at 0x7fc1c11...</td>\n",
       "      <td>flatten_1</td>\n",
       "      <td>True</td>\n",
       "    </tr>\n",
       "  </tbody>\n",
       "</table>\n",
       "</div>"
      ],
      "text/plain": [
       "                                           Layer Type    Layer Name  \\\n",
       "0   <keras.engine.input_layer.InputLayer object at...       input_1   \n",
       "1   <keras.layers.convolutional.Conv2D object at 0...  block1_conv1   \n",
       "2   <keras.layers.convolutional.Conv2D object at 0...  block1_conv2   \n",
       "3   <keras.layers.pooling.MaxPooling2D object at 0...   block1_pool   \n",
       "4   <keras.layers.convolutional.Conv2D object at 0...  block2_conv1   \n",
       "5   <keras.layers.convolutional.Conv2D object at 0...  block2_conv2   \n",
       "6   <keras.layers.pooling.MaxPooling2D object at 0...   block2_pool   \n",
       "7   <keras.layers.convolutional.Conv2D object at 0...  block3_conv1   \n",
       "8   <keras.layers.convolutional.Conv2D object at 0...  block3_conv2   \n",
       "9   <keras.layers.convolutional.Conv2D object at 0...  block3_conv3   \n",
       "10  <keras.layers.pooling.MaxPooling2D object at 0...   block3_pool   \n",
       "11  <keras.layers.convolutional.Conv2D object at 0...  block4_conv1   \n",
       "12  <keras.layers.convolutional.Conv2D object at 0...  block4_conv2   \n",
       "13  <keras.layers.convolutional.Conv2D object at 0...  block4_conv3   \n",
       "14  <keras.layers.pooling.MaxPooling2D object at 0...   block4_pool   \n",
       "15  <keras.layers.convolutional.Conv2D object at 0...  block5_conv1   \n",
       "16  <keras.layers.convolutional.Conv2D object at 0...  block5_conv2   \n",
       "17  <keras.layers.convolutional.Conv2D object at 0...  block5_conv3   \n",
       "18  <keras.layers.pooling.MaxPooling2D object at 0...   block5_pool   \n",
       "19  <keras.layers.core.Flatten object at 0x7fc1c11...     flatten_1   \n",
       "\n",
       "    Layer Trainable  \n",
       "0             False  \n",
       "1             False  \n",
       "2             False  \n",
       "3             False  \n",
       "4             False  \n",
       "5             False  \n",
       "6             False  \n",
       "7             False  \n",
       "8             False  \n",
       "9             False  \n",
       "10            False  \n",
       "11             True  \n",
       "12             True  \n",
       "13             True  \n",
       "14             True  \n",
       "15             True  \n",
       "16             True  \n",
       "17             True  \n",
       "18             True  \n",
       "19             True  "
      ]
     },
     "execution_count": 10,
     "metadata": {},
     "output_type": "execute_result"
    }
   ],
   "source": [
    "vgg_model.trainable = True\n",
    "\n",
    "set_trainable = False\n",
    "for layer in vgg_model.layers:\n",
    "    if layer.name in ['block5_conv1', 'block4_conv1']:\n",
    "        set_trainable = True\n",
    "    if set_trainable:\n",
    "        layer.trainable = True\n",
    "    else:\n",
    "        layer.trainable = False\n",
    "        \n",
    "layers = [(layer, layer.name, layer.trainable) for layer in vgg_model.layers]\n",
    "pd.DataFrame(layers, columns=['Layer Type', 'Layer Name', 'Layer Trainable']) "
   ]
  },
  {
   "cell_type": "code",
   "execution_count": 11,
   "metadata": {},
   "outputs": [],
   "source": [
    "batch_size = 30 #number of images passed to the operation in every iteration\n",
    "num_classes = len(np.array(np.unique(true_labels))) # target class\n",
    "epochs = 30  #30 #number of times the entire dataset has gone through the neural network"
   ]
  },
  {
   "cell_type": "code",
   "execution_count": 17,
   "metadata": {
    "scrolled": true
   },
   "outputs": [
    {
     "name": "stdout",
     "output_type": "stream",
     "text": [
      "WARNING:tensorflow:From /home/bengikoseoglu/environments/my_env/lib/python3.7/site-packages/tensorflow/python/ops/math_ops.py:3066: to_int32 (from tensorflow.python.ops.math_ops) is deprecated and will be removed in a future version.\n",
      "Instructions for updating:\n",
      "Use tf.cast instead.\n",
      "Train on 7286 samples, validate on 1822 samples\n",
      "Epoch 1/30\n",
      "7286/7286 [==============================] - 1439s 197ms/step - loss: 4.1176 - acc: 0.0166 - val_loss: 4.0938 - val_acc: 0.0203\n",
      "Epoch 2/30\n",
      "7286/7286 [==============================] - 1430s 196ms/step - loss: 4.0950 - acc: 0.0225 - val_loss: 4.0942 - val_acc: 0.0220\n",
      "Epoch 3/30\n",
      "7286/7286 [==============================] - 1426s 196ms/step - loss: 4.0943 - acc: 0.0225 - val_loss: 4.0941 - val_acc: 0.0220\n",
      "Epoch 4/30\n",
      "7286/7286 [==============================] - 1425s 196ms/step - loss: 4.0939 - acc: 0.0242 - val_loss: 4.0940 - val_acc: 0.0220\n",
      "Epoch 5/30\n",
      "7286/7286 [==============================] - 1427s 196ms/step - loss: 4.0938 - acc: 0.0211 - val_loss: 4.0938 - val_acc: 0.0220\n",
      "Epoch 6/30\n",
      "7286/7286 [==============================] - 1432s 197ms/step - loss: 4.0936 - acc: 0.0235 - val_loss: 4.0937 - val_acc: 0.0220\n",
      "Epoch 7/30\n",
      "7286/7286 [==============================] - 1428s 196ms/step - loss: 4.0934 - acc: 0.0217 - val_loss: 4.0936 - val_acc: 0.0220\n",
      "Epoch 8/30\n",
      "7286/7286 [==============================] - 1427s 196ms/step - loss: 4.0933 - acc: 0.0224 - val_loss: 4.0934 - val_acc: 0.0220\n",
      "Epoch 9/30\n",
      "7286/7286 [==============================] - 1429s 196ms/step - loss: 4.0930 - acc: 0.0217 - val_loss: 4.0933 - val_acc: 0.0220\n",
      "Epoch 10/30\n",
      "7286/7286 [==============================] - 1430s 196ms/step - loss: 4.0928 - acc: 0.0205 - val_loss: 4.0931 - val_acc: 0.0220\n",
      "Epoch 11/30\n",
      "7286/7286 [==============================] - 1432s 197ms/step - loss: 4.0925 - acc: 0.0231 - val_loss: 4.0929 - val_acc: 0.0220\n",
      "Epoch 12/30\n",
      "7286/7286 [==============================] - 1432s 197ms/step - loss: 4.0924 - acc: 0.0221 - val_loss: 4.0928 - val_acc: 0.0220\n",
      "Epoch 13/30\n",
      "7286/7286 [==============================] - 1433s 197ms/step - loss: 4.0921 - acc: 0.0209 - val_loss: 4.0926 - val_acc: 0.0220\n",
      "Epoch 14/30\n",
      "7286/7286 [==============================] - 1430s 196ms/step - loss: 4.0919 - acc: 0.0215 - val_loss: 4.0924 - val_acc: 0.0220\n",
      "Epoch 15/30\n",
      "7286/7286 [==============================] - 1431s 196ms/step - loss: 4.0917 - acc: 0.0209 - val_loss: 4.0922 - val_acc: 0.0220\n",
      "Epoch 16/30\n",
      "7286/7286 [==============================] - 1436s 197ms/step - loss: 4.0913 - acc: 0.0209 - val_loss: 4.0921 - val_acc: 0.0220\n",
      "Epoch 17/30\n",
      "7286/7286 [==============================] - 1450s 199ms/step - loss: 4.0912 - acc: 0.0225 - val_loss: 4.0919 - val_acc: 0.0220\n",
      "Epoch 18/30\n",
      "7286/7286 [==============================] - 1444s 198ms/step - loss: 4.0909 - acc: 0.0222 - val_loss: 4.0917 - val_acc: 0.0220\n",
      "Epoch 19/30\n",
      "7286/7286 [==============================] - 1445s 198ms/step - loss: 4.0908 - acc: 0.0218 - val_loss: 4.0916 - val_acc: 0.0220\n",
      "Epoch 20/30\n",
      "7286/7286 [==============================] - 1435s 197ms/step - loss: 4.0904 - acc: 0.0240 - val_loss: 4.0914 - val_acc: 0.0220\n",
      "Epoch 21/30\n",
      "7286/7286 [==============================] - 1429s 196ms/step - loss: 4.0900 - acc: 0.0225 - val_loss: 4.0913 - val_acc: 0.0220\n",
      "Epoch 22/30\n",
      "7286/7286 [==============================] - 1428s 196ms/step - loss: 4.0901 - acc: 0.0242 - val_loss: 4.0912 - val_acc: 0.0220\n",
      "Epoch 23/30\n",
      "7286/7286 [==============================] - 1429s 196ms/step - loss: 4.0897 - acc: 0.0235 - val_loss: 4.0911 - val_acc: 0.0220\n",
      "Epoch 24/30\n",
      "7286/7286 [==============================] - 1429s 196ms/step - loss: 4.0894 - acc: 0.0231 - val_loss: 4.0910 - val_acc: 0.0220\n",
      "Epoch 25/30\n",
      "7286/7286 [==============================] - 1428s 196ms/step - loss: 4.0895 - acc: 0.0222 - val_loss: 4.0909 - val_acc: 0.0220\n",
      "Epoch 26/30\n",
      "7286/7286 [==============================] - 1432s 196ms/step - loss: 4.0890 - acc: 0.0222 - val_loss: 4.0909 - val_acc: 0.0220\n",
      "Epoch 27/30\n",
      "7286/7286 [==============================] - 1436s 197ms/step - loss: 4.0887 - acc: 0.0235 - val_loss: 4.0908 - val_acc: 0.0220\n",
      "Epoch 28/30\n",
      "7286/7286 [==============================] - 1436s 197ms/step - loss: 4.0889 - acc: 0.0246 - val_loss: 4.0908 - val_acc: 0.0220\n",
      "Epoch 29/30\n",
      "7286/7286 [==============================] - 1425s 196ms/step - loss: 4.0884 - acc: 0.0233 - val_loss: 4.0908 - val_acc: 0.0220\n",
      "Epoch 30/30\n",
      "7286/7286 [==============================] - 1434s 197ms/step - loss: 4.0887 - acc: 0.0232 - val_loss: 4.0908 - val_acc: 0.0220\n"
     ]
    }
   ],
   "source": [
    "model = Sequential()\n",
    "model.add(vgg_model)\n",
    "model.add(Dense(512, activation='relu', input_dim=input_shape))\n",
    "model.add(Dropout(0.3))\n",
    "model.add(Dense(512, activation='relu'))\n",
    "model.add(Dropout(0.3))\n",
    "model.add(Dense(len(np.array(np.unique(true_labels))), activation='softmax'))\n",
    "\n",
    "model.compile(loss='categorical_crossentropy',\n",
    "              optimizer=optimizers.RMSprop(lr=2e-5),\n",
    "              metrics=['accuracy'])\n",
    "              \n",
    "    \n",
    "history = model.fit(x=X_train, y=y_train,\n",
    "                    validation_data=(X_val, y_val),\n",
    "                    batch_size=batch_size,\n",
    "                    epochs=epochs,\n",
    "                    verbose=1)\n",
    "\n",
    "#history = model.fit_generator(train_generator, steps_per_epoch=100, epochs=20,\n",
    "#                              validation_data=val_generator, validation_steps=50, \n",
    "#                              verbose=1)              "
   ]
  },
  {
   "cell_type": "markdown",
   "metadata": {},
   "source": [
    "- See accuracy in test dataset & double check other accuracies"
   ]
  },
  {
   "cell_type": "code",
   "execution_count": 18,
   "metadata": {},
   "outputs": [
    {
     "name": "stdout",
     "output_type": "stream",
     "text": [
      "(2278, 60)\n",
      "[26]\n",
      "0.01887620719929763\n"
     ]
    }
   ],
   "source": [
    "# test\n",
    "#train_features_vgg = get_bottleneck_features(vgg_model, X_train)\n",
    "#validation_features_vgg = get_bottleneck_features(vgg_model, X_val)\n",
    "#test_features_vgg = get_bottleneck_features(vgg_model, X_test)\n",
    "\n",
    "y_test_model = model.predict_classes(X_test)\n",
    "y_test_model_prob=model.predict_proba(X_test)\n",
    "print(y_test_model_prob.shape)\n",
    "y_test_true_flat=redo_kreas_category(y_test)\n",
    "print(np.unique(y_test_model))\n",
    "print(accuracy_score(y_test_model, y_test_true_flat))"
   ]
  },
  {
   "cell_type": "code",
   "execution_count": 19,
   "metadata": {},
   "outputs": [
    {
     "name": "stdout",
     "output_type": "stream",
     "text": [
      "(1822, 60)\n",
      "[26]\n",
      "0.021953896816684963\n"
     ]
    }
   ],
   "source": [
    "# validation\n",
    "y_val_model = model.predict_classes(X_val)\n",
    "y_val_model_prob=model.predict_proba(X_val)\n",
    "print(y_val_model_prob.shape)\n",
    "y_val_true_flat=redo_kreas_category(y_val)\n",
    "print(np.unique(y_val_model))\n",
    "print(accuracy_score(y_val_model, y_val_true_flat))"
   ]
  },
  {
   "cell_type": "code",
   "execution_count": 20,
   "metadata": {},
   "outputs": [
    {
     "name": "stdout",
     "output_type": "stream",
     "text": [
      "(7286, 60)\n",
      "[26]\n",
      "0.02319516881690914\n"
     ]
    }
   ],
   "source": [
    "# train\n",
    "y_train_model = model.predict_classes(X_train)\n",
    "y_train_model_prob=model.predict_proba(X_train)\n",
    "print(y_train_model_prob.shape)\n",
    "y_train_true_flat=redo_kreas_category(y_train)\n",
    "print(np.unique(y_train_model))\n",
    "print(accuracy_score(y_train_model, y_train_true_flat))"
   ]
  },
  {
   "cell_type": "markdown",
   "metadata": {},
   "source": [
    "- Graphs"
   ]
  },
  {
   "cell_type": "code",
   "execution_count": 21,
   "metadata": {},
   "outputs": [
    {
     "data": {
      "image/png": "[encoded data removed]",
      "text/plain": [
       "<Figure size 864x288 with 2 Axes>"
      ]
     },
     "metadata": {
      "needs_background": "light"
     },
     "output_type": "display_data"
    }
   ],
   "source": [
    "f, (ax1, ax2) = plt.subplots(1, 2, figsize=(12, 4))\n",
    "t = f.suptitle('Basic CNN Performance', fontsize=12)\n",
    "f.subplots_adjust(top=0.85, wspace=0.3)\n",
    "\n",
    "epoch_list = list(range(1,len(history.history['acc'])+1))\n",
    "ax1.plot(epoch_list, history.history['acc'], label='Train Accuracy')\n",
    "ax1.plot(epoch_list, history.history['val_acc'], label='Validation Accuracy')\n",
    "ax1.set_xticks(np.arange(0, epochs, 5))\n",
    "ax1.set_ylabel('Accuracy Value')\n",
    "ax1.set_xlabel('Epoch')\n",
    "ax1.set_title('Accuracy')\n",
    "l1 = ax1.legend(loc=\"best\")\n",
    "\n",
    "ax2.plot(epoch_list, history.history['loss'], label='Train Loss')\n",
    "ax2.plot(epoch_list, history.history['val_loss'], label='Validation Loss')\n",
    "ax2.set_xticks(np.arange(0, epochs, 5))\n",
    "ax2.set_ylabel('Loss Value')\n",
    "ax2.set_xlabel('Epoch')\n",
    "ax2.set_title('Loss')\n",
    "l2 = ax2.legend(loc=\"best\")"
   ]
  },
  {
   "cell_type": "markdown",
   "metadata": {},
   "source": [
    "Overfitting?"
   ]
  }
 ],
 "metadata": {
  "kernelspec": {
   "display_name": "Python 3",
   "language": "python",
   "name": "python3"
  },
  "language_info": {
   "codemirror_mode": {
    "name": "ipython",
    "version": 3
   },
   "file_extension": ".py",
   "mimetype": "text/x-python",
   "name": "python",
   "nbconvert_exporter": "python",
   "pygments_lexer": "ipython3",
   "version": "3.7.3"
  }
 },
 "nbformat": 4,
 "nbformat_minor": 2
}
